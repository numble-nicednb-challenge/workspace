{
 "cells": [
  {
   "cell_type": "markdown",
   "metadata": {},
   "source": [
    "# 1. 필요한 라이브러리 불러오기"
   ]
  },
  {
   "cell_type": "code",
   "execution_count": 795,
   "metadata": {},
   "outputs": [],
   "source": [
    "import pandas as pd\n",
    "import numpy as np\n",
    "\n",
    "import seaborn as sns\n",
    "import matplotlib as mpl\n",
    "import matplotlib.pyplot as plt\n",
    "\n",
    "# 폰트 및 스타일 설정\n",
    "plt.rc(\"font\", family = \"Malgun Gothic\")\n",
    "sns.set(font=\"Malgun Gothic\", rc={\"axes.unicode_minus\":False}, style='white')\n",
    "%matplotlib inline\n",
    "\n",
    "# row 생략 없이 출력\n",
    "pd.set_option('display.max_rows', None)\n",
    "# col 생략 없이 출력\n",
    "pd.set_option('display.max_columns', None)"
   ]
  },
  {
   "cell_type": "markdown",
   "metadata": {},
   "source": [
    "# 1. 데이터 불러오기"
   ]
  },
  {
   "cell_type": "code",
   "execution_count": 799,
   "metadata": {},
   "outputs": [],
   "source": [
    "df = pd.read_csv('./custom_data/base_data.csv', encoding='cp949')"
   ]
  },
  {
   "cell_type": "code",
   "execution_count": 798,
   "metadata": {},
   "outputs": [],
   "source": [
    "indurstry = pd.read_csv('./custom_data/feature_engineering_idurstry_code.csv', encoding='cp949')"
   ]
  },
  {
   "cell_type": "code",
   "execution_count": 115,
   "metadata": {},
   "outputs": [],
   "source": [
    "df = pd.merge(df, indurstry[['사업자등록번호', '업종중분류', '업종대분류']], on='사업자등록번호', how='left')"
   ]
  },
  {
   "cell_type": "code",
   "execution_count": 116,
   "metadata": {},
   "outputs": [
    {
     "name": "stdout",
     "output_type": "stream",
     "text": [
      "데이터의 크기: (109142, 80)\n"
     ]
    }
   ],
   "source": [
    "print(f\"데이터의 크기: {df.shape}\")"
   ]
  },
  {
   "cell_type": "code",
   "execution_count": 117,
   "metadata": {},
   "outputs": [
    {
     "data": {
      "text/plain": [
       "Index(['사업자등록번호', '결산년월', '유동자산', '매출채권', '비유동자산', '유형자산', '자산총계', '유동부채',\n",
       "       '비유동부채', '부  채  총  계', '자본금', '이익잉여금(결손금）', '자본총계', '매출액', '판매비와관리비',\n",
       "       '영업이익（손실）', '법인세비용차감전순손익', '법인세비용', '당기순이익(손실)', '기업순이익률(%)',\n",
       "       '유보액/총자산(%)', '유보액/납입자본(%)', '매출액총이익률(%)', '매출액영업이익률(%)', '매출액순이익률(%)',\n",
       "       '수지비율(%)', '경상수지비율', '영업비율(%)', '금융비용대매출액비율(%', '금융비용대부채비율(%)',\n",
       "       '금융비용대총비용비율(%', '부채비율(%)', '차입금의존도(%)', '자기자본비율(%)', '순운전자본비율(%)',\n",
       "       '유동부채비율(%)', '비유동부채비율(%)', '부채총계대 매출액(%)', '총자본회전율(회)', '재고자산회전율(회)',\n",
       "       '매출채권회전율(회)', '매입채무회전율(회)', '미수금', '매출원가', '무형자산', '재고자산', '기업접두명',\n",
       "       '기업명', '기업접미명', '기업영문명', '업종', '기업규모', '공기업구분 1.공기업 2.일반기업',\n",
       "       '개인법인구분 1.법인 2.개인', '본점지점구분 1.본점 2.지점', '국외투자법인여부', '벤처기업여부', '상장코드',\n",
       "       '산업코드차수', '산업코드1', '산업코드2', '산업코드3', '공공기관유형', '중견기업보호여부', '본점기업코드',\n",
       "       '설립일자', '설립구분', '상장일자', '주요사업내용', '국가명', '홈페이지URL', '대표자명', '직원수',\n",
       "       '종료일자', '시작일자', '휴폐업구분', '상태발생일자', '업종중분류', '업종대분류', '시도'],\n",
       "      dtype='object')"
      ]
     },
     "execution_count": 117,
     "metadata": {},
     "output_type": "execute_result"
    }
   ],
   "source": [
    "df.columns"
   ]
  },
  {
   "cell_type": "markdown",
   "metadata": {},
   "source": [
    "# 2. Preprocessing & EDA"
   ]
  },
  {
   "cell_type": "code",
   "execution_count": 118,
   "metadata": {},
   "outputs": [],
   "source": [
    "def resumetable(df):\n",
    "    \"\"\"\n",
    "    데이터를 한눈에 파악하기 쉽도록 피처요약표를 생성하는 함수입니다.\n",
    "    ---------------------------------------\n",
    "    input = 데이터프레임\n",
    "    retrun  = 피처요약표(데이터프레임)\n",
    "    ---------------------------------------\n",
    "    \"\"\"\n",
    "    summary = pd.DataFrame(df.dtypes, columns=['데이터 타입'])\n",
    "    summary['결측값 개수'] = df.isna().sum().values\n",
    "    summary['고윳값 개수'] = df.nunique().values\n",
    "    \n",
    "    return summary"
   ]
  },
  {
   "cell_type": "code",
   "execution_count": 119,
   "metadata": {},
   "outputs": [
    {
     "data": {
      "text/html": [
       "<div>\n",
       "<style scoped>\n",
       "    .dataframe tbody tr th:only-of-type {\n",
       "        vertical-align: middle;\n",
       "    }\n",
       "\n",
       "    .dataframe tbody tr th {\n",
       "        vertical-align: top;\n",
       "    }\n",
       "\n",
       "    .dataframe thead th {\n",
       "        text-align: right;\n",
       "    }\n",
       "</style>\n",
       "<table border=\"1\" class=\"dataframe\">\n",
       "  <thead>\n",
       "    <tr style=\"text-align: right;\">\n",
       "      <th></th>\n",
       "      <th>데이터 타입</th>\n",
       "      <th>결측값 개수</th>\n",
       "      <th>고윳값 개수</th>\n",
       "    </tr>\n",
       "  </thead>\n",
       "  <tbody>\n",
       "    <tr>\n",
       "      <th>사업자등록번호</th>\n",
       "      <td>int64</td>\n",
       "      <td>0</td>\n",
       "      <td>35709</td>\n",
       "    </tr>\n",
       "    <tr>\n",
       "      <th>결산년월</th>\n",
       "      <td>int64</td>\n",
       "      <td>0</td>\n",
       "      <td>54</td>\n",
       "    </tr>\n",
       "    <tr>\n",
       "      <th>유동자산</th>\n",
       "      <td>float64</td>\n",
       "      <td>999</td>\n",
       "      <td>102924</td>\n",
       "    </tr>\n",
       "    <tr>\n",
       "      <th>매출채권</th>\n",
       "      <td>float64</td>\n",
       "      <td>18010</td>\n",
       "      <td>84378</td>\n",
       "    </tr>\n",
       "    <tr>\n",
       "      <th>비유동자산</th>\n",
       "      <td>float64</td>\n",
       "      <td>2025</td>\n",
       "      <td>100547</td>\n",
       "    </tr>\n",
       "    <tr>\n",
       "      <th>유형자산</th>\n",
       "      <td>float64</td>\n",
       "      <td>7244</td>\n",
       "      <td>94320</td>\n",
       "    </tr>\n",
       "    <tr>\n",
       "      <th>자산총계</th>\n",
       "      <td>float64</td>\n",
       "      <td>989</td>\n",
       "      <td>103165</td>\n",
       "    </tr>\n",
       "    <tr>\n",
       "      <th>유동부채</th>\n",
       "      <td>float64</td>\n",
       "      <td>1144</td>\n",
       "      <td>102696</td>\n",
       "    </tr>\n",
       "    <tr>\n",
       "      <th>비유동부채</th>\n",
       "      <td>float64</td>\n",
       "      <td>11260</td>\n",
       "      <td>83283</td>\n",
       "    </tr>\n",
       "    <tr>\n",
       "      <th>부  채  총  계</th>\n",
       "      <td>float64</td>\n",
       "      <td>1070</td>\n",
       "      <td>102941</td>\n",
       "    </tr>\n",
       "    <tr>\n",
       "      <th>자본금</th>\n",
       "      <td>float64</td>\n",
       "      <td>1029</td>\n",
       "      <td>10569</td>\n",
       "    </tr>\n",
       "    <tr>\n",
       "      <th>이익잉여금(결손금）</th>\n",
       "      <td>float64</td>\n",
       "      <td>1273</td>\n",
       "      <td>102722</td>\n",
       "    </tr>\n",
       "    <tr>\n",
       "      <th>자본총계</th>\n",
       "      <td>float64</td>\n",
       "      <td>997</td>\n",
       "      <td>102999</td>\n",
       "    </tr>\n",
       "    <tr>\n",
       "      <th>매출액</th>\n",
       "      <td>float64</td>\n",
       "      <td>5408</td>\n",
       "      <td>97868</td>\n",
       "    </tr>\n",
       "    <tr>\n",
       "      <th>판매비와관리비</th>\n",
       "      <td>float64</td>\n",
       "      <td>1375</td>\n",
       "      <td>101915</td>\n",
       "    </tr>\n",
       "    <tr>\n",
       "      <th>영업이익（손실）</th>\n",
       "      <td>float64</td>\n",
       "      <td>1096</td>\n",
       "      <td>101943</td>\n",
       "    </tr>\n",
       "    <tr>\n",
       "      <th>법인세비용차감전순손익</th>\n",
       "      <td>float64</td>\n",
       "      <td>1280</td>\n",
       "      <td>101788</td>\n",
       "    </tr>\n",
       "    <tr>\n",
       "      <th>법인세비용</th>\n",
       "      <td>float64</td>\n",
       "      <td>35684</td>\n",
       "      <td>63180</td>\n",
       "    </tr>\n",
       "    <tr>\n",
       "      <th>당기순이익(손실)</th>\n",
       "      <td>float64</td>\n",
       "      <td>1049</td>\n",
       "      <td>101714</td>\n",
       "    </tr>\n",
       "    <tr>\n",
       "      <th>기업순이익률(%)</th>\n",
       "      <td>float64</td>\n",
       "      <td>33</td>\n",
       "      <td>33959</td>\n",
       "    </tr>\n",
       "    <tr>\n",
       "      <th>유보액/총자산(%)</th>\n",
       "      <td>float64</td>\n",
       "      <td>127</td>\n",
       "      <td>65538</td>\n",
       "    </tr>\n",
       "    <tr>\n",
       "      <th>유보액/납입자본(%)</th>\n",
       "      <td>float64</td>\n",
       "      <td>133</td>\n",
       "      <td>99861</td>\n",
       "    </tr>\n",
       "    <tr>\n",
       "      <th>매출액총이익률(%)</th>\n",
       "      <td>float64</td>\n",
       "      <td>660</td>\n",
       "      <td>44971</td>\n",
       "    </tr>\n",
       "    <tr>\n",
       "      <th>매출액영업이익률(%)</th>\n",
       "      <td>float64</td>\n",
       "      <td>659</td>\n",
       "      <td>44566</td>\n",
       "    </tr>\n",
       "    <tr>\n",
       "      <th>매출액순이익률(%)</th>\n",
       "      <td>float64</td>\n",
       "      <td>661</td>\n",
       "      <td>43021</td>\n",
       "    </tr>\n",
       "    <tr>\n",
       "      <th>수지비율(%)</th>\n",
       "      <td>float64</td>\n",
       "      <td>159</td>\n",
       "      <td>47996</td>\n",
       "    </tr>\n",
       "    <tr>\n",
       "      <th>경상수지비율</th>\n",
       "      <td>float64</td>\n",
       "      <td>5277</td>\n",
       "      <td>65566</td>\n",
       "    </tr>\n",
       "    <tr>\n",
       "      <th>영업비율(%)</th>\n",
       "      <td>float64</td>\n",
       "      <td>659</td>\n",
       "      <td>44530</td>\n",
       "    </tr>\n",
       "    <tr>\n",
       "      <th>금융비용대매출액비율(%</th>\n",
       "      <td>float64</td>\n",
       "      <td>2135</td>\n",
       "      <td>21074</td>\n",
       "    </tr>\n",
       "    <tr>\n",
       "      <th>금융비용대부채비율(%)</th>\n",
       "      <td>float64</td>\n",
       "      <td>94</td>\n",
       "      <td>7743</td>\n",
       "    </tr>\n",
       "    <tr>\n",
       "      <th>금융비용대총비용비율(%</th>\n",
       "      <td>float64</td>\n",
       "      <td>1743</td>\n",
       "      <td>21326</td>\n",
       "    </tr>\n",
       "    <tr>\n",
       "      <th>부채비율(%)</th>\n",
       "      <td>float64</td>\n",
       "      <td>121</td>\n",
       "      <td>81131</td>\n",
       "    </tr>\n",
       "    <tr>\n",
       "      <th>차입금의존도(%)</th>\n",
       "      <td>float64</td>\n",
       "      <td>376</td>\n",
       "      <td>57048</td>\n",
       "    </tr>\n",
       "    <tr>\n",
       "      <th>자기자본비율(%)</th>\n",
       "      <td>float64</td>\n",
       "      <td>119</td>\n",
       "      <td>51140</td>\n",
       "    </tr>\n",
       "    <tr>\n",
       "      <th>순운전자본비율(%)</th>\n",
       "      <td>float64</td>\n",
       "      <td>119</td>\n",
       "      <td>68305</td>\n",
       "    </tr>\n",
       "    <tr>\n",
       "      <th>유동부채비율(%)</th>\n",
       "      <td>float64</td>\n",
       "      <td>132</td>\n",
       "      <td>68620</td>\n",
       "    </tr>\n",
       "    <tr>\n",
       "      <th>비유동부채비율(%)</th>\n",
       "      <td>float64</td>\n",
       "      <td>993</td>\n",
       "      <td>53888</td>\n",
       "    </tr>\n",
       "    <tr>\n",
       "      <th>부채총계대 매출액(%)</th>\n",
       "      <td>float64</td>\n",
       "      <td>624</td>\n",
       "      <td>75834</td>\n",
       "    </tr>\n",
       "    <tr>\n",
       "      <th>총자본회전율(회)</th>\n",
       "      <td>float64</td>\n",
       "      <td>15</td>\n",
       "      <td>6992</td>\n",
       "    </tr>\n",
       "    <tr>\n",
       "      <th>재고자산회전율(회)</th>\n",
       "      <td>float64</td>\n",
       "      <td>14</td>\n",
       "      <td>36516</td>\n",
       "    </tr>\n",
       "    <tr>\n",
       "      <th>매출채권회전율(회)</th>\n",
       "      <td>float64</td>\n",
       "      <td>2068</td>\n",
       "      <td>31313</td>\n",
       "    </tr>\n",
       "    <tr>\n",
       "      <th>매입채무회전율(회)</th>\n",
       "      <td>float64</td>\n",
       "      <td>3376</td>\n",
       "      <td>40434</td>\n",
       "    </tr>\n",
       "    <tr>\n",
       "      <th>미수금</th>\n",
       "      <td>float64</td>\n",
       "      <td>27548</td>\n",
       "      <td>55783</td>\n",
       "    </tr>\n",
       "    <tr>\n",
       "      <th>매출원가</th>\n",
       "      <td>float64</td>\n",
       "      <td>17769</td>\n",
       "      <td>86284</td>\n",
       "    </tr>\n",
       "    <tr>\n",
       "      <th>무형자산</th>\n",
       "      <td>float64</td>\n",
       "      <td>53849</td>\n",
       "      <td>38778</td>\n",
       "    </tr>\n",
       "    <tr>\n",
       "      <th>재고자산</th>\n",
       "      <td>float64</td>\n",
       "      <td>29366</td>\n",
       "      <td>73327</td>\n",
       "    </tr>\n",
       "    <tr>\n",
       "      <th>기업접두명</th>\n",
       "      <td>object</td>\n",
       "      <td>38302</td>\n",
       "      <td>4</td>\n",
       "    </tr>\n",
       "    <tr>\n",
       "      <th>기업명</th>\n",
       "      <td>object</td>\n",
       "      <td>0</td>\n",
       "      <td>33529</td>\n",
       "    </tr>\n",
       "    <tr>\n",
       "      <th>기업접미명</th>\n",
       "      <td>object</td>\n",
       "      <td>73655</td>\n",
       "      <td>4</td>\n",
       "    </tr>\n",
       "    <tr>\n",
       "      <th>기업영문명</th>\n",
       "      <td>object</td>\n",
       "      <td>93</td>\n",
       "      <td>34578</td>\n",
       "    </tr>\n",
       "    <tr>\n",
       "      <th>업종</th>\n",
       "      <td>object</td>\n",
       "      <td>0</td>\n",
       "      <td>8</td>\n",
       "    </tr>\n",
       "    <tr>\n",
       "      <th>기업규모</th>\n",
       "      <td>object</td>\n",
       "      <td>0</td>\n",
       "      <td>1</td>\n",
       "    </tr>\n",
       "    <tr>\n",
       "      <th>공기업구분 1.공기업 2.일반기업</th>\n",
       "      <td>object</td>\n",
       "      <td>0</td>\n",
       "      <td>2</td>\n",
       "    </tr>\n",
       "    <tr>\n",
       "      <th>개인법인구분 1.법인 2.개인</th>\n",
       "      <td>object</td>\n",
       "      <td>0</td>\n",
       "      <td>1</td>\n",
       "    </tr>\n",
       "    <tr>\n",
       "      <th>본점지점구분 1.본점 2.지점</th>\n",
       "      <td>object</td>\n",
       "      <td>0</td>\n",
       "      <td>2</td>\n",
       "    </tr>\n",
       "    <tr>\n",
       "      <th>국외투자법인여부</th>\n",
       "      <td>object</td>\n",
       "      <td>0</td>\n",
       "      <td>2</td>\n",
       "    </tr>\n",
       "    <tr>\n",
       "      <th>벤처기업여부</th>\n",
       "      <td>object</td>\n",
       "      <td>0</td>\n",
       "      <td>2</td>\n",
       "    </tr>\n",
       "    <tr>\n",
       "      <th>상장코드</th>\n",
       "      <td>object</td>\n",
       "      <td>108713</td>\n",
       "      <td>134</td>\n",
       "    </tr>\n",
       "    <tr>\n",
       "      <th>산업코드차수</th>\n",
       "      <td>float64</td>\n",
       "      <td>19</td>\n",
       "      <td>1</td>\n",
       "    </tr>\n",
       "    <tr>\n",
       "      <th>산업코드1</th>\n",
       "      <td>float64</td>\n",
       "      <td>184</td>\n",
       "      <td>1411</td>\n",
       "    </tr>\n",
       "    <tr>\n",
       "      <th>산업코드2</th>\n",
       "      <td>float64</td>\n",
       "      <td>104154</td>\n",
       "      <td>432</td>\n",
       "    </tr>\n",
       "    <tr>\n",
       "      <th>산업코드3</th>\n",
       "      <td>float64</td>\n",
       "      <td>108067</td>\n",
       "      <td>138</td>\n",
       "    </tr>\n",
       "    <tr>\n",
       "      <th>공공기관유형</th>\n",
       "      <td>object</td>\n",
       "      <td>0</td>\n",
       "      <td>3</td>\n",
       "    </tr>\n",
       "    <tr>\n",
       "      <th>중견기업보호여부</th>\n",
       "      <td>object</td>\n",
       "      <td>0</td>\n",
       "      <td>2</td>\n",
       "    </tr>\n",
       "    <tr>\n",
       "      <th>본점기업코드</th>\n",
       "      <td>float64</td>\n",
       "      <td>103539</td>\n",
       "      <td>2468</td>\n",
       "    </tr>\n",
       "    <tr>\n",
       "      <th>설립일자</th>\n",
       "      <td>float64</td>\n",
       "      <td>1975</td>\n",
       "      <td>9899</td>\n",
       "    </tr>\n",
       "    <tr>\n",
       "      <th>설립구분</th>\n",
       "      <td>object</td>\n",
       "      <td>0</td>\n",
       "      <td>8</td>\n",
       "    </tr>\n",
       "    <tr>\n",
       "      <th>상장일자</th>\n",
       "      <td>float64</td>\n",
       "      <td>108425</td>\n",
       "      <td>190</td>\n",
       "    </tr>\n",
       "    <tr>\n",
       "      <th>주요사업내용</th>\n",
       "      <td>object</td>\n",
       "      <td>403</td>\n",
       "      <td>24118</td>\n",
       "    </tr>\n",
       "    <tr>\n",
       "      <th>국가명</th>\n",
       "      <td>object</td>\n",
       "      <td>102570</td>\n",
       "      <td>64</td>\n",
       "    </tr>\n",
       "    <tr>\n",
       "      <th>홈페이지URL</th>\n",
       "      <td>object</td>\n",
       "      <td>40109</td>\n",
       "      <td>17619</td>\n",
       "    </tr>\n",
       "    <tr>\n",
       "      <th>대표자명</th>\n",
       "      <td>object</td>\n",
       "      <td>2</td>\n",
       "      <td>22987</td>\n",
       "    </tr>\n",
       "    <tr>\n",
       "      <th>직원수</th>\n",
       "      <td>float64</td>\n",
       "      <td>1649</td>\n",
       "      <td>759</td>\n",
       "    </tr>\n",
       "    <tr>\n",
       "      <th>종료일자</th>\n",
       "      <td>float64</td>\n",
       "      <td>97718</td>\n",
       "      <td>1</td>\n",
       "    </tr>\n",
       "    <tr>\n",
       "      <th>시작일자</th>\n",
       "      <td>float64</td>\n",
       "      <td>97718</td>\n",
       "      <td>710</td>\n",
       "    </tr>\n",
       "    <tr>\n",
       "      <th>휴폐업구분</th>\n",
       "      <td>object</td>\n",
       "      <td>97718</td>\n",
       "      <td>4</td>\n",
       "    </tr>\n",
       "    <tr>\n",
       "      <th>상태발생일자</th>\n",
       "      <td>float64</td>\n",
       "      <td>98892</td>\n",
       "      <td>932</td>\n",
       "    </tr>\n",
       "    <tr>\n",
       "      <th>업종중분류</th>\n",
       "      <td>object</td>\n",
       "      <td>0</td>\n",
       "      <td>68</td>\n",
       "    </tr>\n",
       "    <tr>\n",
       "      <th>업종대분류</th>\n",
       "      <td>object</td>\n",
       "      <td>0</td>\n",
       "      <td>18</td>\n",
       "    </tr>\n",
       "    <tr>\n",
       "      <th>시도</th>\n",
       "      <td>object</td>\n",
       "      <td>6800</td>\n",
       "      <td>17</td>\n",
       "    </tr>\n",
       "  </tbody>\n",
       "</table>\n",
       "</div>"
      ],
      "text/plain": [
       "                     데이터 타입  결측값 개수  고윳값 개수\n",
       "사업자등록번호               int64       0   35709\n",
       "결산년월                  int64       0      54\n",
       "유동자산                float64     999  102924\n",
       "매출채권                float64   18010   84378\n",
       "비유동자산               float64    2025  100547\n",
       "유형자산                float64    7244   94320\n",
       "자산총계                float64     989  103165\n",
       "유동부채                float64    1144  102696\n",
       "비유동부채               float64   11260   83283\n",
       "부  채  총  계          float64    1070  102941\n",
       "자본금                 float64    1029   10569\n",
       "이익잉여금(결손금）          float64    1273  102722\n",
       "자본총계                float64     997  102999\n",
       "매출액                 float64    5408   97868\n",
       "판매비와관리비             float64    1375  101915\n",
       "영업이익（손실）            float64    1096  101943\n",
       "법인세비용차감전순손익         float64    1280  101788\n",
       "법인세비용               float64   35684   63180\n",
       "당기순이익(손실)           float64    1049  101714\n",
       "기업순이익률(%)           float64      33   33959\n",
       "유보액/총자산(%)          float64     127   65538\n",
       "유보액/납입자본(%)         float64     133   99861\n",
       "매출액총이익률(%)          float64     660   44971\n",
       "매출액영업이익률(%)         float64     659   44566\n",
       "매출액순이익률(%)          float64     661   43021\n",
       "수지비율(%)             float64     159   47996\n",
       "경상수지비율              float64    5277   65566\n",
       "영업비율(%)             float64     659   44530\n",
       "금융비용대매출액비율(%        float64    2135   21074\n",
       "금융비용대부채비율(%)        float64      94    7743\n",
       "금융비용대총비용비율(%        float64    1743   21326\n",
       "부채비율(%)             float64     121   81131\n",
       "차입금의존도(%)           float64     376   57048\n",
       "자기자본비율(%)           float64     119   51140\n",
       "순운전자본비율(%)          float64     119   68305\n",
       "유동부채비율(%)           float64     132   68620\n",
       "비유동부채비율(%)          float64     993   53888\n",
       "부채총계대 매출액(%)        float64     624   75834\n",
       "총자본회전율(회)           float64      15    6992\n",
       "재고자산회전율(회)          float64      14   36516\n",
       "매출채권회전율(회)          float64    2068   31313\n",
       "매입채무회전율(회)          float64    3376   40434\n",
       "미수금                 float64   27548   55783\n",
       "매출원가                float64   17769   86284\n",
       "무형자산                float64   53849   38778\n",
       "재고자산                float64   29366   73327\n",
       "기업접두명                object   38302       4\n",
       "기업명                  object       0   33529\n",
       "기업접미명                object   73655       4\n",
       "기업영문명                object      93   34578\n",
       "업종                   object       0       8\n",
       "기업규모                 object       0       1\n",
       "공기업구분 1.공기업 2.일반기업   object       0       2\n",
       "개인법인구분 1.법인 2.개인     object       0       1\n",
       "본점지점구분 1.본점 2.지점     object       0       2\n",
       "국외투자법인여부             object       0       2\n",
       "벤처기업여부               object       0       2\n",
       "상장코드                 object  108713     134\n",
       "산업코드차수              float64      19       1\n",
       "산업코드1               float64     184    1411\n",
       "산업코드2               float64  104154     432\n",
       "산업코드3               float64  108067     138\n",
       "공공기관유형               object       0       3\n",
       "중견기업보호여부             object       0       2\n",
       "본점기업코드              float64  103539    2468\n",
       "설립일자                float64    1975    9899\n",
       "설립구분                 object       0       8\n",
       "상장일자                float64  108425     190\n",
       "주요사업내용               object     403   24118\n",
       "국가명                  object  102570      64\n",
       "홈페이지URL              object   40109   17619\n",
       "대표자명                 object       2   22987\n",
       "직원수                 float64    1649     759\n",
       "종료일자                float64   97718       1\n",
       "시작일자                float64   97718     710\n",
       "휴폐업구분                object   97718       4\n",
       "상태발생일자              float64   98892     932\n",
       "업종중분류                object       0      68\n",
       "업종대분류                object       0      18\n",
       "시도                   object    6800      17"
      ]
     },
     "execution_count": 119,
     "metadata": {},
     "output_type": "execute_result"
    }
   ],
   "source": [
    "resume_table = resumetable(df)\n",
    "resume_table"
   ]
  },
  {
   "cell_type": "markdown",
   "metadata": {},
   "source": [
    "- 비재무 데이터 중에서 명목형이면서 고윳값이 너무 많은 데이터들이 많다.\n",
    "- 우선, 고윳값이 3개 이하인 피처들을 먼저 확인한다."
   ]
  },
  {
   "cell_type": "markdown",
   "metadata": {},
   "source": [
    "## 2.1. 명목형 피처 고윳값 확인"
   ]
  },
  {
   "cell_type": "code",
   "execution_count": 120,
   "metadata": {},
   "outputs": [
    {
     "name": "stdout",
     "output_type": "stream",
     "text": [
      "기업규모 피처의 고윳값은 ['중소기업'] 입니다.\n",
      "공기업구분 1.공기업 2.일반기업 피처의 고윳값은 ['일반기업' '공기업'] 입니다.\n",
      "개인법인구분 1.법인 2.개인 피처의 고윳값은 ['법인'] 입니다.\n",
      "본점지점구분 1.본점 2.지점 피처의 고윳값은 ['본점' '지점'] 입니다.\n",
      "국외투자법인여부 피처의 고윳값은 ['N' 'Y'] 입니다.\n",
      "벤처기업여부 피처의 고윳값은 ['N' 'Y'] 입니다.\n",
      "산업코드차수 피처의 고윳값은 [10. nan] 입니다.\n",
      "공공기관유형 피처의 고윳값은 ['해당사항없음' '지자체공단/공사' '공기업/준정부기관'] 입니다.\n",
      "중견기업보호여부 피처의 고윳값은 ['N' 'Y'] 입니다.\n",
      "종료일자 피처의 고윳값은 [      nan 99991231.] 입니다.\n"
     ]
    }
   ],
   "source": [
    "# 고윳값이 3개 이하인 피처 확인\n",
    "eigenvalue_under_three = resume_table.loc[resume_table['고윳값 개수'] <= 3].index\n",
    "\n",
    "for i in eigenvalue_under_three:\n",
    "    print(f'{i} 피처의 고윳값은 {df[i].unique()} 입니다.')"
   ]
  },
  {
   "cell_type": "markdown",
   "metadata": {},
   "source": [
    "- 고윳값이 하나인 피처들은 분석과 예측력 향상에 도움이 되지 않으므로 제거하도록 하자.\n",
    "    - 기업규모, 개인법인구분, 산업코드차수\n",
    "- 고윳값이 2개인 피처들은 추후에 0과 1로 인코딩 해주자.\n",
    "    - 공기업구분, 본점지점구분, 국외투자법인여부, 벤처기업여부, 중견기업보호여부\n",
    "- 고윳값이 3개인 공공기관유형 피처는 추후에 원-핫 인코딩을 적용시켜주자.<br><br>\n",
    "- 나머지 고윳값이 많은 피처들 중에서 예측에 도움이 되지 않는 피처들도 제거하도록 한다.\n",
    "    - 기업접두명, 기업접미명, 기업영문명, 산업코드1, 산업코드2, 산업코드3, 본점기업코드, 설립일자, 설립구분, <br>\n",
    "    상장일자, 주요사업내용, 국가명, 홈페이지URL, 대표자명, 종료일자, 시작일자, 상태발생일자"
   ]
  },
  {
   "cell_type": "code",
   "execution_count": 121,
   "metadata": {},
   "outputs": [],
   "source": [
    "# 필요없는 피처 제거\n",
    "df_drop_col = df.drop(['기업접두명', '기업접미명', '기업영문명', '기업규모', '개인법인구분 1.법인 2.개인', \n",
    "                       '상장코드', '산업코드차수', '산업코드2', '산업코드3', '본점기업코드', '설립일자', \n",
    "                       '설립구분', '상장일자', '주요사업내용', '국가명', '홈페이지URL', '대표자명'], axis=1)"
   ]
  },
  {
   "cell_type": "markdown",
   "metadata": {},
   "source": [
    "## 2.2. 사업자등록번호가 여러 개인 기업들 확인\n",
    "사업자등록번호가 여러 개인 기업들이 확인된다. 이 기업들의 특징은 아래와 같다.\n",
    "\n",
    "- 사업자등록번호가 다름에도 재무 결산 내역이 같은 경우\n",
    "    - 법인지점이 있는 경우 법인지점 각각 사업자등록번호가 부여되며, 법인결산은 본지점통합처리되지 때문에 재무제표에 여러 사업자등록번호가 명기될 수 있음 <br><br>\n",
    "- 사업자등록번호가 여러 개였다가 나중에 하나만 남는 경우\n",
    "    - 사업장단위의 지점들이 사업자단위과세자사업자로 등록을 하게 되면 발생하는 현상으로, 사업자단위과세사업자가 되면 기존 지점에 있던 사업자등록번호가 <br>\n",
    "    사라지면서 본점의 종된사업장으로 편입됨 <br><br>\n",
    "출처: 성심세무회계 한재문 세무사"
   ]
  },
  {
   "cell_type": "markdown",
   "metadata": {},
   "source": [
    "- 위에서 알아본 경우를 case1, case2로 나누어서 각각의 경우에 해당하는 사업자등록번호를 저장하고 아래와 같이 처리한다.\n",
    "    - case1에 해당하는 경우 하나를 제외한 나머지 사업자등록번호를 저장 => 저장된 사업자등록번호는 추후 제거\n",
    "    - case2에 해당하는 경우 size 값이 큰것, 즉 가장 결산을 많이 한 사업자등록번호를 제외한 나머지 사업자등록번호를 저장 => 저장된 사업자등록번호는 추후 제거"
   ]
  },
  {
   "cell_type": "code",
   "execution_count": 122,
   "metadata": {},
   "outputs": [],
   "source": [
    "def check_biz_no(df):\n",
    "    \"\"\"\n",
    "    사업자등록번호가 여러 개인 기업들을 찾고, 각 경우에 따라 처리하는 함수입니다.\n",
    "    ----------------------------------------\n",
    "    input = 데이터프레임\n",
    "    return = 정제한 데이터프레임\n",
    "    ----------------------------------------\n",
    "    \"\"\"\n",
    "    group_data = df.groupby(['기업명', '사업자등록번호'], as_index=False).size()\n",
    "\n",
    "    duplicated_cor_name = group_data[group_data.duplicated(subset=['기업명'])]['기업명'].unique()\n",
    "\n",
    "    result_dict = [{\"case1_사업자등록번호\":[]}, {\"case2_사업자등록번호\":[]}]\n",
    "\n",
    "    # case1, case2에 해당하는 사업자등록번호 찾기\n",
    "    for dup_name in duplicated_cor_name:\n",
    "        dup_count = group_data.loc[group_data['기업명'] == dup_name]['size'].values.tolist()\n",
    "        if len(set(dup_count)) == 1:\n",
    "            for i in range(len(dup_count)-1):\n",
    "                result_dict[0][\"case1_사업자등록번호\"].append(group_data.loc[group_data['기업명'] == dup_name].iloc[i]['사업자등록번호'])\n",
    "        elif len(set(dup_count)) != 1:\n",
    "            for i in range(1, len(dup_count)):\n",
    "                result_dict[1][\"case2_사업자등록번호\"].append(group_data.loc[group_data['기업명'] == dup_name].iloc[i]['사업자등록번호'])\n",
    "    \n",
    "    # case1에 해당하는 경우 제거하기\n",
    "    for case1_num in result_dict[0][\"case1_사업자등록번호\"]:\n",
    "        idx = df[df['사업자등록번호']==case1_num].index\n",
    "        df.drop(idx, inplace=True)\n",
    "\n",
    "    # case2에 해당하는 경우 제거하기\n",
    "    for case2_num in result_dict[1][\"case2_사업자등록번호\"]:\n",
    "        idx = df[df['사업자등록번호']==case2_num].index\n",
    "        df.drop(idx, inplace=True)\n",
    "    \n",
    "    print(\"정제 완료!\")"
   ]
  },
  {
   "cell_type": "code",
   "execution_count": 123,
   "metadata": {},
   "outputs": [
    {
     "name": "stdout",
     "output_type": "stream",
     "text": [
      "정제 완료!\n",
      "사업자등록번호가 여러 개인 기업들을 기준에 따라 정제한 결과 6197개의 데이터가 제거되었습니다.\n"
     ]
    }
   ],
   "source": [
    "df_cleaning_biz_no = df_drop_col.copy()\n",
    "check_biz_no(df_cleaning_biz_no)\n",
    "\n",
    "print(f\"사업자등록번호가 여러 개인 기업들을 기준에 따라 정제한 결과 {df_drop_col.shape[0] - df_cleaning_biz_no.shape[0]}개의 데이터가 제거되었습니다.\")"
   ]
  },
  {
   "cell_type": "code",
   "execution_count": 124,
   "metadata": {},
   "outputs": [
    {
     "name": "stdout",
     "output_type": "stream",
     "text": [
      "사업자등록번호를 기준으로 정제 후 데이터의 크기: (102945, 63)\n"
     ]
    }
   ],
   "source": [
    "print(f\"사업자등록번호를 기준으로 정제 후 데이터의 크기: {df_cleaning_biz_no.shape}\")"
   ]
  },
  {
   "cell_type": "markdown",
   "metadata": {},
   "source": [
    "## 2.3. 재무 데이터의 결측치, 이상치 정리하기"
   ]
  },
  {
   "cell_type": "markdown",
   "metadata": {},
   "source": [
    "### 2.3.1. 기본적인 결측치, 이상치 정리하기\n",
    "- 재무 데이터의 경우 결측치가 다수 존재하며 이상치가 의미없는 값(8.888889e+11, 1.000000e+12)으로 있다.\n",
    "- 따라서 이에 해당하는 값들을 0으로 변환한다."
   ]
  },
  {
   "cell_type": "code",
   "execution_count": 125,
   "metadata": {},
   "outputs": [],
   "source": [
    "df_finance_missing_value = df_cleaning_biz_no.copy()"
   ]
  },
  {
   "cell_type": "code",
   "execution_count": 126,
   "metadata": {},
   "outputs": [],
   "source": [
    "finance_columns = df_finance_missing_value.columns[:46]\n",
    "\n",
    "# 결측치를 0으로 변환\n",
    "df_finance_missing_value[finance_columns] = df_finance_missing_value[finance_columns].fillna(0)\n",
    "\n",
    "for column in finance_columns:\n",
    "    df_finance_missing_value[column] = df_finance_missing_value[column].apply(lambda x: 0 if x == 1000000000000 else x)\n",
    "    df_finance_missing_value[column] = df_finance_missing_value[column].apply(lambda x: 0 if x == 888888888889 else x)"
   ]
  },
  {
   "cell_type": "code",
   "execution_count": 127,
   "metadata": {},
   "outputs": [
    {
     "name": "stdout",
     "output_type": "stream",
     "text": [
      "정제 후 결측치의 개수: 0개\n",
      "정제 후 이상치의 개수: 0개\n"
     ]
    }
   ],
   "source": [
    "print(f\"정제 후 결측치의 개수: {df_finance_missing_value[finance_columns].isna().sum().sum()}개\")\n",
    "total = 0\n",
    "for column in finance_columns:\n",
    "    total += len(df_finance_missing_value.loc[(df_finance_missing_value[column] == 1000000000000) | (df_finance_missing_value[column] == 888888888889)])\n",
    "print(f\"정제 후 이상치의 개수: {total}개\")"
   ]
  },
  {
   "cell_type": "markdown",
   "metadata": {},
   "source": [
    "### 2.3.2. 자본금의 이상치 제거\n",
    "- [NDB Q&A] 자본금이 (-) 인 경우, 개인에서 법인으로 전환된 것이다.\n",
    "- 자본금이 음수가 되는 경우 0원으로 보는 것이 합리적이다.\n",
    "- 조세특례제한법 제120조 5항\n",
    "- (?) 자본금에 더해줘야하는가?"
   ]
  },
  {
   "cell_type": "code",
   "execution_count": 128,
   "metadata": {},
   "outputs": [
    {
     "name": "stdout",
     "output_type": "stream",
     "text": [
      "자본금이 음수인 기업의 개수: 5개\n"
     ]
    }
   ],
   "source": [
    "# 5개기업이 (-) 자본금을 가짐\n",
    "count_minus_capital_stock = df_finance_missing_value.loc[df_finance_missing_value['자본금'] < 0].shape[0]\n",
    "print(f\"자본금이 음수인 기업의 개수: {count_minus_capital_stock}개\")"
   ]
  },
  {
   "cell_type": "code",
   "execution_count": 129,
   "metadata": {},
   "outputs": [
    {
     "name": "stdout",
     "output_type": "stream",
     "text": [
      "정제 후 자본금이 음수인 기업의 개수: 0개\n"
     ]
    }
   ],
   "source": [
    "# 0으로 바꿈\n",
    "df_finance_missing_value['자본금'] = df_finance_missing_value['자본금'].apply(lambda x: 0 if x < 0 else x)\n",
    "count_minus_capital_stock = df_finance_missing_value.loc[df_finance_missing_value['자본금'] < 0].shape[0]\n",
    "print(f\"정제 후 자본금이 음수인 기업의 개수: {count_minus_capital_stock}개\")"
   ]
  },
  {
   "cell_type": "markdown",
   "metadata": {},
   "source": [
    "### 2.3.3. 자산의 이상치 제거\n",
    "- 자산총계가 0인 행 중 모든 컬럼의 값이 0인 행이 절대다수이다.\n",
    "- 자산총계가 0인 기업의 재무데이터는 결측치가 많기 때문에 제거한다."
   ]
  },
  {
   "cell_type": "code",
   "execution_count": 130,
   "metadata": {},
   "outputs": [
    {
     "data": {
      "text/html": [
       "<div>\n",
       "<style scoped>\n",
       "    .dataframe tbody tr th:only-of-type {\n",
       "        vertical-align: middle;\n",
       "    }\n",
       "\n",
       "    .dataframe tbody tr th {\n",
       "        vertical-align: top;\n",
       "    }\n",
       "\n",
       "    .dataframe thead th {\n",
       "        text-align: right;\n",
       "    }\n",
       "</style>\n",
       "<table border=\"1\" class=\"dataframe\">\n",
       "  <thead>\n",
       "    <tr style=\"text-align: right;\">\n",
       "      <th></th>\n",
       "      <th>사업자등록번호</th>\n",
       "      <th>결산년월</th>\n",
       "      <th>유동자산</th>\n",
       "      <th>매출채권</th>\n",
       "      <th>비유동자산</th>\n",
       "      <th>유형자산</th>\n",
       "      <th>자산총계</th>\n",
       "      <th>유동부채</th>\n",
       "      <th>비유동부채</th>\n",
       "      <th>부  채  총  계</th>\n",
       "      <th>자본금</th>\n",
       "      <th>이익잉여금(결손금）</th>\n",
       "      <th>자본총계</th>\n",
       "      <th>매출액</th>\n",
       "      <th>판매비와관리비</th>\n",
       "      <th>영업이익（손실）</th>\n",
       "      <th>법인세비용차감전순손익</th>\n",
       "      <th>법인세비용</th>\n",
       "      <th>당기순이익(손실)</th>\n",
       "      <th>기업순이익률(%)</th>\n",
       "      <th>유보액/총자산(%)</th>\n",
       "      <th>유보액/납입자본(%)</th>\n",
       "      <th>매출액총이익률(%)</th>\n",
       "      <th>매출액영업이익률(%)</th>\n",
       "      <th>매출액순이익률(%)</th>\n",
       "      <th>수지비율(%)</th>\n",
       "      <th>경상수지비율</th>\n",
       "      <th>영업비율(%)</th>\n",
       "      <th>금융비용대매출액비율(%</th>\n",
       "      <th>금융비용대부채비율(%)</th>\n",
       "      <th>금융비용대총비용비율(%</th>\n",
       "      <th>부채비율(%)</th>\n",
       "      <th>차입금의존도(%)</th>\n",
       "      <th>자기자본비율(%)</th>\n",
       "      <th>순운전자본비율(%)</th>\n",
       "      <th>유동부채비율(%)</th>\n",
       "      <th>비유동부채비율(%)</th>\n",
       "      <th>부채총계대 매출액(%)</th>\n",
       "      <th>총자본회전율(회)</th>\n",
       "      <th>재고자산회전율(회)</th>\n",
       "      <th>매출채권회전율(회)</th>\n",
       "      <th>매입채무회전율(회)</th>\n",
       "      <th>미수금</th>\n",
       "      <th>매출원가</th>\n",
       "      <th>무형자산</th>\n",
       "      <th>재고자산</th>\n",
       "    </tr>\n",
       "  </thead>\n",
       "  <tbody>\n",
       "    <tr>\n",
       "      <th>280</th>\n",
       "      <td>1018164892</td>\n",
       "      <td>20191231</td>\n",
       "      <td>0.0</td>\n",
       "      <td>0.0</td>\n",
       "      <td>0.0</td>\n",
       "      <td>0.0</td>\n",
       "      <td>0.0</td>\n",
       "      <td>0.0</td>\n",
       "      <td>0.0</td>\n",
       "      <td>0.0</td>\n",
       "      <td>0.0</td>\n",
       "      <td>0.0</td>\n",
       "      <td>0.0</td>\n",
       "      <td>0.0</td>\n",
       "      <td>0.0</td>\n",
       "      <td>0.0</td>\n",
       "      <td>0.0</td>\n",
       "      <td>0.0</td>\n",
       "      <td>0.0</td>\n",
       "      <td>0.0</td>\n",
       "      <td>0.0</td>\n",
       "      <td>0.0</td>\n",
       "      <td>0.0</td>\n",
       "      <td>0.0</td>\n",
       "      <td>0.0</td>\n",
       "      <td>0.0</td>\n",
       "      <td>0.0</td>\n",
       "      <td>0.0</td>\n",
       "      <td>0.0</td>\n",
       "      <td>0.0</td>\n",
       "      <td>0.0</td>\n",
       "      <td>0.0</td>\n",
       "      <td>0.0</td>\n",
       "      <td>0.0</td>\n",
       "      <td>0.0</td>\n",
       "      <td>0.0</td>\n",
       "      <td>0.0</td>\n",
       "      <td>0.0</td>\n",
       "      <td>0.0</td>\n",
       "      <td>0.0</td>\n",
       "      <td>0.0</td>\n",
       "      <td>0.0</td>\n",
       "      <td>0.0</td>\n",
       "      <td>0.0</td>\n",
       "      <td>0.0</td>\n",
       "      <td>0.0</td>\n",
       "    </tr>\n",
       "    <tr>\n",
       "      <th>281</th>\n",
       "      <td>1018164892</td>\n",
       "      <td>20201231</td>\n",
       "      <td>0.0</td>\n",
       "      <td>0.0</td>\n",
       "      <td>0.0</td>\n",
       "      <td>0.0</td>\n",
       "      <td>0.0</td>\n",
       "      <td>0.0</td>\n",
       "      <td>0.0</td>\n",
       "      <td>0.0</td>\n",
       "      <td>0.0</td>\n",
       "      <td>0.0</td>\n",
       "      <td>0.0</td>\n",
       "      <td>0.0</td>\n",
       "      <td>0.0</td>\n",
       "      <td>0.0</td>\n",
       "      <td>0.0</td>\n",
       "      <td>0.0</td>\n",
       "      <td>0.0</td>\n",
       "      <td>0.0</td>\n",
       "      <td>0.0</td>\n",
       "      <td>0.0</td>\n",
       "      <td>0.0</td>\n",
       "      <td>0.0</td>\n",
       "      <td>0.0</td>\n",
       "      <td>0.0</td>\n",
       "      <td>0.0</td>\n",
       "      <td>0.0</td>\n",
       "      <td>0.0</td>\n",
       "      <td>0.0</td>\n",
       "      <td>0.0</td>\n",
       "      <td>0.0</td>\n",
       "      <td>0.0</td>\n",
       "      <td>0.0</td>\n",
       "      <td>0.0</td>\n",
       "      <td>0.0</td>\n",
       "      <td>0.0</td>\n",
       "      <td>0.0</td>\n",
       "      <td>0.0</td>\n",
       "      <td>0.0</td>\n",
       "      <td>0.0</td>\n",
       "      <td>0.0</td>\n",
       "      <td>0.0</td>\n",
       "      <td>0.0</td>\n",
       "      <td>0.0</td>\n",
       "      <td>0.0</td>\n",
       "    </tr>\n",
       "    <tr>\n",
       "      <th>282</th>\n",
       "      <td>1018164892</td>\n",
       "      <td>20211231</td>\n",
       "      <td>0.0</td>\n",
       "      <td>0.0</td>\n",
       "      <td>0.0</td>\n",
       "      <td>0.0</td>\n",
       "      <td>0.0</td>\n",
       "      <td>0.0</td>\n",
       "      <td>0.0</td>\n",
       "      <td>0.0</td>\n",
       "      <td>0.0</td>\n",
       "      <td>0.0</td>\n",
       "      <td>0.0</td>\n",
       "      <td>0.0</td>\n",
       "      <td>0.0</td>\n",
       "      <td>0.0</td>\n",
       "      <td>0.0</td>\n",
       "      <td>0.0</td>\n",
       "      <td>0.0</td>\n",
       "      <td>0.0</td>\n",
       "      <td>0.0</td>\n",
       "      <td>0.0</td>\n",
       "      <td>0.0</td>\n",
       "      <td>0.0</td>\n",
       "      <td>0.0</td>\n",
       "      <td>0.0</td>\n",
       "      <td>0.0</td>\n",
       "      <td>0.0</td>\n",
       "      <td>0.0</td>\n",
       "      <td>0.0</td>\n",
       "      <td>0.0</td>\n",
       "      <td>0.0</td>\n",
       "      <td>0.0</td>\n",
       "      <td>0.0</td>\n",
       "      <td>0.0</td>\n",
       "      <td>0.0</td>\n",
       "      <td>0.0</td>\n",
       "      <td>0.0</td>\n",
       "      <td>0.0</td>\n",
       "      <td>0.0</td>\n",
       "      <td>0.0</td>\n",
       "      <td>0.0</td>\n",
       "      <td>0.0</td>\n",
       "      <td>0.0</td>\n",
       "      <td>0.0</td>\n",
       "      <td>0.0</td>\n",
       "    </tr>\n",
       "    <tr>\n",
       "      <th>336</th>\n",
       "      <td>1018179639</td>\n",
       "      <td>20191231</td>\n",
       "      <td>0.0</td>\n",
       "      <td>0.0</td>\n",
       "      <td>0.0</td>\n",
       "      <td>0.0</td>\n",
       "      <td>0.0</td>\n",
       "      <td>0.0</td>\n",
       "      <td>0.0</td>\n",
       "      <td>0.0</td>\n",
       "      <td>0.0</td>\n",
       "      <td>0.0</td>\n",
       "      <td>0.0</td>\n",
       "      <td>0.0</td>\n",
       "      <td>0.0</td>\n",
       "      <td>0.0</td>\n",
       "      <td>0.0</td>\n",
       "      <td>0.0</td>\n",
       "      <td>0.0</td>\n",
       "      <td>0.0</td>\n",
       "      <td>0.0</td>\n",
       "      <td>0.0</td>\n",
       "      <td>0.0</td>\n",
       "      <td>0.0</td>\n",
       "      <td>0.0</td>\n",
       "      <td>0.0</td>\n",
       "      <td>0.0</td>\n",
       "      <td>0.0</td>\n",
       "      <td>0.0</td>\n",
       "      <td>0.0</td>\n",
       "      <td>0.0</td>\n",
       "      <td>0.0</td>\n",
       "      <td>0.0</td>\n",
       "      <td>0.0</td>\n",
       "      <td>0.0</td>\n",
       "      <td>0.0</td>\n",
       "      <td>0.0</td>\n",
       "      <td>0.0</td>\n",
       "      <td>0.0</td>\n",
       "      <td>0.0</td>\n",
       "      <td>0.0</td>\n",
       "      <td>0.0</td>\n",
       "      <td>0.0</td>\n",
       "      <td>0.0</td>\n",
       "      <td>0.0</td>\n",
       "      <td>0.0</td>\n",
       "    </tr>\n",
       "    <tr>\n",
       "      <th>337</th>\n",
       "      <td>1018179639</td>\n",
       "      <td>20201231</td>\n",
       "      <td>0.0</td>\n",
       "      <td>0.0</td>\n",
       "      <td>0.0</td>\n",
       "      <td>0.0</td>\n",
       "      <td>0.0</td>\n",
       "      <td>0.0</td>\n",
       "      <td>0.0</td>\n",
       "      <td>0.0</td>\n",
       "      <td>0.0</td>\n",
       "      <td>0.0</td>\n",
       "      <td>0.0</td>\n",
       "      <td>0.0</td>\n",
       "      <td>0.0</td>\n",
       "      <td>0.0</td>\n",
       "      <td>0.0</td>\n",
       "      <td>0.0</td>\n",
       "      <td>0.0</td>\n",
       "      <td>0.0</td>\n",
       "      <td>0.0</td>\n",
       "      <td>0.0</td>\n",
       "      <td>0.0</td>\n",
       "      <td>0.0</td>\n",
       "      <td>0.0</td>\n",
       "      <td>0.0</td>\n",
       "      <td>0.0</td>\n",
       "      <td>0.0</td>\n",
       "      <td>0.0</td>\n",
       "      <td>0.0</td>\n",
       "      <td>0.0</td>\n",
       "      <td>0.0</td>\n",
       "      <td>0.0</td>\n",
       "      <td>0.0</td>\n",
       "      <td>0.0</td>\n",
       "      <td>0.0</td>\n",
       "      <td>0.0</td>\n",
       "      <td>0.0</td>\n",
       "      <td>0.0</td>\n",
       "      <td>0.0</td>\n",
       "      <td>0.0</td>\n",
       "      <td>0.0</td>\n",
       "      <td>0.0</td>\n",
       "      <td>0.0</td>\n",
       "      <td>0.0</td>\n",
       "      <td>0.0</td>\n",
       "    </tr>\n",
       "  </tbody>\n",
       "</table>\n",
       "</div>"
      ],
      "text/plain": [
       "        사업자등록번호      결산년월  유동자산  매출채권  비유동자산  유형자산  자산총계  유동부채  비유동부채  \\\n",
       "280  1018164892  20191231   0.0   0.0    0.0   0.0   0.0   0.0    0.0   \n",
       "281  1018164892  20201231   0.0   0.0    0.0   0.0   0.0   0.0    0.0   \n",
       "282  1018164892  20211231   0.0   0.0    0.0   0.0   0.0   0.0    0.0   \n",
       "336  1018179639  20191231   0.0   0.0    0.0   0.0   0.0   0.0    0.0   \n",
       "337  1018179639  20201231   0.0   0.0    0.0   0.0   0.0   0.0    0.0   \n",
       "\n",
       "     부  채  총  계  자본금  이익잉여금(결손금）  자본총계  매출액  판매비와관리비  영업이익（손실）  법인세비용차감전순손익  \\\n",
       "280         0.0  0.0         0.0   0.0  0.0      0.0       0.0          0.0   \n",
       "281         0.0  0.0         0.0   0.0  0.0      0.0       0.0          0.0   \n",
       "282         0.0  0.0         0.0   0.0  0.0      0.0       0.0          0.0   \n",
       "336         0.0  0.0         0.0   0.0  0.0      0.0       0.0          0.0   \n",
       "337         0.0  0.0         0.0   0.0  0.0      0.0       0.0          0.0   \n",
       "\n",
       "     법인세비용  당기순이익(손실)  기업순이익률(%)  유보액/총자산(%)  유보액/납입자본(%)  매출액총이익률(%)  \\\n",
       "280    0.0        0.0        0.0         0.0          0.0         0.0   \n",
       "281    0.0        0.0        0.0         0.0          0.0         0.0   \n",
       "282    0.0        0.0        0.0         0.0          0.0         0.0   \n",
       "336    0.0        0.0        0.0         0.0          0.0         0.0   \n",
       "337    0.0        0.0        0.0         0.0          0.0         0.0   \n",
       "\n",
       "     매출액영업이익률(%)  매출액순이익률(%)  수지비율(%)  경상수지비율  영업비율(%)  금융비용대매출액비율(%  \\\n",
       "280          0.0         0.0      0.0     0.0      0.0           0.0   \n",
       "281          0.0         0.0      0.0     0.0      0.0           0.0   \n",
       "282          0.0         0.0      0.0     0.0      0.0           0.0   \n",
       "336          0.0         0.0      0.0     0.0      0.0           0.0   \n",
       "337          0.0         0.0      0.0     0.0      0.0           0.0   \n",
       "\n",
       "     금융비용대부채비율(%)  금융비용대총비용비율(%  부채비율(%)  차입금의존도(%)  자기자본비율(%)  순운전자본비율(%)  \\\n",
       "280           0.0           0.0      0.0        0.0        0.0         0.0   \n",
       "281           0.0           0.0      0.0        0.0        0.0         0.0   \n",
       "282           0.0           0.0      0.0        0.0        0.0         0.0   \n",
       "336           0.0           0.0      0.0        0.0        0.0         0.0   \n",
       "337           0.0           0.0      0.0        0.0        0.0         0.0   \n",
       "\n",
       "     유동부채비율(%)  비유동부채비율(%)  부채총계대 매출액(%)  총자본회전율(회)  재고자산회전율(회)  매출채권회전율(회)  \\\n",
       "280        0.0         0.0           0.0        0.0         0.0         0.0   \n",
       "281        0.0         0.0           0.0        0.0         0.0         0.0   \n",
       "282        0.0         0.0           0.0        0.0         0.0         0.0   \n",
       "336        0.0         0.0           0.0        0.0         0.0         0.0   \n",
       "337        0.0         0.0           0.0        0.0         0.0         0.0   \n",
       "\n",
       "     매입채무회전율(회)  미수금  매출원가  무형자산  재고자산  \n",
       "280         0.0  0.0   0.0   0.0   0.0  \n",
       "281         0.0  0.0   0.0   0.0   0.0  \n",
       "282         0.0  0.0   0.0   0.0   0.0  \n",
       "336         0.0  0.0   0.0   0.0   0.0  \n",
       "337         0.0  0.0   0.0   0.0   0.0  "
      ]
     },
     "execution_count": 130,
     "metadata": {},
     "output_type": "execute_result"
    }
   ],
   "source": [
    "df_finance_missing_value.loc[df_finance_missing_value['자산총계'] == 0].iloc[:5, :46]"
   ]
  },
  {
   "cell_type": "code",
   "execution_count": 131,
   "metadata": {},
   "outputs": [
    {
     "name": "stdout",
     "output_type": "stream",
     "text": [
      "자산의 이상치 제거 결과 983개의 데이터가 제거되었습니다.\n"
     ]
    }
   ],
   "source": [
    "count_zero_total_assets = df_finance_missing_value.loc[df_finance_missing_value['자산총계'] == 0].shape[0]\n",
    "df_finance_missing_value = df_finance_missing_value[df_finance_missing_value['자산총계'] != 0]\n",
    "\n",
    "print(f\"자산의 이상치 제거 결과 {count_zero_total_assets}개의 데이터가 제거되었습니다.\")"
   ]
  },
  {
   "cell_type": "markdown",
   "metadata": {},
   "source": [
    "## 2-3. 휴폐업의 정의 확인 및 타겟값 구분 기준 정하기"
   ]
  },
  {
   "cell_type": "markdown",
   "metadata": {},
   "source": [
    "- 휴업이란 사업자가 일시적으로 주된 영업활동을 정지하였으나 장래영업활동을 재개하고자 하는 의사를 가지고 영업시설의 유지. 관리 또는 개량행위 등을 행하는 상태이고, \n",
    "- 폐업이란 사업자가 당해 영업을 계속할 의사가 없어 영업활동을 영구적으로 종료하는 것이다.\n",
    "- 휴업의 경우 장래영업활동 재개 의사를 가지고 있지만, 신용평가기관의 입장에서는 주의가 필요한 상태라고 생각한다.\n",
    "- 따라서 휴업과 폐업을 하나로 묶어서 보기로 한다."
   ]
  },
  {
   "cell_type": "code",
   "execution_count": 132,
   "metadata": {},
   "outputs": [],
   "source": [
    "# 휴업을 폐업으로 인코딩\n",
    "def target_encoding(value):\n",
    "    if value == \"폐업\" or value == \"휴업\":\n",
    "        return \"폐업\"\n",
    "    return \"영업\"\n",
    "\n",
    "df_target_encoded = df_finance_missing_value.copy()\n",
    "df_target_encoded['휴폐업구분'] = df_finance_missing_value['휴폐업구분'].apply(target_encoding)"
   ]
  },
  {
   "cell_type": "markdown",
   "metadata": {},
   "source": [
    "### 타겟값 분포 확인하기"
   ]
  },
  {
   "cell_type": "code",
   "execution_count": 133,
   "metadata": {},
   "outputs": [],
   "source": [
    "# 타겟값의 분포 살펴보기\n",
    "def write_percent(ax, total_size):\n",
    "    for patch in ax.patches:\n",
    "        height = patch.get_height()\n",
    "        width = patch.get_width()\n",
    "        left_coord = patch.get_x()\n",
    "        percent = height/total_size*100\n",
    "\n",
    "        ax.text(left_coord+width/2.0,\n",
    "                height+total_size*0.001,\n",
    "                '{:1.1f}%'.format(percent),\n",
    "                ha='center')"
   ]
  },
  {
   "cell_type": "code",
   "execution_count": 134,
   "metadata": {},
   "outputs": [
    {
     "data": {
      "image/png": "[encoded data removed]",
      "text/plain": [
       "<Figure size 1000x800 with 1 Axes>"
      ]
     },
     "metadata": {},
     "output_type": "display_data"
    }
   ],
   "source": [
    "fig = plt.subplots(figsize=(10, 8))\n",
    "ax = sns.countplot(x='휴폐업구분', data=df_target_encoded)\n",
    "write_percent(ax, len(df_target_encoded))\n",
    "ax.set_title(\"타겟값의 분포\");"
   ]
  },
  {
   "cell_type": "markdown",
   "metadata": {},
   "source": [
    "- 타겟값 폐업의 분포가 매우 적다.\n",
    "- 타겟값의 비율이 작은 것에 대한 고윳값의 분포가 서로 차이가 없거나,\n",
    "- 신뢰구간이 너무 넓어 통계적 유효성이 떨어지는 경우 예측력 향상에 도움이 되지 않으므로 제거해야한다.\n",
    "- 따라서 피처의 고윳값 별 타겟값 1(폐업)의 분포를 살펴보자."
   ]
  },
  {
   "cell_type": "markdown",
   "metadata": {},
   "source": [
    "### 명목형 피처 확인하기"
   ]
  },
  {
   "cell_type": "code",
   "execution_count": 135,
   "metadata": {},
   "outputs": [],
   "source": [
    "# 명목형 피처 시각화\n",
    "import matplotlib.gridspec as gridspec\n",
    "\n",
    "def plot_target_ratio_by_features(df, features, num_rows, num_cols, \n",
    "                                  size=(15, 20)):\n",
    "    mpl.rc('font', size=9) \n",
    "    plt.figure(figsize=size)                     # 전체 Figure 크기 설정\n",
    "    grid = gridspec.GridSpec(num_rows, num_cols) # 서브플롯 배치\n",
    "    plt.subplots_adjust(wspace=0.3, hspace=0.5)  # 서브플롯 좌우/상하 여백 설정\n",
    "\n",
    "    for idx, feature in enumerate(features):\n",
    "        ax = plt.subplot(grid[idx])\n",
    "        # ax축에 고윳값별 타깃값 1 비율을 막대 그래프로 그리기\n",
    "        sns.barplot(x=feature, y='휴폐업구분', data=df, palette='Set2', ax=ax)\n",
    "        plt.title(f'{feature}의 고윳값별 타겟값 1(폐업)의 비율')"
   ]
  },
  {
   "cell_type": "code",
   "execution_count": 136,
   "metadata": {},
   "outputs": [],
   "source": [
    "# 시각화를 위한 타겟값 인코딩\n",
    "def target_encoding(value):\n",
    "    if value == \"폐업\":\n",
    "        return 1\n",
    "    return 0\n",
    "\n",
    "df_target_encoded['휴폐업구분'] = df_drop_col['휴폐업구분'].apply(target_encoding)"
   ]
  },
  {
   "cell_type": "code",
   "execution_count": 137,
   "metadata": {},
   "outputs": [
    {
     "data": {
      "image/png": "[encoded data removed]",
      "text/plain": [
       "<Figure size 1500x2000 with 6 Axes>"
      ]
     },
     "metadata": {},
     "output_type": "display_data"
    }
   ],
   "source": [
    "bin_features = resume_table[(resume_table['고윳값 개수'] == 2) | (resume_table['고윳값 개수'] == 3)].index # 이진 피처\n",
    "# 이진 피처 고윳값별 타깃값 1 비율을 막대 그래프로 그리기\n",
    "plot_target_ratio_by_features(df_target_encoded, bin_features, 3, 2) # 3행 2열 배치"
   ]
  },
  {
   "cell_type": "markdown",
   "metadata": {},
   "source": [
    "- 명목형 피처 분석 결과\n",
    "    - 공기업 중에는 폐업을 한 기업이 없고, 일반 기업에 해당하는 경우에만 폐업을 했다.\n",
    "    - 또한 공공기관에 해당하지 않은 경우에만 폐업이 일어났다.\n",
    "        - **=> 공기업의 경우 재무적 요소가 안정적이기 때문일까?**\n",
    "    - 외감에 해당하지 않은 기업들이 대부분 폐업을 한다.\n",
    "        -  => **규모가 작을 수록 폐업할 확률이 높기 때문일까?**\n",
    "    - 중견기업보호여부의 경우 Y 값의 신뢰구간이 매우 넓기 때문에 통계적 유효성이 떨어진다. 따라서 제거하도록 한다.\n",
    "    "
   ]
  },
  {
   "cell_type": "code",
   "execution_count": 138,
   "metadata": {},
   "outputs": [],
   "source": [
    "df_drop_MDSCO_PRTC_YN = df_target_encoded.drop('중견기업보호여부', axis=1)"
   ]
  },
  {
   "cell_type": "markdown",
   "metadata": {},
   "source": [
    "### 직원 수의 결측치 처리\n",
    "- 재무 피처들과 직원수의 상관관계를 파악해서 직원수를 보간할 때 기준으로 삼을 피처를 찾아보자.\n",
    "- 피처를 찾으면, 해당 피처를 구간별로 나누어서 해당 구간의 평균 직원수를 구해서 보간하도록 하자."
   ]
  },
  {
   "cell_type": "code",
   "execution_count": 139,
   "metadata": {},
   "outputs": [
    {
     "data": {
      "text/html": [
       "<div>\n",
       "<style scoped>\n",
       "    .dataframe tbody tr th:only-of-type {\n",
       "        vertical-align: middle;\n",
       "    }\n",
       "\n",
       "    .dataframe tbody tr th {\n",
       "        vertical-align: top;\n",
       "    }\n",
       "\n",
       "    .dataframe thead th {\n",
       "        text-align: right;\n",
       "    }\n",
       "</style>\n",
       "<table border=\"1\" class=\"dataframe\">\n",
       "  <thead>\n",
       "    <tr style=\"text-align: right;\">\n",
       "      <th></th>\n",
       "      <th>직원수</th>\n",
       "    </tr>\n",
       "  </thead>\n",
       "  <tbody>\n",
       "    <tr>\n",
       "      <th>판매비와관리비</th>\n",
       "      <td>0.242583</td>\n",
       "    </tr>\n",
       "    <tr>\n",
       "      <th>총자본회전율(회)</th>\n",
       "      <td>0.144893</td>\n",
       "    </tr>\n",
       "    <tr>\n",
       "      <th>매출액</th>\n",
       "      <td>0.109118</td>\n",
       "    </tr>\n",
       "    <tr>\n",
       "      <th>매출원가</th>\n",
       "      <td>0.091592</td>\n",
       "    </tr>\n",
       "    <tr>\n",
       "      <th>자기자본비율(%)</th>\n",
       "      <td>0.087059</td>\n",
       "    </tr>\n",
       "  </tbody>\n",
       "</table>\n",
       "</div>"
      ],
      "text/plain": [
       "                직원수\n",
       "판매비와관리비    0.242583\n",
       "총자본회전율(회)  0.144893\n",
       "매출액        0.109118\n",
       "매출원가       0.091592\n",
       "자기자본비율(%)  0.087059"
      ]
     },
     "metadata": {},
     "output_type": "display_data"
    }
   ],
   "source": [
    "corr_columns = finance_columns.tolist()\n",
    "corr_columns.append('직원수')\n",
    "df_corr = df_drop_MDSCO_PRTC_YN[corr_columns].corr()\n",
    "display(df_corr[['직원수']].sort_values('직원수', ascending=False).iloc[1:].head())"
   ]
  },
  {
   "cell_type": "markdown",
   "metadata": {},
   "source": [
    "- 직원수와 연관이 있어보이는 재무 피처가 없다.\n",
    "- 직원수와 재무데이터의 상관관계에서 유의미한 결과를 찾지 못했으므로 결측치 보간이 어렵다고 판단되므로 직원수도 제거하도록 하자."
   ]
  },
  {
   "cell_type": "code",
   "execution_count": 140,
   "metadata": {},
   "outputs": [],
   "source": [
    "df_drop_final = df_drop_MDSCO_PRTC_YN.drop(['직원수', '종료일자', '시작일자', '상태발생일자'], axis=1) # 일자 데이터도 일단 제거"
   ]
  },
  {
   "cell_type": "code",
   "execution_count": 141,
   "metadata": {},
   "outputs": [
    {
     "data": {
      "text/plain": [
       "Index(['사업자등록번호', '결산년월', '유동자산', '매출채권', '비유동자산', '유형자산', '자산총계', '유동부채',\n",
       "       '비유동부채', '부  채  총  계', '자본금', '이익잉여금(결손금）', '자본총계', '매출액', '판매비와관리비',\n",
       "       '영업이익（손실）', '법인세비용차감전순손익', '법인세비용', '당기순이익(손실)', '기업순이익률(%)',\n",
       "       '유보액/총자산(%)', '유보액/납입자본(%)', '매출액총이익률(%)', '매출액영업이익률(%)', '매출액순이익률(%)',\n",
       "       '수지비율(%)', '경상수지비율', '영업비율(%)', '금융비용대매출액비율(%', '금융비용대부채비율(%)',\n",
       "       '금융비용대총비용비율(%', '부채비율(%)', '차입금의존도(%)', '자기자본비율(%)', '순운전자본비율(%)',\n",
       "       '유동부채비율(%)', '비유동부채비율(%)', '부채총계대 매출액(%)', '총자본회전율(회)', '재고자산회전율(회)',\n",
       "       '매출채권회전율(회)', '매입채무회전율(회)', '미수금', '매출원가', '무형자산', '재고자산', '기업명', '업종',\n",
       "       '공기업구분 1.공기업 2.일반기업', '본점지점구분 1.본점 2.지점', '국외투자법인여부', '벤처기업여부', '산업코드1',\n",
       "       '공공기관유형', '휴폐업구분', '업종중분류', '업종대분류', '시도'],\n",
       "      dtype='object')"
      ]
     },
     "execution_count": 141,
     "metadata": {},
     "output_type": "execute_result"
    }
   ],
   "source": [
    "df_drop_final.columns"
   ]
  },
  {
   "cell_type": "markdown",
   "metadata": {},
   "source": [
    "### 데이터 인코딩\n",
    "- 인코딩 대상 피처\n",
    "    - 업종, 공기업구분 1.공기업 2.일반기업, 본점지정구분 1.본점 2.지점, 국외투자법인여부, 벤처기업여부, 공공기관유형, 외감여부\n",
    "- 인코딩 방법\n",
    "    - 이진 피처 -> 0과 1로 인코딩\n",
    "        - 공기업구분 1.공기업 2.일반기업, 본점지정구분 1.본점 2.지점, 국외투자법인여부, 벤처기업여부, 외감여부\n",
    "    - 명목형 피처 -> 원-핫 인코딩\n",
    "        - 업종, 공공기관유형"
   ]
  },
  {
   "cell_type": "code",
   "execution_count": 729,
   "metadata": {},
   "outputs": [],
   "source": [
    "# 이진피처 인코딩\n",
    "def binary_encoding(value):\n",
    "    \"\"\"\n",
    "    이진 피처들을 0과 1로 인코딩하는 함수입니다.\n",
    "    ---------------------------------------\n",
    "    input = 이진피처(문자열)\n",
    "    retrun  = 0 또는 1\n",
    "    ---------------------------------------\n",
    "    0: N, 지점, 일반기업\n",
    "    1: Y, 공기업, 본점\n",
    "    \"\"\"\n",
    "    zero_value = ['N', '지점', '일반기업']\n",
    "\n",
    "    if value in zero_value:\n",
    "        return 0\n",
    "    return 1\n",
    "\n",
    "binary_features = ['공기업구분 1.공기업 2.일반기업', '본점지점구분 1.본점 2.지점', '국외투자법인여부', '벤처기업여부']\n",
    "\n",
    "for bin_feature in binary_features:\n",
    "    df_drop_final[bin_feature] = df_drop_final[bin_feature].apply(binary_encoding)"
   ]
  },
  {
   "cell_type": "code",
   "execution_count": 780,
   "metadata": {},
   "outputs": [],
   "source": [
    "# 명목형 피처 원-핫 인코딩\n",
    "from sklearn.preprocessing import OneHotEncoder\n",
    "\n",
    "# 명목형 피처 추출\n",
    "cat_features = ['공공기관유형', '업종중분류']\n",
    "\n",
    "# 원-핫 인코딩 객체 생성\n",
    "onehot_encoder = OneHotEncoder()\n",
    "\n",
    "# 원-핫 인코딩 적용\n",
    "encoded_cat_matrix = onehot_encoder.fit_transform(df_drop_final[cat_features])"
   ]
  },
  {
   "cell_type": "code",
   "execution_count": 781,
   "metadata": {},
   "outputs": [
    {
     "data": {
      "text/plain": [
       "['유동자산',\n",
       " '매출채권',\n",
       " '비유동자산',\n",
       " '유형자산',\n",
       " '자산총계',\n",
       " '유동부채',\n",
       " '비유동부채',\n",
       " '부  채  총  계',\n",
       " '자본금',\n",
       " '이익잉여금(결손금）',\n",
       " '자본총계',\n",
       " '매출액',\n",
       " '판매비와관리비',\n",
       " '영업이익（손실）',\n",
       " '법인세비용차감전순손익',\n",
       " '법인세비용',\n",
       " '당기순이익(손실)',\n",
       " '기업순이익률(%)',\n",
       " '유보액/총자산(%)',\n",
       " '유보액/납입자본(%)',\n",
       " '매출액총이익률(%)',\n",
       " '매출액영업이익률(%)',\n",
       " '매출액순이익률(%)',\n",
       " '수지비율(%)',\n",
       " '경상수지비율',\n",
       " '영업비율(%)',\n",
       " '금융비용대매출액비율(%',\n",
       " '금융비용대부채비율(%)',\n",
       " '금융비용대총비용비율(%',\n",
       " '부채비율(%)',\n",
       " '차입금의존도(%)',\n",
       " '자기자본비율(%)',\n",
       " '순운전자본비율(%)',\n",
       " '유동부채비율(%)',\n",
       " '비유동부채비율(%)',\n",
       " '부채총계대 매출액(%)',\n",
       " '총자본회전율(회)',\n",
       " '재고자산회전율(회)',\n",
       " '매출채권회전율(회)',\n",
       " '매입채무회전율(회)',\n",
       " '미수금',\n",
       " '매출원가',\n",
       " '무형자산',\n",
       " '재고자산',\n",
       " '공기업구분 1.공기업 2.일반기업',\n",
       " '본점지점구분 1.본점 2.지점',\n",
       " '국외투자법인여부',\n",
       " '벤처기업여부']"
      ]
     },
     "execution_count": 781,
     "metadata": {},
     "output_type": "execute_result"
    }
   ],
   "source": [
    "# 필요없는 피처 제거(최종)\n",
    "drop_features = ['공공기관유형', '업종중분류', '업종대분류', '기업명', '사업자등록번호', '결산년월', '휴폐업구분', '산업코드1', '시도', '업종', '년도']\n",
    "\n",
    "remaining_features = [feature_name for feature_name in df_drop_final.columns\n",
    "                      if (feature_name not in drop_features)]\n",
    "\n",
    "remaining_features"
   ]
  },
  {
   "cell_type": "code",
   "execution_count": 782,
   "metadata": {},
   "outputs": [
    {
     "data": {
      "text/plain": [
       "<101962x119 sparse matrix of type '<class 'numpy.float64'>'\n",
       "\twith 4316468 stored elements in Compressed Sparse Row format>"
      ]
     },
     "execution_count": 782,
     "metadata": {},
     "output_type": "execute_result"
    }
   ],
   "source": [
    "# 원-핫 인코딩한 결과와 제거하고 남은 피처들을 하나로 합치기\n",
    "from scipy import sparse\n",
    "\n",
    "data_sprs = sparse.hstack([sparse.csr_matrix(df_drop_final[remaining_features]),\n",
    "                               encoded_cat_matrix],\n",
    "                               format='csr')\n",
    "data_sprs"
   ]
  },
  {
   "cell_type": "markdown",
   "metadata": {},
   "source": [
    "# 베이스라인 만들기\n",
    "- 베이스라인 모델은 LightGBM 모델로 선정했다."
   ]
  },
  {
   "cell_type": "code",
   "execution_count": 783,
   "metadata": {},
   "outputs": [],
   "source": [
    "# 타겟값 나누기\n",
    "X = data_sprs\n",
    "y = df_drop_final['휴폐업구분'].values"
   ]
  },
  {
   "cell_type": "code",
   "execution_count": 784,
   "metadata": {},
   "outputs": [],
   "source": [
    "# 훈련셋, 테스트셋 나누기\n",
    "from sklearn.model_selection import train_test_split\n",
    "\n",
    "X_train, X_test, y_train, y_test = train_test_split(X, y, test_size=0.2, random_state=42, stratify=y)"
   ]
  },
  {
   "cell_type": "code",
   "execution_count": 785,
   "metadata": {},
   "outputs": [],
   "source": [
    "# 훈련셋, 검증셋 나누기\n",
    "from sklearn.model_selection import train_test_split\n",
    "\n",
    "X_train, X_val, y_train, y_val = train_test_split(X_train, y_train, test_size=0.1, random_state=42)"
   ]
  },
  {
   "cell_type": "code",
   "execution_count": 786,
   "metadata": {},
   "outputs": [
    {
     "data": {
      "text/plain": [
       "(101962, 119)"
      ]
     },
     "execution_count": 786,
     "metadata": {},
     "output_type": "execute_result"
    }
   ],
   "source": [
    "X.shape"
   ]
  },
  {
   "cell_type": "code",
   "execution_count": 787,
   "metadata": {},
   "outputs": [
    {
     "name": "stdout",
     "output_type": "stream",
     "text": [
      "훈련 데이터셋의 입력 데이터의 크기: (73412, 119), 타겟값의 크기: (73412,)\n",
      "검증 데이터셋의 입력 데이터의 크기: (8157, 119), 타겟값의 크기: (8157,)\n",
      "테스트 데이터셋의입력 데이터의 크기: (20393, 119), 타겟값의 크기: (20393,)\n"
     ]
    }
   ],
   "source": [
    "print(f\"훈련 데이터셋의 입력 데이터의 크기: {X_train.shape}, 타겟값의 크기: {y_train.shape}\")\n",
    "print(f\"검증 데이터셋의 입력 데이터의 크기: {X_val.shape}, 타겟값의 크기: {y_val.shape}\")\n",
    "print(f\"테스트 데이터셋의입력 데이터의 크기: {X_test.shape}, 타겟값의 크기: {y_test.shape}\")"
   ]
  },
  {
   "cell_type": "code",
   "execution_count": 788,
   "metadata": {},
   "outputs": [],
   "source": [
    "from lightgbm import LGBMClassifier\n",
    "\n",
    "lgbm_wrapper = LGBMClassifier(n_estimators=400, learning_rate=0.05)"
   ]
  },
  {
   "cell_type": "code",
   "execution_count": 789,
   "metadata": {},
   "outputs": [],
   "source": [
    "evals = [(X_train, y_train), (X_val, y_val)]"
   ]
  },
  {
   "cell_type": "code",
   "execution_count": 790,
   "metadata": {},
   "outputs": [
    {
     "name": "stderr",
     "output_type": "stream",
     "text": [
      "c:\\Users\\ASUS\\.conda\\envs\\cabta\\lib\\site-packages\\lightgbm\\sklearn.py:726: UserWarning: 'early_stopping_rounds' argument is deprecated and will be removed in a future release of LightGBM. Pass 'early_stopping()' callback via 'callbacks' argument instead.\n",
      "  _log_warning(\"'early_stopping_rounds' argument is deprecated and will be removed in a future release of LightGBM. \"\n",
      "c:\\Users\\ASUS\\.conda\\envs\\cabta\\lib\\site-packages\\lightgbm\\sklearn.py:736: UserWarning: 'verbose' argument is deprecated and will be removed in a future release of LightGBM. Pass 'log_evaluation()' callback via 'callbacks' argument instead.\n",
      "  _log_warning(\"'verbose' argument is deprecated and will be removed in a future release of LightGBM. \"\n"
     ]
    },
    {
     "data": {
      "text/plain": [
       "LGBMClassifier(learning_rate=0.05, n_estimators=400)"
      ]
     },
     "execution_count": 790,
     "metadata": {},
     "output_type": "execute_result"
    }
   ],
   "source": [
    "lgbm_wrapper.fit(X_train, y_train, early_stopping_rounds=50, eval_metric='logloss', eval_set=evals, verbose=False)"
   ]
  },
  {
   "cell_type": "code",
   "execution_count": 791,
   "metadata": {},
   "outputs": [],
   "source": [
    "preds = lgbm_wrapper.predict(X_test)"
   ]
  },
  {
   "cell_type": "code",
   "execution_count": 792,
   "metadata": {},
   "outputs": [],
   "source": [
    "pred_proba = lgbm_wrapper.predict_proba(X_test)[:, 1]"
   ]
  },
  {
   "cell_type": "code",
   "execution_count": 793,
   "metadata": {},
   "outputs": [],
   "source": [
    "# 평가지표 출력하는 함수 설정\n",
    "from sklearn.metrics import accuracy_score, precision_score, recall_score, roc_auc_score\n",
    "from sklearn.metrics import f1_score, confusion_matrix, precision_recall_curve, roc_curve\n",
    "\n",
    "# 수정된 get_clf_eval() 함수 \n",
    "def get_clf_eval(y_test, pred=None, pred_proba=None):\n",
    "    confusion = confusion_matrix( y_test, pred)\n",
    "    accuracy = accuracy_score(y_test , pred)\n",
    "    precision = precision_score(y_test , pred)\n",
    "    recall = recall_score(y_test , pred)\n",
    "    f1 = f1_score(y_test,pred)\n",
    "    # ROC-AUC 추가 \n",
    "    roc_auc = roc_auc_score(y_test, pred_proba)\n",
    "    print('오차 행렬')\n",
    "    print(confusion)\n",
    "    # ROC-AUC print 추가\n",
    "    print('정확도: {0:.4f}, 정밀도: {1:.4f}, 재현율: {2:.4f},\\\n",
    "    F1: {3:.4f}, AUC:{4:.4f}'.format(accuracy, precision, recall, f1, roc_auc))"
   ]
  },
  {
   "cell_type": "code",
   "execution_count": 794,
   "metadata": {},
   "outputs": [
    {
     "name": "stdout",
     "output_type": "stream",
     "text": [
      "오차 행렬\n",
      "[[18255   216]\n",
      " [  607  1315]]\n",
      "정확도: 0.9596, 정밀도: 0.8589, 재현율: 0.6842,    F1: 0.7617, AUC:0.9611\n"
     ]
    }
   ],
   "source": [
    "get_clf_eval(y_test, preds, pred_proba)"
   ]
  }
 ],
 "metadata": {
  "kernelspec": {
   "display_name": "Python 3.8.13 ('cabta')",
   "language": "python",
   "name": "python3"
  },
  "language_info": {
   "codemirror_mode": {
    "name": "ipython",
    "version": 3
   },
   "file_extension": ".py",
   "mimetype": "text/x-python",
   "name": "python",
   "nbconvert_exporter": "python",
   "pygments_lexer": "ipython3",
   "version": "3.8.13"
  },
  "orig_nbformat": 4,
  "vscode": {
   "interpreter": {
    "hash": "a063b7be1b1d22be0fca1b26cf478769b2ebdd8896aff1eef11b858cbacfa39b"
   }
  }
 },
 "nbformat": 4,
 "nbformat_minor": 2
}
