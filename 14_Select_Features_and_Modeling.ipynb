{
 "cells": [
  {
   "cell_type": "markdown",
   "metadata": {},
   "source": [
    "# 1. 기본변수선정 : 가설검정을 통한 재무 데이터와 비재무 데이터의 선정"
   ]
  },
  {
   "cell_type": "markdown",
   "metadata": {},
   "source": [
    "베이스라인에 사용한 변수는 56개로 같은 것을 나타내는 변수가 존재하고 있을 것이다. 이는 다중공선성 문제와 직결되기 때문에 가설검정을 통해 변수를 추려내려한다.\n",
    "1. 재무 데이터(연속형): 휴폐업인 기업과 영업중인 기업의 재무 데이터 중 분포가 차이가 나는 것이 추후 분류 모델에 적용 시 도움이 될 것이므로 Two Sample T-Test를 진행한다.\n",
    "2. 비재무 데이터(명목형) : 타겟값인 휴폐업 여부와 비재무 데이터 중 독립이 아닌 것 즉, 연관이 있는 것들이 추후 분류 모델에 적용 시 도움이 될 것이므로 Two Sample Chi-Squared-Test를 진행한다."
   ]
  },
  {
   "cell_type": "markdown",
   "metadata": {},
   "source": [
    "## 1-1. 휴폐업인 기업과 영업중인 기업간의 차이를 확인하기 위한 Two-Sample T-Test 진행\n"
   ]
  },
  {
   "cell_type": "markdown",
   "metadata": {},
   "source": [
    "### - 귀무가설: 휴폐업인 기업과 영업중인 기업의 A 재무 데이터는 동일하다.\n",
    "### - 대립가설: 휴폐업인 기업과 영업중인 기업의 A 재무 데이터는 달라서 두 집단을 구분할 수 있다."
   ]
  },
  {
   "cell_type": "markdown",
   "metadata": {},
   "source": [
    "### 1-1-1. 데이터 불러오기"
   ]
  },
  {
   "cell_type": "code",
   "execution_count": 1,
   "metadata": {},
   "outputs": [],
   "source": [
    "import pandas as pd\n",
    "from scipy import stats\n",
    "import warnings\n",
    "\n",
    "warnings.filterwarnings('ignore')"
   ]
  },
  {
   "cell_type": "code",
   "execution_count": 2,
   "metadata": {},
   "outputs": [],
   "source": [
    "df = pd.read_csv('./custom_data/base_data.csv', encoding='cp949')\n",
    "indurstry = pd.read_csv('./custom_data/feature_engineering_idurstry_code.csv', encoding='cp949')"
   ]
  },
  {
   "cell_type": "code",
   "execution_count": 3,
   "metadata": {},
   "outputs": [],
   "source": [
    "# 베이스 라인에서 사용한 데이터와 업종중분류, 업종대분류 데이터 합치기\n",
    "df_merge_indurstry = pd.merge(df, indurstry[['사업자등록번호', '업종중분류', '업종대분류']], on='사업자등록번호', how='left')"
   ]
  },
  {
   "cell_type": "markdown",
   "metadata": {},
   "source": [
    "### 1-1-2. 데이터 정제(베이스라인과 동일)"
   ]
  },
  {
   "cell_type": "code",
   "execution_count": 4,
   "metadata": {},
   "outputs": [],
   "source": [
    "def check_biz_no(df):\n",
    "    \"\"\"\n",
    "    사업자등록번호가 여러 개인 기업들을 찾고, 각 경우에 따라 처리하는 함수입니다.\n",
    "    ----------------------------------------\n",
    "    input = 데이터프레임\n",
    "    return = 정제한 데이터프레임\n",
    "    ----------------------------------------\n",
    "    \"\"\"\n",
    "    df_origin = df.copy()\n",
    "\n",
    "    group_data = df.groupby(['기업명', '사업자등록번호'], as_index=False).size()\n",
    "\n",
    "    duplicated_cor_name = group_data[group_data.duplicated(subset=['기업명'])]['기업명'].unique()\n",
    "\n",
    "    result_dict = [{\"case1_사업자등록번호\":[]}, {\"case2_사업자등록번호\":[]}]\n",
    "\n",
    "    # case1, case2에 해당하는 사업자등록번호 찾기\n",
    "    for dup_name in duplicated_cor_name:\n",
    "        dup_count = group_data.loc[group_data['기업명'] == dup_name]['size'].values.tolist()\n",
    "        if len(set(dup_count)) == 1:\n",
    "            for i in range(len(dup_count)-1):\n",
    "                result_dict[0][\"case1_사업자등록번호\"].append(group_data.loc[group_data['기업명'] == dup_name].iloc[i]['사업자등록번호'])\n",
    "        elif len(set(dup_count)) != 1:\n",
    "            for i in range(1, len(dup_count)):\n",
    "                result_dict[1][\"case2_사업자등록번호\"].append(group_data.loc[group_data['기업명'] == dup_name].iloc[i]['사업자등록번호'])\n",
    "    \n",
    "    # case1에 해당하는 경우 제거하기\n",
    "    for case1_num in result_dict[0][\"case1_사업자등록번호\"]:\n",
    "        idx = df[df['사업자등록번호']==case1_num].index\n",
    "        df.drop(idx, inplace=True)\n",
    "\n",
    "    # case2에 해당하는 경우 제거하기\n",
    "    for case2_num in result_dict[1][\"case2_사업자등록번호\"]:\n",
    "        idx = df[df['사업자등록번호']==case2_num].index\n",
    "        df.drop(idx, inplace=True)\n",
    "    \n",
    "    print(f\"사업자등록번호가 여러 개인 기업들을 기준에 따라 정제한 결과 {df_origin.shape[0] - df.shape[0]}개의 데이터가 제거되었습니다.\")\n",
    "    print(f\"사업자등록번호를 기준으로 정제 후 데이터의 크기: {df.shape}\")"
   ]
  },
  {
   "cell_type": "code",
   "execution_count": 5,
   "metadata": {},
   "outputs": [
    {
     "name": "stdout",
     "output_type": "stream",
     "text": [
      "사업자등록번호가 여러 개인 기업들을 기준에 따라 정제한 결과 6197개의 데이터가 제거되었습니다.\n",
      "사업자등록번호를 기준으로 정제 후 데이터의 크기: (102945, 79)\n"
     ]
    }
   ],
   "source": [
    "check_biz_no(df_merge_indurstry)"
   ]
  },
  {
   "cell_type": "code",
   "execution_count": 6,
   "metadata": {},
   "outputs": [],
   "source": [
    "df_finance_missing_value = df_merge_indurstry.copy()"
   ]
  },
  {
   "cell_type": "code",
   "execution_count": 7,
   "metadata": {},
   "outputs": [],
   "source": [
    "finance_columns = df_finance_missing_value.columns[:46]\n",
    "\n",
    "# 결측치를 0으로 변환\n",
    "df_finance_missing_value[finance_columns] = df_finance_missing_value[finance_columns].fillna(0)\n",
    "\n",
    "for column in finance_columns:\n",
    "    df_finance_missing_value[column] = df_finance_missing_value[column].apply(lambda x: 0 if x == 1000000000000 else x)\n",
    "    df_finance_missing_value[column] = df_finance_missing_value[column].apply(lambda x: 0 if x == 888888888889 else x)"
   ]
  },
  {
   "cell_type": "code",
   "execution_count": 8,
   "metadata": {},
   "outputs": [
    {
     "name": "stdout",
     "output_type": "stream",
     "text": [
      "정제 후 결측치의 개수: 0개\n",
      "정제 후 이상치의 개수: 0개\n"
     ]
    }
   ],
   "source": [
    "print(f\"정제 후 결측치의 개수: {df_finance_missing_value[finance_columns].isna().sum().sum()}개\")\n",
    "total = 0\n",
    "for column in finance_columns:\n",
    "    total += len(df_finance_missing_value.loc[(df_finance_missing_value[column] == 1000000000000) | (df_finance_missing_value[column] == 888888888889)])\n",
    "print(f\"정제 후 이상치의 개수: {total}개\")"
   ]
  },
  {
   "cell_type": "code",
   "execution_count": 9,
   "metadata": {},
   "outputs": [
    {
     "name": "stdout",
     "output_type": "stream",
     "text": [
      "자본금이 음수인 기업의 개수: 5개\n"
     ]
    }
   ],
   "source": [
    "# 5개기업이 (-) 자본금을 가짐\n",
    "count_minus_capital_stock = df_finance_missing_value.loc[df_finance_missing_value['자본금'] < 0].shape[0]\n",
    "print(f\"자본금이 음수인 기업의 개수: {count_minus_capital_stock}개\")"
   ]
  },
  {
   "cell_type": "code",
   "execution_count": 10,
   "metadata": {},
   "outputs": [
    {
     "name": "stdout",
     "output_type": "stream",
     "text": [
      "정제 후 자본금이 음수인 기업의 개수: 0개\n"
     ]
    }
   ],
   "source": [
    "# 0으로 바꿈\n",
    "df_finance_missing_value['자본금'] = df_finance_missing_value['자본금'].apply(lambda x: 0 if x < 0 else x)\n",
    "count_minus_capital_stock = df_finance_missing_value.loc[df_finance_missing_value['자본금'] < 0].shape[0]\n",
    "print(f\"정제 후 자본금이 음수인 기업의 개수: {count_minus_capital_stock}개\")"
   ]
  },
  {
   "cell_type": "code",
   "execution_count": 11,
   "metadata": {},
   "outputs": [
    {
     "data": {
      "text/html": [
       "<div>\n",
       "<style scoped>\n",
       "    .dataframe tbody tr th:only-of-type {\n",
       "        vertical-align: middle;\n",
       "    }\n",
       "\n",
       "    .dataframe tbody tr th {\n",
       "        vertical-align: top;\n",
       "    }\n",
       "\n",
       "    .dataframe thead th {\n",
       "        text-align: right;\n",
       "    }\n",
       "</style>\n",
       "<table border=\"1\" class=\"dataframe\">\n",
       "  <thead>\n",
       "    <tr style=\"text-align: right;\">\n",
       "      <th></th>\n",
       "      <th>사업자등록번호</th>\n",
       "      <th>결산년월</th>\n",
       "      <th>유동자산</th>\n",
       "      <th>매출채권</th>\n",
       "      <th>비유동자산</th>\n",
       "      <th>유형자산</th>\n",
       "      <th>자산총계</th>\n",
       "      <th>유동부채</th>\n",
       "      <th>비유동부채</th>\n",
       "      <th>부  채  총  계</th>\n",
       "      <th>...</th>\n",
       "      <th>비유동부채비율(%)</th>\n",
       "      <th>부채총계대 매출액(%)</th>\n",
       "      <th>총자본회전율(회)</th>\n",
       "      <th>재고자산회전율(회)</th>\n",
       "      <th>매출채권회전율(회)</th>\n",
       "      <th>매입채무회전율(회)</th>\n",
       "      <th>미수금</th>\n",
       "      <th>매출원가</th>\n",
       "      <th>무형자산</th>\n",
       "      <th>재고자산</th>\n",
       "    </tr>\n",
       "  </thead>\n",
       "  <tbody>\n",
       "    <tr>\n",
       "      <th>280</th>\n",
       "      <td>1018164892</td>\n",
       "      <td>20191231</td>\n",
       "      <td>0.0</td>\n",
       "      <td>0.0</td>\n",
       "      <td>0.0</td>\n",
       "      <td>0.0</td>\n",
       "      <td>0.0</td>\n",
       "      <td>0.0</td>\n",
       "      <td>0.0</td>\n",
       "      <td>0.0</td>\n",
       "      <td>...</td>\n",
       "      <td>0.0</td>\n",
       "      <td>0.0</td>\n",
       "      <td>0.0</td>\n",
       "      <td>0.0</td>\n",
       "      <td>0.0</td>\n",
       "      <td>0.0</td>\n",
       "      <td>0.0</td>\n",
       "      <td>0.0</td>\n",
       "      <td>0.0</td>\n",
       "      <td>0.0</td>\n",
       "    </tr>\n",
       "    <tr>\n",
       "      <th>281</th>\n",
       "      <td>1018164892</td>\n",
       "      <td>20201231</td>\n",
       "      <td>0.0</td>\n",
       "      <td>0.0</td>\n",
       "      <td>0.0</td>\n",
       "      <td>0.0</td>\n",
       "      <td>0.0</td>\n",
       "      <td>0.0</td>\n",
       "      <td>0.0</td>\n",
       "      <td>0.0</td>\n",
       "      <td>...</td>\n",
       "      <td>0.0</td>\n",
       "      <td>0.0</td>\n",
       "      <td>0.0</td>\n",
       "      <td>0.0</td>\n",
       "      <td>0.0</td>\n",
       "      <td>0.0</td>\n",
       "      <td>0.0</td>\n",
       "      <td>0.0</td>\n",
       "      <td>0.0</td>\n",
       "      <td>0.0</td>\n",
       "    </tr>\n",
       "    <tr>\n",
       "      <th>282</th>\n",
       "      <td>1018164892</td>\n",
       "      <td>20211231</td>\n",
       "      <td>0.0</td>\n",
       "      <td>0.0</td>\n",
       "      <td>0.0</td>\n",
       "      <td>0.0</td>\n",
       "      <td>0.0</td>\n",
       "      <td>0.0</td>\n",
       "      <td>0.0</td>\n",
       "      <td>0.0</td>\n",
       "      <td>...</td>\n",
       "      <td>0.0</td>\n",
       "      <td>0.0</td>\n",
       "      <td>0.0</td>\n",
       "      <td>0.0</td>\n",
       "      <td>0.0</td>\n",
       "      <td>0.0</td>\n",
       "      <td>0.0</td>\n",
       "      <td>0.0</td>\n",
       "      <td>0.0</td>\n",
       "      <td>0.0</td>\n",
       "    </tr>\n",
       "    <tr>\n",
       "      <th>336</th>\n",
       "      <td>1018179639</td>\n",
       "      <td>20191231</td>\n",
       "      <td>0.0</td>\n",
       "      <td>0.0</td>\n",
       "      <td>0.0</td>\n",
       "      <td>0.0</td>\n",
       "      <td>0.0</td>\n",
       "      <td>0.0</td>\n",
       "      <td>0.0</td>\n",
       "      <td>0.0</td>\n",
       "      <td>...</td>\n",
       "      <td>0.0</td>\n",
       "      <td>0.0</td>\n",
       "      <td>0.0</td>\n",
       "      <td>0.0</td>\n",
       "      <td>0.0</td>\n",
       "      <td>0.0</td>\n",
       "      <td>0.0</td>\n",
       "      <td>0.0</td>\n",
       "      <td>0.0</td>\n",
       "      <td>0.0</td>\n",
       "    </tr>\n",
       "    <tr>\n",
       "      <th>337</th>\n",
       "      <td>1018179639</td>\n",
       "      <td>20201231</td>\n",
       "      <td>0.0</td>\n",
       "      <td>0.0</td>\n",
       "      <td>0.0</td>\n",
       "      <td>0.0</td>\n",
       "      <td>0.0</td>\n",
       "      <td>0.0</td>\n",
       "      <td>0.0</td>\n",
       "      <td>0.0</td>\n",
       "      <td>...</td>\n",
       "      <td>0.0</td>\n",
       "      <td>0.0</td>\n",
       "      <td>0.0</td>\n",
       "      <td>0.0</td>\n",
       "      <td>0.0</td>\n",
       "      <td>0.0</td>\n",
       "      <td>0.0</td>\n",
       "      <td>0.0</td>\n",
       "      <td>0.0</td>\n",
       "      <td>0.0</td>\n",
       "    </tr>\n",
       "  </tbody>\n",
       "</table>\n",
       "<p>5 rows × 46 columns</p>\n",
       "</div>"
      ],
      "text/plain": [
       "        사업자등록번호      결산년월  유동자산  매출채권  비유동자산  유형자산  자산총계  유동부채  비유동부채  \\\n",
       "280  1018164892  20191231   0.0   0.0    0.0   0.0   0.0   0.0    0.0   \n",
       "281  1018164892  20201231   0.0   0.0    0.0   0.0   0.0   0.0    0.0   \n",
       "282  1018164892  20211231   0.0   0.0    0.0   0.0   0.0   0.0    0.0   \n",
       "336  1018179639  20191231   0.0   0.0    0.0   0.0   0.0   0.0    0.0   \n",
       "337  1018179639  20201231   0.0   0.0    0.0   0.0   0.0   0.0    0.0   \n",
       "\n",
       "     부  채  총  계  ...  비유동부채비율(%)  부채총계대 매출액(%)  총자본회전율(회)  재고자산회전율(회)  \\\n",
       "280         0.0  ...         0.0           0.0        0.0         0.0   \n",
       "281         0.0  ...         0.0           0.0        0.0         0.0   \n",
       "282         0.0  ...         0.0           0.0        0.0         0.0   \n",
       "336         0.0  ...         0.0           0.0        0.0         0.0   \n",
       "337         0.0  ...         0.0           0.0        0.0         0.0   \n",
       "\n",
       "     매출채권회전율(회)  매입채무회전율(회)  미수금  매출원가  무형자산  재고자산  \n",
       "280         0.0         0.0  0.0   0.0   0.0   0.0  \n",
       "281         0.0         0.0  0.0   0.0   0.0   0.0  \n",
       "282         0.0         0.0  0.0   0.0   0.0   0.0  \n",
       "336         0.0         0.0  0.0   0.0   0.0   0.0  \n",
       "337         0.0         0.0  0.0   0.0   0.0   0.0  \n",
       "\n",
       "[5 rows x 46 columns]"
      ]
     },
     "execution_count": 11,
     "metadata": {},
     "output_type": "execute_result"
    }
   ],
   "source": [
    "df_finance_missing_value.loc[df_finance_missing_value['자산총계'] == 0].iloc[:5, :46]"
   ]
  },
  {
   "cell_type": "code",
   "execution_count": 12,
   "metadata": {},
   "outputs": [
    {
     "name": "stdout",
     "output_type": "stream",
     "text": [
      "자산의 이상치 제거 결과 983개의 데이터가 제거되었습니다.\n"
     ]
    }
   ],
   "source": [
    "count_zero_total_assets = df_finance_missing_value.loc[df_finance_missing_value['자산총계'] == 0].shape[0]\n",
    "df_finance_missing_value = df_finance_missing_value[df_finance_missing_value['자산총계'] != 0]\n",
    "\n",
    "print(f\"자산의 이상치 제거 결과 {count_zero_total_assets}개의 데이터가 제거되었습니다.\")"
   ]
  },
  {
   "cell_type": "code",
   "execution_count": 13,
   "metadata": {},
   "outputs": [],
   "source": [
    "# 2018, 2022년도의 데이터 제거\n",
    "df_finance_missing_value['결산년월'] = df_finance_missing_value['결산년월'].astype(str)\n",
    "df_cleaning = df_finance_missing_value.loc[~df_finance_missing_value['결산년월'].str.contains('2018|2022')].reset_index(drop=True)"
   ]
  },
  {
   "cell_type": "code",
   "execution_count": 14,
   "metadata": {},
   "outputs": [
    {
     "data": {
      "text/plain": [
       "(72968, 79)"
      ]
     },
     "execution_count": 14,
     "metadata": {},
     "output_type": "execute_result"
    }
   ],
   "source": [
    "df_cleaning.shape"
   ]
  },
  {
   "cell_type": "code",
   "execution_count": 15,
   "metadata": {},
   "outputs": [
    {
     "data": {
      "text/plain": [
       "폐업      3775\n",
       "폐업취소     541\n",
       "휴업취소     314\n",
       "휴업         1\n",
       "Name: 휴폐업구분, dtype: int64"
      ]
     },
     "execution_count": 15,
     "metadata": {},
     "output_type": "execute_result"
    }
   ],
   "source": [
    "df_cleaning['휴폐업구분'].value_counts()"
   ]
  },
  {
   "cell_type": "code",
   "execution_count": 16,
   "metadata": {},
   "outputs": [],
   "source": [
    "def change_target(value):\n",
    "    \"\"\"\n",
    "    타겟값을 변환하기 위한 함수입니다.\n",
    "    --------------------------------\n",
    "    input = 휴폐업구분\n",
    "    return = 폐업 or 휴업\n",
    "    --------------------------------\n",
    "    \"\"\"\n",
    "    if value in ['폐업', '휴업']:\n",
    "        return 1\n",
    "    return 0"
   ]
  },
  {
   "cell_type": "code",
   "execution_count": 17,
   "metadata": {},
   "outputs": [],
   "source": [
    "df_cleaning['휴폐업구분'] = df_cleaning['휴폐업구분'].apply(change_target)"
   ]
  },
  {
   "cell_type": "code",
   "execution_count": 18,
   "metadata": {},
   "outputs": [
    {
     "data": {
      "text/plain": [
       "0    69192\n",
       "1     3776\n",
       "Name: 휴폐업구분, dtype: int64"
      ]
     },
     "execution_count": 18,
     "metadata": {},
     "output_type": "execute_result"
    }
   ],
   "source": [
    "df_cleaning['휴폐업구분'].value_counts()"
   ]
  },
  {
   "cell_type": "markdown",
   "metadata": {},
   "source": [
    "### 1-1-3. Two Sample T-Test 계산"
   ]
  },
  {
   "cell_type": "code",
   "execution_count": 19,
   "metadata": {},
   "outputs": [],
   "source": [
    "def calculate_ttest(df, column_list):\n",
    "    \"\"\"\n",
    "    Two Sample T-Test를 수행하고 유의미한 변수를 리스트에 담아 반환하는 함수입니다.\n",
    "    --------------------------------------------------------------------------\n",
    "    input = 데이터프레임, t-test를 수행할 변수명(리스트)\n",
    "    return = 유의미한 변수(리스트)\n",
    "    --------------------------------------------------------------------------\n",
    "    \"\"\"\n",
    "    df_active = df.loc[df['휴폐업구분'] == 0]\n",
    "    df_closed = df.loc[df['휴폐업구분'] == 1]\n",
    "\n",
    "    use_columns = []\n",
    "\n",
    "    for column in column_list:\n",
    "        closed = df_active[column]\n",
    "        active = df_closed[column]\n",
    "        _, p_value = stats.ttest_ind(active, closed)\n",
    "        if p_value < 0.05:\n",
    "            print(f\"영업중인 기업과 폐업한 기업의 {column} 변수는 차이가 있다. 따라서 유의미한 변수이다.\")\n",
    "            use_columns.append(column)\n",
    "    \n",
    "    return use_columns"
   ]
  },
  {
   "cell_type": "code",
   "execution_count": 20,
   "metadata": {},
   "outputs": [
    {
     "name": "stdout",
     "output_type": "stream",
     "text": [
      "영업중인 기업과 폐업한 기업의 유동자산 변수는 차이가 있다. 따라서 유의미한 변수이다.\n",
      "영업중인 기업과 폐업한 기업의 매출채권 변수는 차이가 있다. 따라서 유의미한 변수이다.\n",
      "영업중인 기업과 폐업한 기업의 비유동자산 변수는 차이가 있다. 따라서 유의미한 변수이다.\n",
      "영업중인 기업과 폐업한 기업의 유형자산 변수는 차이가 있다. 따라서 유의미한 변수이다.\n",
      "영업중인 기업과 폐업한 기업의 자산총계 변수는 차이가 있다. 따라서 유의미한 변수이다.\n",
      "영업중인 기업과 폐업한 기업의 유동부채 변수는 차이가 있다. 따라서 유의미한 변수이다.\n",
      "영업중인 기업과 폐업한 기업의 비유동부채 변수는 차이가 있다. 따라서 유의미한 변수이다.\n",
      "영업중인 기업과 폐업한 기업의 부  채  총  계 변수는 차이가 있다. 따라서 유의미한 변수이다.\n",
      "영업중인 기업과 폐업한 기업의 이익잉여금(결손금） 변수는 차이가 있다. 따라서 유의미한 변수이다.\n",
      "영업중인 기업과 폐업한 기업의 자본총계 변수는 차이가 있다. 따라서 유의미한 변수이다.\n",
      "영업중인 기업과 폐업한 기업의 매출액 변수는 차이가 있다. 따라서 유의미한 변수이다.\n",
      "영업중인 기업과 폐업한 기업의 판매비와관리비 변수는 차이가 있다. 따라서 유의미한 변수이다.\n",
      "영업중인 기업과 폐업한 기업의 영업이익（손실） 변수는 차이가 있다. 따라서 유의미한 변수이다.\n",
      "영업중인 기업과 폐업한 기업의 법인세비용차감전순손익 변수는 차이가 있다. 따라서 유의미한 변수이다.\n",
      "영업중인 기업과 폐업한 기업의 법인세비용 변수는 차이가 있다. 따라서 유의미한 변수이다.\n",
      "영업중인 기업과 폐업한 기업의 당기순이익(손실) 변수는 차이가 있다. 따라서 유의미한 변수이다.\n",
      "영업중인 기업과 폐업한 기업의 기업순이익률(%) 변수는 차이가 있다. 따라서 유의미한 변수이다.\n",
      "영업중인 기업과 폐업한 기업의 유보액/총자산(%) 변수는 차이가 있다. 따라서 유의미한 변수이다.\n",
      "영업중인 기업과 폐업한 기업의 금융비용대총비용비율(% 변수는 차이가 있다. 따라서 유의미한 변수이다.\n",
      "영업중인 기업과 폐업한 기업의 차입금의존도(%) 변수는 차이가 있다. 따라서 유의미한 변수이다.\n",
      "영업중인 기업과 폐업한 기업의 자기자본비율(%) 변수는 차이가 있다. 따라서 유의미한 변수이다.\n",
      "영업중인 기업과 폐업한 기업의 총자본회전율(회) 변수는 차이가 있다. 따라서 유의미한 변수이다.\n",
      "영업중인 기업과 폐업한 기업의 매출원가 변수는 차이가 있다. 따라서 유의미한 변수이다.\n",
      "영업중인 기업과 폐업한 기업의 재고자산 변수는 차이가 있다. 따라서 유의미한 변수이다.\n"
     ]
    }
   ],
   "source": [
    "basic_finance_use_columns = calculate_ttest(df_cleaning, df_cleaning.columns[2:46])"
   ]
  },
  {
   "cell_type": "markdown",
   "metadata": {},
   "source": [
    "### 1-1-4. 재무 데이터 가설 검정 결과\n",
    "- 휴폐업인 기업과 영업 중인 기업 두 집단의 44개 재무 데이터에 대해 Two Sample T-Test를 진행한 결과 p-value가 0.05보다 작은 작은 24개의 변수 발견, <br>\n",
    "  따라서 귀무가설을 기각하고 대립가설 채택.\n",
    "- 선정된 재무 데이터 목록<br>\n",
    ": 유동자산, 매출채권, 비유동자산, 유형자산, 자산총계, 유동부채, 비유동부채, 부채총계, 이익잉여금, 자본총계, 매출액, 판매비와관리비, 영업이익, 법인세비용차감전순손익, 법인세비용, 당기순이익, 기업순이익률, 유보액대총자산비율, 금융비용대총비용비율, 차입금의존도, 자기자본비율, 총자본회전율, 매출원가, 재고자산"
   ]
  },
  {
   "cell_type": "markdown",
   "metadata": {},
   "source": [
    "## 1-2. 비재무 데이터와 휴폐업 여부의 연관성을 확인하기 위해 Two Sample Chi-Squared-Test 진행 "
   ]
  },
  {
   "cell_type": "markdown",
   "metadata": {},
   "source": [
    "### - 귀무가설: 비재무 데이터 A와 휴폐업 여부는 독립이므로 연관이 없다.\n",
    "### - 대립가설: 비재무 데이터 A와 휴폐업 여부는 독립이 아니므로 연관이 있다. 따라서 휴폐업 예측에 영향이 있을 것이다."
   ]
  },
  {
   "cell_type": "markdown",
   "metadata": {},
   "source": [
    "### 1-2-1. 비재무 데이터 불러오기"
   ]
  },
  {
   "cell_type": "code",
   "execution_count": 21,
   "metadata": {},
   "outputs": [],
   "source": [
    "non_finance_columns = ['공기업구분 1.공기업 2.일반기업', '본점지점구분 1.본점 2.지점', '국외투자법인여부', \n",
    "                       '벤처기업여부', '공공기관유형', '업종중분류', '업종대분류', '업종']"
   ]
  },
  {
   "cell_type": "markdown",
   "metadata": {},
   "source": [
    "### 1-2-2. Two Sample Chi-Squared-Test 계산"
   ]
  },
  {
   "cell_type": "code",
   "execution_count": 22,
   "metadata": {},
   "outputs": [],
   "source": [
    "def calculate_chi_test(df, column_list):\n",
    "    \"\"\"\n",
    "    Two Sample Chi Squared Test를 수행하고 유의미한 변수를 리스트에 담아 반환하는 함수입니다.\n",
    "    --------------------------------------------------------------------------\n",
    "    input = 데이터프레임, chi-squared-test를 수행할 변수명(리스트)\n",
    "    return = 유의미한 변수(리스트)\n",
    "    --------------------------------------------------------------------------\n",
    "    \"\"\"\n",
    "    use_columns = []\n",
    "    \n",
    "    for colum in column_list:\n",
    "        non_finance_data = df[colum]\n",
    "        active_closed_data = df['휴폐업구분']\n",
    "\n",
    "        data = pd.crosstab(non_finance_data, active_closed_data)\n",
    "        _, pvalue, _, _ = stats.chi2_contingency(data, correction=False)\n",
    "        if pvalue < 0.05:\n",
    "            print(f\"휴폐업과 {colum} 데이터는 연관성이 나타난다. 따라서 유의미한 변수이다.\")\n",
    "            use_columns.append(colum)\n",
    "    \n",
    "    return use_columns"
   ]
  },
  {
   "cell_type": "code",
   "execution_count": 23,
   "metadata": {},
   "outputs": [
    {
     "name": "stdout",
     "output_type": "stream",
     "text": [
      "휴폐업과 본점지점구분 1.본점 2.지점 데이터는 연관성이 나타난다. 따라서 유의미한 변수이다.\n",
      "휴폐업과 국외투자법인여부 데이터는 연관성이 나타난다. 따라서 유의미한 변수이다.\n",
      "휴폐업과 업종중분류 데이터는 연관성이 나타난다. 따라서 유의미한 변수이다.\n",
      "휴폐업과 업종대분류 데이터는 연관성이 나타난다. 따라서 유의미한 변수이다.\n"
     ]
    }
   ],
   "source": [
    "basic_non_finance_use_columns = calculate_chi_test(df_cleaning, non_finance_columns)"
   ]
  },
  {
   "cell_type": "markdown",
   "metadata": {},
   "source": [
    "### 1-2-3. 비재무 데이터 가설검정 결과"
   ]
  },
  {
   "cell_type": "markdown",
   "metadata": {},
   "source": [
    "- 휴폐업 유무와 비재무 데이터 7개의 연관성을 확인하기 위해 Two Sample Chi-Squared-Test를 진행한 결과 p-value가 0.05보다 작은 변수 4개 발견, <br>\n",
    "  따라서 귀무가설을 기각하고 대립가설 채택.\n",
    "- 선정된 비재무 데이터 목록 <br>\n",
    ": 본점지점구분, 국외투자법인여부, 업종중분류, 업종대분류"
   ]
  },
  {
   "cell_type": "markdown",
   "metadata": {},
   "source": [
    "## 1-3. 검정 결과 유의미성 검증"
   ]
  },
  {
   "cell_type": "markdown",
   "metadata": {},
   "source": [
    "- 통계적으로 재무 데이터와 비재무 데이터에서 유의미해 보이는 피처들을 찾았다.\n",
    "- 따라서 베이스라인에서 사용한 데이터와 비교했을 때, 성능이 향상되면 검정 결과가 유의미하다는 것으로 간주하려한다."
   ]
  },
  {
   "cell_type": "code",
   "execution_count": 24,
   "metadata": {},
   "outputs": [
    {
     "name": "stdout",
     "output_type": "stream",
     "text": [
      "['유동자산', '매출채권', '비유동자산', '유형자산', '자산총계', '유동부채', '비유동부채', '부  채  총  계', '이익잉여금(결손금）', '자본총계', '매출액', '판매비와관리비', '영업이익（손실）', '법인세비용차감전순손익', '법인세비용', '당기순이익(손실)', '기업순이익률(%)', '유보액/총자산(%)', '금융비용대총비용비율(%', '차입금의존도(%)', '자기자본비율(%)', '총자본회전율(회)', '매출원가', '재고자산']\n"
     ]
    }
   ],
   "source": [
    "# 검정 결과로 추려낸 재무 데이터 변수 목록\n",
    "print(basic_finance_use_columns)"
   ]
  },
  {
   "cell_type": "code",
   "execution_count": 25,
   "metadata": {},
   "outputs": [],
   "source": [
    "basic_use_columns = basic_finance_use_columns + basic_non_finance_use_columns + ['휴폐업구분']"
   ]
  },
  {
   "cell_type": "code",
   "execution_count": 26,
   "metadata": {},
   "outputs": [],
   "source": [
    "# 검정 결과에 따른 학습 데이터 생성\n",
    "df_basic_ttest = df_cleaning[basic_use_columns]"
   ]
  },
  {
   "cell_type": "code",
   "execution_count": 27,
   "metadata": {},
   "outputs": [],
   "source": [
    "# 베이스 라인에서 사용한 학습 데이터 생성\n",
    "df_baseline = df_cleaning.drop(['기업접두명', '기업접미명', '기업영문명', '기업규모', '개인법인구분 1.법인 2.개인', \n",
    "                                '상장코드', '산업코드차수', '산업코드1', '산업코드2', '산업코드3', '본점기업코드', '설립일자', \n",
    "                                '설립구분', '상장일자', '주요사업내용', '국가명', '홈페이지URL', '대표자명',\n",
    "                                '직원수', '종료일자', '시작일자', '상태발생일자', '중견기업보호여부'], axis=1)"
   ]
  },
  {
   "cell_type": "code",
   "execution_count": 28,
   "metadata": {},
   "outputs": [],
   "source": [
    "from sklearn.model_selection import train_test_split\n",
    "from lightgbm import LGBMClassifier\n",
    "from xgboost import XGBClassifier\n",
    "from sklearn.ensemble import RandomForestClassifier\n",
    "from sklearn.linear_model import LogisticRegression\n",
    "from sklearn.naive_bayes import GaussianNB\n",
    "from sklearn.metrics import accuracy_score, precision_score, recall_score\n",
    "from sklearn.metrics import f1_score"
   ]
  },
  {
   "cell_type": "code",
   "execution_count": 29,
   "metadata": {},
   "outputs": [],
   "source": [
    "def preprocess_and_split_data(X, y):\n",
    "    \"\"\"\n",
    "    전처리와 데이터 분할을 수행하는 함수입니다.\n",
    "    \"\"\"\n",
    "    X = pd.get_dummies(X)\n",
    "    X = X.rename(columns = lambda x:x.replace(',', ' '))\n",
    "    \n",
    "    X_train, X_test, y_train, y_test = train_test_split(X, y, test_size=0.2, random_state=42, stratify=y)\n",
    "\n",
    "    print(f\"훈련 데이터셋의 입력 데이터의 크기: {X_train.shape}, 타겟값의 크기: {y_train.shape}\")\n",
    "    print(f\"테스트 데이터셋의 입력 데이터의 크기: {X_test.shape}, 타겟값의 크기: {y_test.shape}\")\n",
    "\n",
    "    return X_train, y_train, X_test, y_test\n",
    "\n",
    "def get_clf_eval(y_test, pred=None):\n",
    "    accuracy = accuracy_score(y_test , pred)\n",
    "    precision = precision_score(y_test , pred)\n",
    "    recall = recall_score(y_test , pred)\n",
    "    f1 = f1_score(y_test,pred)\n",
    "    print('정확도: {0:.4f}, 정밀도: {1:.4f}, 재현율: {2:.4f}, F1: {3:.4f}'.format(accuracy, precision, recall, f1))\n",
    "\n",
    "def train_model(X_train, y_train, X_test, y_test):\n",
    "    model = {\n",
    "        'LGBM':LGBMClassifier(),\n",
    "        'XGB':XGBClassifier(),\n",
    "        'RandomForest':RandomForestClassifier(),\n",
    "        'LogisticRegression':LogisticRegression(),\n",
    "        'NaiveBayes':GaussianNB()\n",
    "    }\n",
    "    for algorithm in model.keys():\n",
    "        estimator = model[algorithm]\n",
    "        if algorithm == 'XGB':\n",
    "            estimator.fit(X_train, y_train, eval_metric='logloss')\n",
    "        else:\n",
    "            estimator.fit(X_train, y_train)\n",
    "        preds = estimator.predict(X_test)\n",
    "        print(f\"{algorithm}모델 \", end='')\n",
    "        get_clf_eval(y_test, preds)"
   ]
  },
  {
   "cell_type": "code",
   "execution_count": 30,
   "metadata": {},
   "outputs": [],
   "source": [
    "X_basic = df_baseline.drop(['사업자등록번호', '결산년월', '업종중분류', '업종대분류', '기업명', '휴폐업구분'], axis=1)\n",
    "y_basic = df_baseline['휴폐업구분']\n",
    "\n",
    "X_stats = df_basic_ttest.drop(['업종대분류', '휴폐업구분'], axis=1)\n",
    "y_stats = df_basic_ttest['휴폐업구분']"
   ]
  },
  {
   "cell_type": "code",
   "execution_count": 34,
   "metadata": {},
   "outputs": [
    {
     "name": "stdout",
     "output_type": "stream",
     "text": [
      "베이스라인에 사용된 피처\n",
      " Index(['유동자산', '매출채권', '비유동자산', '유형자산', '자산총계', '유동부채', '비유동부채', '부  채  총  계',\n",
      "       '자본금', '이익잉여금(결손금）', '자본총계', '매출액', '판매비와관리비', '영업이익（손실）',\n",
      "       '법인세비용차감전순손익', '법인세비용', '당기순이익(손실)', '기업순이익률(%)', '유보액/총자산(%)',\n",
      "       '유보액/납입자본(%)', '매출액총이익률(%)', '매출액영업이익률(%)', '매출액순이익률(%)', '수지비율(%)',\n",
      "       '경상수지비율', '영업비율(%)', '금융비용대매출액비율(%', '금융비용대부채비율(%)', '금융비용대총비용비율(%',\n",
      "       '부채비율(%)', '차입금의존도(%)', '자기자본비율(%)', '순운전자본비율(%)', '유동부채비율(%)',\n",
      "       '비유동부채비율(%)', '부채총계대 매출액(%)', '총자본회전율(회)', '재고자산회전율(회)', '매출채권회전율(회)',\n",
      "       '매입채무회전율(회)', '미수금', '매출원가', '무형자산', '재고자산', '업종', '공기업구분 1.공기업 2.일반기업',\n",
      "       '본점지점구분 1.본점 2.지점', '국외투자법인여부', '벤처기업여부', '공공기관유형'],\n",
      "      dtype='object')\n",
      "통계검정 재무/비재무에 사용된 피처\n",
      " Index(['유동자산', '매출채권', '비유동자산', '유형자산', '자산총계', '유동부채', '비유동부채', '부  채  총  계',\n",
      "       '이익잉여금(결손금）', '자본총계', '매출액', '판매비와관리비', '영업이익（손실）', '법인세비용차감전순손익',\n",
      "       '법인세비용', '당기순이익(손실)', '기업순이익률(%)', '유보액/총자산(%)', '금융비용대총비용비율(%',\n",
      "       '차입금의존도(%)', '자기자본비율(%)', '총자본회전율(회)', '매출원가', '재고자산',\n",
      "       '본점지점구분 1.본점 2.지점', '국외투자법인여부', '업종중분류'],\n",
      "      dtype='object')\n"
     ]
    }
   ],
   "source": [
    "print(f\"베이스라인에 사용된 피처\\n {X_basic.columns}\")\n",
    "print(f\"통계검정 재무/비재무에 사용된 피처\\n {X_stats.columns}\")"
   ]
  },
  {
   "cell_type": "code",
   "execution_count": 35,
   "metadata": {},
   "outputs": [
    {
     "name": "stdout",
     "output_type": "stream",
     "text": [
      "=======================베이스 라인 데이터=============================\n",
      "훈련 데이터셋의 입력 데이터의 크기: (58374, 59), 타겟값의 크기: (58374,)\n",
      "테스트 데이터셋의 입력 데이터의 크기: (14594, 59), 타겟값의 크기: (14594,)\n",
      "LGBM모델 정확도: 0.9753, 정밀도: 0.8520, 재현율: 0.6331, F1: 0.7264\n",
      "XGB모델 정확도: 0.9757, 정밀도: 0.8536, 재현율: 0.6411, F1: 0.7322\n",
      "RandomForest모델 정확도: 0.9751, 정밀도: 0.8781, 재현율: 0.6013, F1: 0.7138\n",
      "LogisticRegression모델 정확도: 0.9479, 정밀도: 0.2727, 재현율: 0.0040, F1: 0.0078\n",
      "NaiveBayes모델 정확도: 0.1050, 정밀도: 0.0529, 재현율: 0.9642, F1: 0.1003\n",
      "========================T-Test 기본 데이터===========================\n",
      "훈련 데이터셋의 입력 데이터의 크기: (58374, 95), 타겟값의 크기: (58374,)\n",
      "테스트 데이터셋의 입력 데이터의 크기: (14594, 95), 타겟값의 크기: (14594,)\n",
      "LGBM모델 정확도: 0.9752, 정밀도: 0.8541, 재현율: 0.6278, F1: 0.7237\n",
      "XGB모델 정확도: 0.9759, 정밀도: 0.8607, 재현율: 0.6384, F1: 0.7331\n",
      "RandomForest모델 정확도: 0.9753, 정밀도: 0.8880, 재현율: 0.5987, F1: 0.7152\n",
      "LogisticRegression모델 정확도: 0.9482, 정밀도: 0.4000, 재현율: 0.0026, F1: 0.0053\n",
      "NaiveBayes모델 정확도: 0.9428, 정밀도: 0.0833, 재현율: 0.0106, F1: 0.0188\n"
     ]
    }
   ],
   "source": [
    "print('=======================베이스 라인 데이터=============================')\n",
    "# 베이스라인 데이터 \n",
    "X_train, y_train, X_test, y_test = preprocess_and_split_data(X_basic, y_basic)\n",
    "train_model(X_train, y_train, X_test, y_test)\n",
    "\n",
    "print('========================T-Test 기본 데이터===========================')\n",
    "# 가설검정으로 선정한 데이터\n",
    "X_train, y_train, X_test, y_test = preprocess_and_split_data(X_stats, y_stats)\n",
    "train_model(X_train, y_train, X_test, y_test)"
   ]
  },
  {
   "cell_type": "markdown",
   "metadata": {},
   "source": [
    "### 1-3-1. 정리\n",
    "- 베이스라인 모델에 사용한 알고리즘인 LGBM을 사용하여 기존에 사용했던 데이터와 가설 검정으로 추려낸 데이터를 각각 학습시켜 비교해보았다.\n",
    "- 두 집단의 유의미한 차이를 보인 변수들(=가설검정으로 추려낸 변수들)로 학습한 결과 정밀도, 재현율, F1-Score가 약간 상승하는 것을 확인했으므로 검정 결과가 유의미했음을 확인했다."
   ]
  },
  {
   "cell_type": "markdown",
   "metadata": {},
   "source": [
    "# 2. 재무비율 데이터 선정\n",
    "현재 재무 비율 데이터는 210개로 매우 많은 상황이다. 따라서 이를 통계검정을 통해 유의미하다고 판단된 재무 비율만 사용하기로 한다.\n",
    "- 재무 비율 데이터(연속형): 휴폐업인 기업과 영업중인 기업의 재무 비율 데이터 중 분포가 차이가 나는 것이 추후 분류 모델에 적용 시 도움이 될 것이므로 Two Sample T-Test를 진행한다."
   ]
  },
  {
   "cell_type": "markdown",
   "metadata": {},
   "source": [
    "## 2-1. 휴폐업인 기업과 영업중인 기업간의 제무 비율 데이터 차이를 확인하기 위한 Two-Sample T-Test 진행"
   ]
  },
  {
   "cell_type": "markdown",
   "metadata": {},
   "source": [
    "### 2-1-1. 데이터 불러오기 및 전처리"
   ]
  },
  {
   "cell_type": "code",
   "execution_count": 36,
   "metadata": {},
   "outputs": [],
   "source": [
    "import pandas as pd\n",
    "\n",
    "finance_ratio = pd.read_csv('./custom_data/all_finance_data.csv', encoding='cp949')\n",
    "df_active_closed = pd.read_csv('./custom_data/active_closed_all.csv', encoding='cp949')"
   ]
  },
  {
   "cell_type": "code",
   "execution_count": 37,
   "metadata": {},
   "outputs": [],
   "source": [
    "# 통계검정을 위해 휴폐업구분 데이터 합치기\n",
    "df_ratio = pd.merge(finance_ratio, df_active_closed[['사업자등록번호', '휴폐업구분']], on='사업자등록번호', how='left')"
   ]
  },
  {
   "cell_type": "code",
   "execution_count": 38,
   "metadata": {},
   "outputs": [],
   "source": [
    "# merge를 위해 문자열로 변환\n",
    "df_ratio['사업자등록번호'] = df_ratio['사업자등록번호'].astype(str)\n",
    "df_ratio['결산년월'] = df_ratio['결산년월'].astype(str)\n",
    "\n",
    "df_cleaning['사업자등록번호'] = df_cleaning['사업자등록번호'].astype(str)\n",
    "df_cleaning['결산년월'] = df_cleaning['결산년월'].astype(str)"
   ]
  },
  {
   "cell_type": "code",
   "execution_count": 39,
   "metadata": {},
   "outputs": [],
   "source": [
    "# 전처리한 데이터와 동일한 row를 사용하기 위해 합치기\n",
    "df_cleaning_ratio = pd.merge(df_cleaning[['사업자등록번호', '결산년월']], df_ratio, on=['사업자등록번호', '결산년월'], how='left')"
   ]
  },
  {
   "cell_type": "code",
   "execution_count": 40,
   "metadata": {},
   "outputs": [
    {
     "data": {
      "text/plain": [
       "(72968, 213)"
      ]
     },
     "execution_count": 40,
     "metadata": {},
     "output_type": "execute_result"
    }
   ],
   "source": [
    "df_cleaning_ratio.shape"
   ]
  },
  {
   "cell_type": "code",
   "execution_count": 41,
   "metadata": {},
   "outputs": [],
   "source": [
    "# 타겟값 인코딩\n",
    "df_cleaning_ratio['휴폐업구분'] = df_cleaning_ratio['휴폐업구분'].apply(change_target)"
   ]
  },
  {
   "cell_type": "code",
   "execution_count": 42,
   "metadata": {},
   "outputs": [
    {
     "data": {
      "text/plain": [
       "0    69192\n",
       "1     3776\n",
       "Name: 휴폐업구분, dtype: int64"
      ]
     },
     "execution_count": 42,
     "metadata": {},
     "output_type": "execute_result"
    }
   ],
   "source": [
    "df_cleaning_ratio['휴폐업구분'].value_counts()"
   ]
  },
  {
   "cell_type": "markdown",
   "metadata": {},
   "source": [
    "### 2-1-2. Two Sample T-Test 계산 (기본 재무 비율)"
   ]
  },
  {
   "cell_type": "code",
   "execution_count": 43,
   "metadata": {},
   "outputs": [],
   "source": [
    "df_ratio_active = df_cleaning_ratio.loc[df_cleaning_ratio['휴폐업구분'] == 0]\n",
    "df_ratio_closed = df_cleaning_ratio.loc[df_cleaning_ratio['휴폐업구분'] == 1]"
   ]
  },
  {
   "cell_type": "code",
   "execution_count": 44,
   "metadata": {},
   "outputs": [
    {
     "data": {
      "text/plain": [
       "Index(['총자본증가율', '영업이익증가율', '당기순이익증가율', '자기자본증가율', '매출액증가율', '매출총이익률',\n",
       "       '매출액영업이익률', '매출액경상이익률', '매출액순이익률', '총자산영업이익률', '자기자본영업이익률', '자기자본순이익률',\n",
       "       '금융비용부담률', '수지비율', '사내유보대자기자본비율', '총자산순이익률', '총자본회전율', '자기자본회전율',\n",
       "       '타인자본회전율', '유동자산회전율', '재고자산회전율', '당좌자산회전율', '순운전자본회전율', '운전자본회전율',\n",
       "       '유보율', '자기자본비율', '유동비율', '당좌비율', '재고자산대순운전자본비율', '매출채권대매입채무비율'],\n",
       "      dtype='object')"
      ]
     },
     "execution_count": 44,
     "metadata": {},
     "output_type": "execute_result"
    }
   ],
   "source": [
    "# 기본 재무 비율 목록\n",
    "df_cleaning_ratio.columns[2:32]"
   ]
  },
  {
   "cell_type": "code",
   "execution_count": 45,
   "metadata": {},
   "outputs": [
    {
     "name": "stdout",
     "output_type": "stream",
     "text": [
      "재무비율 데이터에서 영업중인 기업과 폐업한 기업의 총자산영업이익률 변수는 차이가 있다. 따라서 유의미한 변수이다.\n",
      "재무비율 데이터에서 영업중인 기업과 폐업한 기업의 총자산순이익률 변수는 차이가 있다. 따라서 유의미한 변수이다.\n",
      "재무비율 데이터에서 영업중인 기업과 폐업한 기업의 총자본회전율 변수는 차이가 있다. 따라서 유의미한 변수이다.\n",
      "재무비율 데이터에서 영업중인 기업과 폐업한 기업의 자기자본비율 변수는 차이가 있다. 따라서 유의미한 변수이다.\n",
      "재무비율 데이터에서 영업중인 기업과 폐업한 기업의 유동비율 변수는 차이가 있다. 따라서 유의미한 변수이다.\n",
      "재무비율 데이터에서 영업중인 기업과 폐업한 기업의 당좌비율 변수는 차이가 있다. 따라서 유의미한 변수이다.\n"
     ]
    }
   ],
   "source": [
    "for column in df_cleaning_ratio.columns[2:32]:\n",
    "    closed = df_ratio_active[column]\n",
    "    active = df_ratio_closed[column]\n",
    "    _, p_value = stats.ttest_ind(active, closed)\n",
    "    if p_value < 0.05:\n",
    "        print(f\"재무비율 데이터에서 영업중인 기업과 폐업한 기업의 {column} 변수는 차이가 있다. 따라서 유의미한 변수이다.\")"
   ]
  },
  {
   "cell_type": "markdown",
   "metadata": {},
   "source": [
    "### 2-1-3. Two Sample T-Test 계산 (기본 재무 비율(차이))"
   ]
  },
  {
   "cell_type": "code",
   "execution_count": 46,
   "metadata": {},
   "outputs": [
    {
     "data": {
      "text/plain": [
       "Index(['총자본증가율(차이)', '영업이익증가율(차이)', '당기순이익증가율(차이)', '자기자본증가율(차이)',\n",
       "       '매출액증가율(차이)', '매출총이익률(차이)', '매출액영업이익률(차이)', '매출액경상이익률(차이)',\n",
       "       '매출액순이익률(차이)', '총자산영업이익률(차이)', '자기자본영업이익률(차이)', '자기자본순이익률(차이)',\n",
       "       '금융비용부담률(차이)', '수지비율(차이)', '사내유보대자기자본비율(차이)', '총자산순이익률(차이)',\n",
       "       '총자본회전율(차이)', '자기자본회전율(차이)', '타인자본회전율(차이)', '유동자산회전율(차이)',\n",
       "       '재고자산회전율(차이)', '당좌자산회전율(차이)', '순운전자본회전율(차이)', '운전자본회전율(차이)', '유보율(차이)',\n",
       "       '자기자본비율(차이)', '유동비율(차이)', '당좌비율(차이)', '재고자산대순운전자본비율(차이)',\n",
       "       '매출채권대매입채무비율(차이)'],\n",
       "      dtype='object')"
      ]
     },
     "execution_count": 46,
     "metadata": {},
     "output_type": "execute_result"
    }
   ],
   "source": [
    "# 기본 재무 비율(차이) 목록\n",
    "df_cleaning_ratio.columns[32:62]"
   ]
  },
  {
   "cell_type": "code",
   "execution_count": 47,
   "metadata": {},
   "outputs": [
    {
     "name": "stdout",
     "output_type": "stream",
     "text": [
      "재무비율(차이) 데이터에서 영업중인 기업과 폐업한 기업의 총자산영업이익률(차이) 변수는 차이가 있다. 따라서 유의미한 변수이다.\n",
      "재무비율(차이) 데이터에서 영업중인 기업과 폐업한 기업의 금융비용부담률(차이) 변수는 차이가 있다. 따라서 유의미한 변수이다.\n",
      "재무비율(차이) 데이터에서 영업중인 기업과 폐업한 기업의 총자산순이익률(차이) 변수는 차이가 있다. 따라서 유의미한 변수이다.\n",
      "재무비율(차이) 데이터에서 영업중인 기업과 폐업한 기업의 유동자산회전율(차이) 변수는 차이가 있다. 따라서 유의미한 변수이다.\n",
      "재무비율(차이) 데이터에서 영업중인 기업과 폐업한 기업의 당좌자산회전율(차이) 변수는 차이가 있다. 따라서 유의미한 변수이다.\n",
      "재무비율(차이) 데이터에서 영업중인 기업과 폐업한 기업의 자기자본비율(차이) 변수는 차이가 있다. 따라서 유의미한 변수이다.\n",
      "재무비율(차이) 데이터에서 영업중인 기업과 폐업한 기업의 유동비율(차이) 변수는 차이가 있다. 따라서 유의미한 변수이다.\n",
      "재무비율(차이) 데이터에서 영업중인 기업과 폐업한 기업의 당좌비율(차이) 변수는 차이가 있다. 따라서 유의미한 변수이다.\n"
     ]
    }
   ],
   "source": [
    "for column in df_cleaning_ratio.columns[32:62]:\n",
    "    closed = df_ratio_active[column]\n",
    "    active = df_ratio_closed[column]\n",
    "    _, p_value = stats.ttest_ind(active, closed)\n",
    "    if p_value < 0.05:\n",
    "        print(f\"재무비율(차이) 데이터에서 영업중인 기업과 폐업한 기업의 {column} 변수는 차이가 있다. 따라서 유의미한 변수이다.\")"
   ]
  },
  {
   "cell_type": "markdown",
   "metadata": {},
   "source": [
    "### 2-1-3. Two Sample T-Test 계산 (기본 재무 비율(비율))"
   ]
  },
  {
   "cell_type": "code",
   "execution_count": 48,
   "metadata": {},
   "outputs": [
    {
     "data": {
      "text/plain": [
       "Index(['총자본증가율(비율)', '영업이익증가율(비율)', '당기순이익증가율(비율)', '자기자본증가율(비율)',\n",
       "       '매출액증가율(비율)', '매출총이익률(비율)', '매출액영업이익률(비율)', '매출액경상이익률(비율)',\n",
       "       '매출액순이익률(비율)', '총자산영업이익률(비율)', '자기자본영업이익률(비율)', '자기자본순이익률(비율)',\n",
       "       '금융비용부담률(비율)', '수지비율(비율)', '사내유보대자기자본비율(비율)', '총자산순이익률(비율)',\n",
       "       '총자본회전율(비율)', '자기자본회전율(비율)', '타인자본회전율(비율)', '유동자산회전율(비율)',\n",
       "       '재고자산회전율(비율)', '당좌자산회전율(비율)', '순운전자본회전율(비율)', '운전자본회전율(비율)', '유보율(비율)',\n",
       "       '자기자본비율(비율)', '유동비율(비율)', '당좌비율(비율)', '재고자산대순운전자본비율(비율)',\n",
       "       '매출채권대매입채무비율(비율)'],\n",
       "      dtype='object')"
      ]
     },
     "execution_count": 48,
     "metadata": {},
     "output_type": "execute_result"
    }
   ],
   "source": [
    "df_cleaning_ratio.columns[62:92]"
   ]
  },
  {
   "cell_type": "code",
   "execution_count": 49,
   "metadata": {},
   "outputs": [
    {
     "name": "stdout",
     "output_type": "stream",
     "text": [
      "재무비율(비율) 데이터에서 영업중인 기업과 폐업한 기업의 자기자본영업이익률(비율) 변수는 차이가 있다. 따라서 유의미한 변수이다.\n",
      "재무비율(비율) 데이터에서 영업중인 기업과 폐업한 기업의 자기자본비율(비율) 변수는 차이가 있다. 따라서 유의미한 변수이다.\n"
     ]
    }
   ],
   "source": [
    "for column in df_cleaning_ratio.columns[62:92]:\n",
    "    closed = df_ratio_active[column]\n",
    "    active = df_ratio_closed[column]\n",
    "    _, p_value = stats.ttest_ind(active, closed)\n",
    "    if p_value < 0.05:\n",
    "        print(f\"재무비율(비율) 데이터에서 영업중인 기업과 폐업한 기업의 {column} 변수는 차이가 있다. 따라서 유의미한 변수이다.\")"
   ]
  },
  {
   "cell_type": "markdown",
   "metadata": {},
   "source": [
    "### 2-1-4. Two Sample T-Test 계산 (기본 재무 비율(top10 차이))"
   ]
  },
  {
   "cell_type": "code",
   "execution_count": 50,
   "metadata": {},
   "outputs": [],
   "source": [
    "top10_difference = df_cleaning_ratio.columns[df_cleaning_ratio.columns.str.contains('top10_차이')]"
   ]
  },
  {
   "cell_type": "code",
   "execution_count": 51,
   "metadata": {},
   "outputs": [
    {
     "name": "stdout",
     "output_type": "stream",
     "text": [
      "재무비율(top10_차이) 데이터에서 영업중인 기업과 폐업한 기업의 총자산영업이익률(top10_차이) 변수는 차이가 있다. 따라서 유의미한 변수이다.\n",
      "재무비율(top10_차이) 데이터에서 영업중인 기업과 폐업한 기업의 금융비용부담률(top10_차이) 변수는 차이가 있다. 따라서 유의미한 변수이다.\n",
      "재무비율(top10_차이) 데이터에서 영업중인 기업과 폐업한 기업의 총자산순이익률(top10_차이) 변수는 차이가 있다. 따라서 유의미한 변수이다.\n",
      "재무비율(top10_차이) 데이터에서 영업중인 기업과 폐업한 기업의 총자본회전율(top10_차이) 변수는 차이가 있다. 따라서 유의미한 변수이다.\n",
      "재무비율(top10_차이) 데이터에서 영업중인 기업과 폐업한 기업의 유동비율(top10_차이) 변수는 차이가 있다. 따라서 유의미한 변수이다.\n",
      "재무비율(top10_차이) 데이터에서 영업중인 기업과 폐업한 기업의 당좌비율(top10_차이) 변수는 차이가 있다. 따라서 유의미한 변수이다.\n"
     ]
    }
   ],
   "source": [
    "for column in top10_difference:\n",
    "    closed = df_ratio_active[column]\n",
    "    active = df_ratio_closed[column]\n",
    "    _, p_value = stats.ttest_ind(active, closed)\n",
    "    if p_value < 0.05:\n",
    "        print(f\"재무비율(top10_차이) 데이터에서 영업중인 기업과 폐업한 기업의 {column} 변수는 차이가 있다. 따라서 유의미한 변수이다.\")"
   ]
  },
  {
   "cell_type": "markdown",
   "metadata": {},
   "source": [
    "### 2-1-5. Two Sample T-Test 계산 (기본 재무 비율(top10 비율))"
   ]
  },
  {
   "cell_type": "code",
   "execution_count": 52,
   "metadata": {},
   "outputs": [],
   "source": [
    "top10_ratio = df_cleaning_ratio.columns[df_cleaning_ratio.columns.str.contains('top10_비율')]"
   ]
  },
  {
   "cell_type": "code",
   "execution_count": 53,
   "metadata": {},
   "outputs": [
    {
     "name": "stdout",
     "output_type": "stream",
     "text": [
      "재무비율(top10_비율) 데이터에서 영업중인 기업과 폐업한 기업의 총자산영업이익률(top10_비율) 변수는 차이가 있다. 따라서 유의미한 변수이다.\n",
      "재무비율(top10_비율) 데이터에서 영업중인 기업과 폐업한 기업의 금융비용부담률(top10_비율) 변수는 차이가 있다. 따라서 유의미한 변수이다.\n",
      "재무비율(top10_비율) 데이터에서 영업중인 기업과 폐업한 기업의 총자산순이익률(top10_비율) 변수는 차이가 있다. 따라서 유의미한 변수이다.\n",
      "재무비율(top10_비율) 데이터에서 영업중인 기업과 폐업한 기업의 총자본회전율(top10_비율) 변수는 차이가 있다. 따라서 유의미한 변수이다.\n",
      "재무비율(top10_비율) 데이터에서 영업중인 기업과 폐업한 기업의 자기자본비율(top10_비율) 변수는 차이가 있다. 따라서 유의미한 변수이다.\n",
      "재무비율(top10_비율) 데이터에서 영업중인 기업과 폐업한 기업의 유동비율(top10_비율) 변수는 차이가 있다. 따라서 유의미한 변수이다.\n",
      "재무비율(top10_비율) 데이터에서 영업중인 기업과 폐업한 기업의 당좌비율(top10_비율) 변수는 차이가 있다. 따라서 유의미한 변수이다.\n"
     ]
    }
   ],
   "source": [
    "for column in top10_ratio:\n",
    "    closed = df_ratio_active[column]\n",
    "    active = df_ratio_closed[column]\n",
    "    _, p_value = stats.ttest_ind(active, closed)\n",
    "    if p_value < 0.05:\n",
    "        print(f\"재무비율(top10_비율) 데이터에서 영업중인 기업과 폐업한 기업의 {column} 변수는 차이가 있다. 따라서 유의미한 변수이다.\")"
   ]
  },
  {
   "cell_type": "markdown",
   "metadata": {},
   "source": [
    "### 2-1-6. Two Sample T-Test 계산 (기본 재무 비율(all 차이))"
   ]
  },
  {
   "cell_type": "code",
   "execution_count": 54,
   "metadata": {},
   "outputs": [],
   "source": [
    "all_difference = df_cleaning_ratio.columns[df_cleaning_ratio.columns.str.contains('all_차이')]"
   ]
  },
  {
   "cell_type": "code",
   "execution_count": 55,
   "metadata": {},
   "outputs": [
    {
     "name": "stdout",
     "output_type": "stream",
     "text": [
      "재무비율(all_차이) 데이터에서 영업중인 기업과 폐업한 기업의 총자산영업이익률(all_차이) 변수는 차이가 있다. 따라서 유의미한 변수이다.\n",
      "재무비율(all_차이) 데이터에서 영업중인 기업과 폐업한 기업의 금융비용부담률(all_차이) 변수는 차이가 있다. 따라서 유의미한 변수이다.\n",
      "재무비율(all_차이) 데이터에서 영업중인 기업과 폐업한 기업의 총자산순이익률(all_차이) 변수는 차이가 있다. 따라서 유의미한 변수이다.\n",
      "재무비율(all_차이) 데이터에서 영업중인 기업과 폐업한 기업의 총자본회전율(all_차이) 변수는 차이가 있다. 따라서 유의미한 변수이다.\n",
      "재무비율(all_차이) 데이터에서 영업중인 기업과 폐업한 기업의 유동비율(all_차이) 변수는 차이가 있다. 따라서 유의미한 변수이다.\n",
      "재무비율(all_차이) 데이터에서 영업중인 기업과 폐업한 기업의 당좌비율(all_차이) 변수는 차이가 있다. 따라서 유의미한 변수이다.\n"
     ]
    }
   ],
   "source": [
    "for column in all_difference:\n",
    "    closed = df_ratio_active[column]\n",
    "    active = df_ratio_closed[column]\n",
    "    _, p_value = stats.ttest_ind(active, closed)\n",
    "    if p_value < 0.05:\n",
    "        print(f\"재무비율(all_차이) 데이터에서 영업중인 기업과 폐업한 기업의 {column} 변수는 차이가 있다. 따라서 유의미한 변수이다.\")"
   ]
  },
  {
   "cell_type": "markdown",
   "metadata": {},
   "source": [
    "### 2-1-7. Two Sample T-Test 계산 (기본 재무 비율(all 비율))"
   ]
  },
  {
   "cell_type": "code",
   "execution_count": 56,
   "metadata": {},
   "outputs": [],
   "source": [
    "all_ratio = df_cleaning_ratio.columns[df_cleaning_ratio.columns.str.contains('all_비율')]"
   ]
  },
  {
   "cell_type": "code",
   "execution_count": 57,
   "metadata": {},
   "outputs": [
    {
     "name": "stdout",
     "output_type": "stream",
     "text": [
      "재무비율(all_비율) 데이터에서 영업중인 기업과 폐업한 기업의 총자산영업이익률(all_차이) 변수는 차이가 있다. 따라서 유의미한 변수이다.\n",
      "재무비율(all_비율) 데이터에서 영업중인 기업과 폐업한 기업의 금융비용부담률(all_차이) 변수는 차이가 있다. 따라서 유의미한 변수이다.\n",
      "재무비율(all_비율) 데이터에서 영업중인 기업과 폐업한 기업의 총자산순이익률(all_차이) 변수는 차이가 있다. 따라서 유의미한 변수이다.\n",
      "재무비율(all_비율) 데이터에서 영업중인 기업과 폐업한 기업의 총자본회전율(all_차이) 변수는 차이가 있다. 따라서 유의미한 변수이다.\n",
      "재무비율(all_비율) 데이터에서 영업중인 기업과 폐업한 기업의 유동비율(all_차이) 변수는 차이가 있다. 따라서 유의미한 변수이다.\n",
      "재무비율(all_비율) 데이터에서 영업중인 기업과 폐업한 기업의 당좌비율(all_차이) 변수는 차이가 있다. 따라서 유의미한 변수이다.\n"
     ]
    }
   ],
   "source": [
    "for column in all_difference:\n",
    "    closed = df_ratio_active[column]\n",
    "    active = df_ratio_closed[column]\n",
    "    _, p_value = stats.ttest_ind(active, closed)\n",
    "    if p_value < 0.05:\n",
    "        print(f\"재무비율(all_비율) 데이터에서 영업중인 기업과 폐업한 기업의 {column} 변수는 차이가 있다. 따라서 유의미한 변수이다.\")"
   ]
  },
  {
   "cell_type": "markdown",
   "metadata": {},
   "source": [
    "### 2-1-8. 검정 결과\n",
    "- 기본 재무 비율의 경우 총자산영업이익률, 총자산순이익률, 총자본회전율, 자기자본비율, 유동비율, 당좌비율이 유의미하다고 나왔다.\n",
    "- 이에 대한 파생변수들(차이, 비율, top10_차이, ...) 중에서 기본 재무 비율과 가장 많이 겹치는 것으로 선정하려 한다.\n",
    "- 따라서 top10_비율이 가장 많이 겹치므로 기본 재무 비율과 top10_비율을 사용해보려 한다. "
   ]
  },
  {
   "cell_type": "markdown",
   "metadata": {},
   "source": [
    "## 2-2. 검정 결과 유의미성 검증"
   ]
  },
  {
   "cell_type": "markdown",
   "metadata": {},
   "source": [
    "### 2-2-1. top10_비율을 제외하고 기본 재무 비율만 사용해보기"
   ]
  },
  {
   "cell_type": "code",
   "execution_count": 58,
   "metadata": {},
   "outputs": [],
   "source": [
    "use_ratio_columns = ['사업자등록번호', '결산년월', '총자산영업이익률', '총자산순이익률', '총자본회전율', '자기자본비율', '유동비율', '당좌비율']\n",
    "df_final_ratio = df_cleaning_ratio[use_ratio_columns]"
   ]
  },
  {
   "cell_type": "code",
   "execution_count": 59,
   "metadata": {},
   "outputs": [],
   "source": [
    "# 데이터를 합치기 위해 t-test에서 사용한 변수에 사업자등록번호, 결산년월 추가하기\n",
    "for_merge_columns = basic_use_columns + ['사업자등록번호', '결산년월']"
   ]
  },
  {
   "cell_type": "code",
   "execution_count": 60,
   "metadata": {},
   "outputs": [],
   "source": [
    "df_ttest = df_cleaning[for_merge_columns]"
   ]
  },
  {
   "cell_type": "code",
   "execution_count": 61,
   "metadata": {},
   "outputs": [],
   "source": [
    "# merge를 위해 문자열로 변환\n",
    "df_ttest['사업자등록번호'] = df_ttest['사업자등록번호'].astype(str)\n",
    "df_ttest['결산년월'] = df_ttest['결산년월'].astype(str)\n",
    "\n",
    "df_final_ratio['사업자등록번호'] = df_final_ratio['사업자등록번호'].astype(str)\n",
    "df_final_ratio['결산년월'] = df_final_ratio['결산년월'].astype(str)"
   ]
  },
  {
   "cell_type": "code",
   "execution_count": 62,
   "metadata": {},
   "outputs": [],
   "source": [
    "# 학습을 위해 데이터 합치기\n",
    "df_basic_ratio = pd.merge(df_final_ratio, df_ttest, on=['사업자등록번호', '결산년월'], how='left')"
   ]
  },
  {
   "cell_type": "code",
   "execution_count": 64,
   "metadata": {},
   "outputs": [],
   "source": [
    "X_ratio_stats = df_basic_ratio.drop(['사업자등록번호', '결산년월', '업종대분류', '휴폐업구분'], axis=1)\n",
    "y_ratio_stats = df_basic_ratio['휴폐업구분']"
   ]
  },
  {
   "cell_type": "code",
   "execution_count": 66,
   "metadata": {},
   "outputs": [
    {
     "name": "stdout",
     "output_type": "stream",
     "text": [
      "통계검정 재무비율에 사용된 피처\n",
      " Index(['총자산영업이익률', '총자산순이익률', '총자본회전율', '자기자본비율', '유동비율', '당좌비율', '유동자산',\n",
      "       '매출채권', '비유동자산', '유형자산', '자산총계', '유동부채', '비유동부채', '부  채  총  계',\n",
      "       '이익잉여금(결손금）', '자본총계', '매출액', '판매비와관리비', '영업이익（손실）', '법인세비용차감전순손익',\n",
      "       '법인세비용', '당기순이익(손실)', '기업순이익률(%)', '유보액/총자산(%)', '금융비용대총비용비율(%',\n",
      "       '차입금의존도(%)', '자기자본비율(%)', '총자본회전율(회)', '매출원가', '재고자산',\n",
      "       '본점지점구분 1.본점 2.지점', '국외투자법인여부', '업종중분류'],\n",
      "      dtype='object')\n"
     ]
    }
   ],
   "source": [
    "print(f\"통계검정 재무비율에 사용된 피처\\n {X_ratio_stats.columns}\")"
   ]
  },
  {
   "cell_type": "code",
   "execution_count": 67,
   "metadata": {},
   "outputs": [
    {
     "name": "stdout",
     "output_type": "stream",
     "text": [
      "======================T-Test 기본+비율 데이터=========================\n",
      "훈련 데이터셋의 입력 데이터의 크기: (58374, 101), 타겟값의 크기: (58374,)\n",
      "테스트 데이터셋의 입력 데이터의 크기: (14594, 101), 타겟값의 크기: (14594,)\n",
      "LGBM모델 정확도: 0.9742, 정밀도: 0.8452, 재현율: 0.6146, F1: 0.7117\n",
      "XGB모델 정확도: 0.9762, 정밀도: 0.8640, 재현율: 0.6397, F1: 0.7352\n",
      "RandomForest모델 정확도: 0.9751, 정밀도: 0.8826, 재현율: 0.5974, F1: 0.7125\n",
      "LogisticRegression모델 정확도: 0.9483, 정밀도: 0.5000, 재현율: 0.0040, F1: 0.0079\n",
      "NaiveBayes모델 정확도: 0.9445, 정밀도: 0.1014, 재현율: 0.0093, F1: 0.0170\n"
     ]
    }
   ],
   "source": [
    "print('======================T-Test 기본+비율 데이터=========================')\n",
    "# 가설검정으로 선정한 데이터\n",
    "X_train, y_train, X_test, y_test = preprocess_and_split_data(X_ratio_stats, y_ratio_stats)\n",
    "train_model(X_train, y_train, X_test, y_test)"
   ]
  },
  {
   "cell_type": "markdown",
   "metadata": {},
   "source": [
    "### 2-2-2. top10_비율을 포함해서 사용해보기"
   ]
  },
  {
   "cell_type": "code",
   "execution_count": 68,
   "metadata": {},
   "outputs": [],
   "source": [
    "use_ratio__and_top10_columns = ['사업자등록번호', '결산년월', '총자산영업이익률', '총자산순이익률', '총자본회전율', '자기자본비율', '유동비율', '당좌비율',\n",
    "                                '총자산영업이익률(top10_비율)', '총자산순이익률(top10_비율)', '총자본회전율(top10_비율)', '자기자본비율(top10_비율)', \n",
    "                                '유동비율(top10_비율)', '당좌비율(top10_비율)']\n",
    "df_final_ratio_add_top10 = df_cleaning_ratio[use_ratio__and_top10_columns]"
   ]
  },
  {
   "cell_type": "code",
   "execution_count": 69,
   "metadata": {},
   "outputs": [],
   "source": [
    "# merge를 위해 문자열로 변환\n",
    "df_final_ratio_add_top10['사업자등록번호'] = df_final_ratio_add_top10['사업자등록번호'].astype(str)\n",
    "df_final_ratio_add_top10['결산년월'] = df_final_ratio_add_top10['결산년월'].astype(str)"
   ]
  },
  {
   "cell_type": "code",
   "execution_count": 70,
   "metadata": {},
   "outputs": [],
   "source": [
    "# 학습을 위해 데이터 합치기\n",
    "df_basic_ratio_and_top10 = pd.merge(df_final_ratio_add_top10, df_ttest, on=['사업자등록번호', '결산년월'], how='left')"
   ]
  },
  {
   "cell_type": "code",
   "execution_count": 74,
   "metadata": {},
   "outputs": [],
   "source": [
    "X_ratio_and_top10_stats = df_basic_ratio_and_top10.drop(['사업자등록번호', '결산년월', '업종대분류', '휴폐업구분'], axis=1)\n",
    "y_ratio_and_top10_stats = df_basic_ratio_and_top10['휴폐업구분']"
   ]
  },
  {
   "cell_type": "code",
   "execution_count": 75,
   "metadata": {},
   "outputs": [
    {
     "name": "stdout",
     "output_type": "stream",
     "text": [
      "통계검정 재무비율/파생재무비율에 사용된 피처\n",
      " Index(['총자산영업이익률', '총자산순이익률', '총자본회전율', '자기자본비율', '유동비율', '당좌비율',\n",
      "       '총자산영업이익률(top10_비율)', '총자산순이익률(top10_비율)', '총자본회전율(top10_비율)',\n",
      "       '자기자본비율(top10_비율)', '유동비율(top10_비율)', '당좌비율(top10_비율)', '유동자산', '매출채권',\n",
      "       '비유동자산', '유형자산', '자산총계', '유동부채', '비유동부채', '부  채  총  계', '이익잉여금(결손금）',\n",
      "       '자본총계', '매출액', '판매비와관리비', '영업이익（손실）', '법인세비용차감전순손익', '법인세비용',\n",
      "       '당기순이익(손실)', '기업순이익률(%)', '유보액/총자산(%)', '금융비용대총비용비율(%', '차입금의존도(%)',\n",
      "       '자기자본비율(%)', '총자본회전율(회)', '매출원가', '재고자산', '본점지점구분 1.본점 2.지점',\n",
      "       '국외투자법인여부', '업종중분류'],\n",
      "      dtype='object')\n"
     ]
    }
   ],
   "source": [
    "print(f\"통계검정 재무비율/파생재무비율에 사용된 피처\\n {X_ratio_and_top10_stats.columns}\")"
   ]
  },
  {
   "cell_type": "code",
   "execution_count": 76,
   "metadata": {},
   "outputs": [
    {
     "name": "stdout",
     "output_type": "stream",
     "text": [
      "==================T-Test 기본+비율+top10비율 데이터====================\n",
      "훈련 데이터셋의 입력 데이터의 크기: (58374, 107), 타겟값의 크기: (58374,)\n",
      "테스트 데이터셋의 입력 데이터의 크기: (14594, 107), 타겟값의 크기: (14594,)\n",
      "LGBM모델 정확도: 0.9755, 정밀도: 0.8590, 재현율: 0.6291, F1: 0.7263\n",
      "XGB모델 정확도: 0.9764, 정밀도: 0.8637, 재현율: 0.6464, F1: 0.7394\n",
      "RandomForest모델 정확도: 0.9752, 정밀도: 0.8861, 재현율: 0.5974, F1: 0.7136\n",
      "LogisticRegression모델 정확도: 0.9483, 정밀도: 0.5000, 재현율: 0.0040, F1: 0.0079\n",
      "NaiveBayes모델 정확도: 0.9452, 정밀도: 0.0909, 재현율: 0.0066, F1: 0.0123\n"
     ]
    }
   ],
   "source": [
    "print('==================T-Test 기본+비율+top10비율 데이터====================')\n",
    "# 가설검정으로 선정한 데이터\n",
    "X_train, y_train, X_test, y_test = preprocess_and_split_data(X_ratio_and_top10_stats, y_ratio_and_top10_stats)\n",
    "train_model(X_train, y_train, X_test, y_test)"
   ]
  },
  {
   "cell_type": "markdown",
   "metadata": {},
   "source": [
    "### 2-2-3. 정리\n",
    "- 재무 비율 데이터의 경우 단독으로 학습에 사용하면 악영향을 끼친다.\n",
    "- 재무 데이터와 비슷한 상관성을 나타내기 때문이라 추정하여 단독으로 사용하지 않고 이들을 하나의 지표로 나타내어 사용하도록 한다.\n",
    "- 재무비율 중 값이 클수록 기업에 긍정적인 영향을 미치는 요소들을 뽑아 만든 KSG 지표를 사용한다."
   ]
  },
  {
   "cell_type": "markdown",
   "metadata": {},
   "source": [
    "# 3. KSG 지표"
   ]
  },
  {
   "cell_type": "code",
   "execution_count": 77,
   "metadata": {},
   "outputs": [],
   "source": [
    "ksg = pd.read_csv('./KSG_date_number.csv', index_col=0)"
   ]
  },
  {
   "cell_type": "code",
   "execution_count": 78,
   "metadata": {},
   "outputs": [],
   "source": [
    "ksg['사업자등록번호'] = ksg['사업자등록번호'].astype(str)\n",
    "ksg['결산년월'] = ksg['결산년월'].astype(str)"
   ]
  },
  {
   "cell_type": "code",
   "execution_count": 79,
   "metadata": {},
   "outputs": [],
   "source": [
    "df_basic_ttest_ksg = pd.merge(df_ttest, ksg[['사업자등록번호', '결산년월', 'count']], on=['사업자등록번호', '결산년월'], how='left')\n",
    "df_ratio_ksg = pd.merge(df_basic_ratio, ksg[['사업자등록번호', '결산년월', 'count']], on=['사업자등록번호', '결산년월'], how='left')\n",
    "df_ratio_top10_ksg = pd.merge(df_basic_ratio_and_top10, ksg[['사업자등록번호', '결산년월', 'count']], on=['사업자등록번호', '결산년월'], how='left')"
   ]
  },
  {
   "cell_type": "code",
   "execution_count": 80,
   "metadata": {},
   "outputs": [
    {
     "name": "stdout",
     "output_type": "stream",
     "text": [
      "휴폐업과 count 데이터는 연관성이 나타난다. 따라서 유의미한 변수이다.\n"
     ]
    }
   ],
   "source": [
    "ksg_column = calculate_chi_test(df_ratio_top10_ksg, ['count'])"
   ]
  },
  {
   "cell_type": "code",
   "execution_count": 81,
   "metadata": {},
   "outputs": [],
   "source": [
    "X_stats_ksg = df_basic_ttest_ksg.drop(['사업자등록번호', '결산년월', '업종대분류', '휴폐업구분'], axis=1)\n",
    "y_stats_ksg = df_basic_ttest_ksg['휴폐업구분']\n",
    "\n",
    "X_ratio_stats_ksg = df_ratio_ksg.drop(['사업자등록번호', '결산년월', '업종대분류', '휴폐업구분'], axis=1)\n",
    "y_ratio_stats_ksg = df_ratio_ksg['휴폐업구분']\n",
    "\n",
    "X_ratio_and_top10_stats_ksg = df_ratio_top10_ksg.drop(['사업자등록번호', '결산년월', '업종대분류', '휴폐업구분'], axis=1)\n",
    "y_ratio_and_top10_stats_ksg = df_ratio_top10_ksg['휴폐업구분']"
   ]
  },
  {
   "cell_type": "code",
   "execution_count": 82,
   "metadata": {},
   "outputs": [
    {
     "name": "stdout",
     "output_type": "stream",
     "text": [
      "통계검정 재무/비재무/재무등급에 사용된 피처\n",
      "             유동자산       매출채권        비유동자산         유형자산         자산총계  \\\n",
      "0      2168837.0    94085.0   34151633.0    1209369.0   36320470.0   \n",
      "1      2272260.0    78612.0   38329680.0    1091153.0   40601940.0   \n",
      "2      1175030.0   273522.0   37135811.0     993025.0   38310842.0   \n",
      "3       449696.0    18495.0   20926406.0   20909156.0   21376102.0   \n",
      "4       509847.0     1044.0   21038587.0   21033337.0   21548434.0   \n",
      "...          ...        ...          ...          ...          ...   \n",
      "72963  8501297.0  3412249.0    6644464.0    5839959.0   15145761.0   \n",
      "72964  9192992.0  2918329.0    9735232.0    9409374.0   18928223.0   \n",
      "72965   475283.0        0.0  309796969.0  309796969.0  310272251.0   \n",
      "72966  1474607.0        0.0  366181956.0  366181956.0  367656563.0   \n",
      "72967  2540577.0  1201346.0  422469161.0  420110684.0  425009738.0   \n",
      "\n",
      "              유동부채        비유동부채   부  채  총  계  이익잉여금(결손금）        자본총계  ...  \\\n",
      "0       10553878.0    5240445.0   15794323.0   3708092.0  20526147.0  ...   \n",
      "1         863144.0   15496117.0   16359261.0   4230449.0  24242679.0  ...   \n",
      "2        9494272.0    4901383.0   14395654.0   5169522.0  23915187.0  ...   \n",
      "3        3304660.0   11357238.0   14661898.0  -7398595.0   6714204.0  ...   \n",
      "4        2847579.0   12704550.0   15552129.0  -8116494.0   5996305.0  ...   \n",
      "...            ...          ...          ...         ...         ...  ...   \n",
      "72963    6835454.0    4994176.0   11829629.0   1111415.0   3316131.0  ...   \n",
      "72964   11017981.0    6619380.0   17637362.0  -1183183.0   1290862.0  ...   \n",
      "72965    3722434.0  274776917.0  278499351.0  -5875445.0  31772900.0  ...   \n",
      "72966    1593683.0  335844394.0  337438077.0  -7429859.0  30218486.0  ...   \n",
      "72967  282361726.0  125659808.0  408021534.0 -20660140.0  16988204.0  ...   \n",
      "\n",
      "       금융비용대총비용비율(%  차입금의존도(%)  자기자본비율(%)  총자본회전율(회)        매출원가       재고자산  \\\n",
      "0             0.000      0.000     56.500      0.184         0.0        0.0   \n",
      "1             0.000      0.000     59.708      0.154         0.0        0.0   \n",
      "2             0.000      0.000     62.424      0.156         0.0        0.0   \n",
      "3            21.100     39.500     31.400      0.054    518253.0        0.0   \n",
      "4            14.533     45.031     27.827      0.031    692134.0        0.0   \n",
      "...             ...        ...        ...        ...         ...        ...   \n",
      "72963         1.087     51.797     21.895      1.332  16030322.0  3737005.0   \n",
      "72964         1.056     53.207      6.820      1.477  23370771.0  3680509.0   \n",
      "72965         0.000     80.745      0.000      0.000         0.0        0.0   \n",
      "72966         0.000     80.162      0.000      0.000         0.0        0.0   \n",
      "72967        66.046     81.111      0.000      0.003         0.0        0.0   \n",
      "\n",
      "       본점지점구분 1.본점 2.지점  국외투자법인여부                          업종중분류  count  \n",
      "0                    본점         N                           부동산업      B  \n",
      "1                    본점         N                           부동산업      A  \n",
      "2                    본점         N                           부동산업      B  \n",
      "3                    본점         N                            숙박업      E  \n",
      "4                    본점         N                            숙박업      F  \n",
      "...                 ...       ...                            ...    ...  \n",
      "72963                본점         N  전자 부품, 컴퓨터, 영상, 음향 및 통신장비 제조업      A  \n",
      "72964                본점         N  전자 부품, 컴퓨터, 영상, 음향 및 통신장비 제조업      E  \n",
      "72965                본점         Y                           부동산업      F  \n",
      "72966                본점         Y                           부동산업      F  \n",
      "72967                본점         Y                           부동산업      F  \n",
      "\n",
      "[72968 rows x 28 columns]\n",
      "통계검정 재무/비재무/재무비율/재무등급에 사용된 피처\n",
      "        총자산영업이익률   총자산순이익률    총자본회전율    자기자본비율      유동비율      당좌비율       유동자산  \\\n",
      "0      0.023212  0.075258  0.180107  0.565140  0.205501  0.205501  2168837.0   \n",
      "1      0.001678  0.083906  0.146134  0.597082  2.632539  2.632539  2272260.0   \n",
      "2      0.010102  0.099801  0.160753  0.624241  0.123762  0.123762  1175030.0   \n",
      "3      0.011226  0.000540  0.053823  0.314099  0.136079  0.136079   449696.0   \n",
      "4     -0.030903 -0.033316  0.030730  0.278271  0.179046  0.179046   509847.0   \n",
      "...         ...       ...       ...       ...       ...       ...        ...   \n",
      "72963  0.084009  0.035331  1.245435  0.218948  1.243706  0.696997  8501297.0   \n",
      "72964 -0.081712 -0.119129  1.329416  0.068198  0.834363  0.500317  9192992.0   \n",
      "72965 -0.009724 -0.009719  0.000000  0.120615  0.127681  0.127681   475283.0   \n",
      "72966 -0.005901 -0.005901  0.000000  0.114715  0.925283  0.925283  1474607.0   \n",
      "72967 -0.013728 -0.050224  0.004173  0.064490  0.024110  0.024110  2540577.0   \n",
      "\n",
      "            매출채권        비유동자산         유형자산  ...  금융비용대총비용비율(%  차입금의존도(%)  \\\n",
      "0        94085.0   34151633.0    1209369.0  ...         0.000      0.000   \n",
      "1        78612.0   38329680.0    1091153.0  ...         0.000      0.000   \n",
      "2       273522.0   37135811.0     993025.0  ...         0.000      0.000   \n",
      "3        18495.0   20926406.0   20909156.0  ...        21.100     39.500   \n",
      "4         1044.0   21038587.0   21033337.0  ...        14.533     45.031   \n",
      "...          ...          ...          ...  ...           ...        ...   \n",
      "72963  3412249.0    6644464.0    5839959.0  ...         1.087     51.797   \n",
      "72964  2918329.0    9735232.0    9409374.0  ...         1.056     53.207   \n",
      "72965        0.0  309796969.0  309796969.0  ...         0.000     80.745   \n",
      "72966        0.0  366181956.0  366181956.0  ...         0.000     80.162   \n",
      "72967  1201346.0  422469161.0  420110684.0  ...        66.046     81.111   \n",
      "\n",
      "       자기자본비율(%)  총자본회전율(회)        매출원가       재고자산  본점지점구분 1.본점 2.지점  \\\n",
      "0         56.500      0.184         0.0        0.0                본점   \n",
      "1         59.708      0.154         0.0        0.0                본점   \n",
      "2         62.424      0.156         0.0        0.0                본점   \n",
      "3         31.400      0.054    518253.0        0.0                본점   \n",
      "4         27.827      0.031    692134.0        0.0                본점   \n",
      "...          ...        ...         ...        ...               ...   \n",
      "72963     21.895      1.332  16030322.0  3737005.0                본점   \n",
      "72964      6.820      1.477  23370771.0  3680509.0                본점   \n",
      "72965      0.000      0.000         0.0        0.0                본점   \n",
      "72966      0.000      0.000         0.0        0.0                본점   \n",
      "72967      0.000      0.003         0.0        0.0                본점   \n",
      "\n",
      "       국외투자법인여부                          업종중분류  count  \n",
      "0             N                           부동산업      B  \n",
      "1             N                           부동산업      A  \n",
      "2             N                           부동산업      B  \n",
      "3             N                            숙박업      E  \n",
      "4             N                            숙박업      F  \n",
      "...         ...                            ...    ...  \n",
      "72963         N  전자 부품, 컴퓨터, 영상, 음향 및 통신장비 제조업      A  \n",
      "72964         N  전자 부품, 컴퓨터, 영상, 음향 및 통신장비 제조업      E  \n",
      "72965         Y                           부동산업      F  \n",
      "72966         Y                           부동산업      F  \n",
      "72967         Y                           부동산업      F  \n",
      "\n",
      "[72968 rows x 34 columns]\n",
      "통계검정 재무/비재무/재무비율/파생재무비율/재무등급에 사용된 피처\n",
      "        총자산영업이익률   총자산순이익률    총자본회전율    자기자본비율      유동비율      당좌비율  \\\n",
      "0      0.023212  0.075258  0.180107  0.565140  0.205501  0.205501   \n",
      "1      0.001678  0.083906  0.146134  0.597082  2.632539  2.632539   \n",
      "2      0.010102  0.099801  0.160753  0.624241  0.123762  0.123762   \n",
      "3      0.011226  0.000540  0.053823  0.314099  0.136079  0.136079   \n",
      "4     -0.030903 -0.033316  0.030730  0.278271  0.179046  0.179046   \n",
      "...         ...       ...       ...       ...       ...       ...   \n",
      "72963  0.084009  0.035331  1.245435  0.218948  1.243706  0.696997   \n",
      "72964 -0.081712 -0.119129  1.329416  0.068198  0.834363  0.500317   \n",
      "72965 -0.009724 -0.009719  0.000000  0.120615  0.127681  0.127681   \n",
      "72966 -0.005901 -0.005901  0.000000  0.114715  0.925283  0.925283   \n",
      "72967 -0.013728 -0.050224  0.004173  0.064490  0.024110  0.024110   \n",
      "\n",
      "       총자산영업이익률(top10_비율)  총자산순이익률(top10_비율)  총자본회전율(top10_비율)  \\\n",
      "0                0.030599           0.099207          0.237421   \n",
      "1                0.001208           0.060389          0.105175   \n",
      "2                0.001282           0.012667          0.020403   \n",
      "3                0.025611           0.001231          0.122788   \n",
      "4               -0.078541          -0.084672          0.078100   \n",
      "...                   ...                ...               ...   \n",
      "72963            0.087894           0.036965          1.303032   \n",
      "72964           -0.075757          -0.110447          1.232527   \n",
      "72965           -0.012819          -0.012812          0.000000   \n",
      "72966           -0.004247          -0.004247          0.000000   \n",
      "72967           -0.001742          -0.006375          0.000530   \n",
      "\n",
      "       자기자본비율(top10_비율)  ...  금융비용대총비용비율(%  차입금의존도(%)  자기자본비율(%)  총자본회전율(회)  \\\n",
      "0              0.744979  ...         0.000      0.000     56.500      0.184   \n",
      "1              0.429728  ...         0.000      0.000     59.708      0.154   \n",
      "2              0.079231  ...         0.000      0.000     62.424      0.156   \n",
      "3              0.716561  ...        21.100     39.500     31.400      0.054   \n",
      "4              0.707229  ...        14.533     45.031     27.827      0.031   \n",
      "...                 ...  ...           ...        ...        ...        ...   \n",
      "72963          0.229073  ...         1.087     51.797     21.895      1.332   \n",
      "72964          0.063227  ...         1.056     53.207      6.820      1.477   \n",
      "72965          0.158998  ...         0.000     80.745      0.000      0.000   \n",
      "72966          0.082562  ...         0.000     80.162      0.000      0.000   \n",
      "72967          0.008185  ...        66.046     81.111      0.000      0.003   \n",
      "\n",
      "             매출원가       재고자산  본점지점구분 1.본점 2.지점  국외투자법인여부  \\\n",
      "0             0.0        0.0                본점         N   \n",
      "1             0.0        0.0                본점         N   \n",
      "2             0.0        0.0                본점         N   \n",
      "3        518253.0        0.0                본점         N   \n",
      "4        692134.0        0.0                본점         N   \n",
      "...           ...        ...               ...       ...   \n",
      "72963  16030322.0  3737005.0                본점         N   \n",
      "72964  23370771.0  3680509.0                본점         N   \n",
      "72965         0.0        0.0                본점         Y   \n",
      "72966         0.0        0.0                본점         Y   \n",
      "72967         0.0        0.0                본점         Y   \n",
      "\n",
      "                               업종중분류  count  \n",
      "0                               부동산업      B  \n",
      "1                               부동산업      A  \n",
      "2                               부동산업      B  \n",
      "3                                숙박업      E  \n",
      "4                                숙박업      F  \n",
      "...                              ...    ...  \n",
      "72963  전자 부품, 컴퓨터, 영상, 음향 및 통신장비 제조업      A  \n",
      "72964  전자 부품, 컴퓨터, 영상, 음향 및 통신장비 제조업      E  \n",
      "72965                           부동산업      F  \n",
      "72966                           부동산업      F  \n",
      "72967                           부동산업      F  \n",
      "\n",
      "[72968 rows x 40 columns]\n"
     ]
    }
   ],
   "source": [
    "print(f\"통계검정 재무/비재무/재무등급에 사용된 피처\\n {X_stats_ksg}\")\n",
    "print(f\"통계검정 재무/비재무/재무비율/재무등급에 사용된 피처\\n {X_ratio_stats_ksg}\")\n",
    "print(f\"통계검정 재무/비재무/재무비율/파생재무비율/재무등급에 사용된 피처\\n {X_ratio_and_top10_stats_ksg}\")"
   ]
  },
  {
   "cell_type": "code",
   "execution_count": 83,
   "metadata": {},
   "outputs": [
    {
     "name": "stdout",
     "output_type": "stream",
     "text": [
      "=======================T-Test 기본 데이터+KSG==========================\n",
      "훈련 데이터셋의 입력 데이터의 크기: (58374, 106), 타겟값의 크기: (58374,)\n",
      "테스트 데이터셋의 입력 데이터의 크기: (14594, 106), 타겟값의 크기: (14594,)\n",
      "LGBM모델 정확도: 0.9748, 정밀도: 0.8512, 재현율: 0.6212, F1: 0.7182\n",
      "XGB모델 정확도: 0.9751, 정밀도: 0.8535, 재현율: 0.6252, F1: 0.7217\n",
      "RandomForest모델 정확도: 0.9752, 정밀도: 0.8907, 재현율: 0.5934, F1: 0.7122\n",
      "LogisticRegression모델 정확도: 0.9483, 정밀도: 0.5000, 재현율: 0.0040, F1: 0.0079\n",
      "NaiveBayes모델 정확도: 0.9428, 정밀도: 0.0833, 재현율: 0.0106, F1: 0.0188\n",
      "=====================T-Test 기본+비율 데이터+KSG========================\n",
      "훈련 데이터셋의 입력 데이터의 크기: (58374, 112), 타겟값의 크기: (58374,)\n",
      "테스트 데이터셋의 입력 데이터의 크기: (14594, 112), 타겟값의 크기: (14594,)\n",
      "LGBM모델 정확도: 0.9755, 정밀도: 0.8538, 재현율: 0.6344, F1: 0.7280\n",
      "XGB모델 정확도: 0.9755, 정밀도: 0.8590, 재현율: 0.6291, F1: 0.7263\n",
      "RandomForest모델 정확도: 0.9747, 정밀도: 0.8799, 재현율: 0.5921, F1: 0.7078\n",
      "LogisticRegression모델 정확도: 0.9483, 정밀도: 0.5000, 재현율: 0.0040, F1: 0.0079\n",
      "NaiveBayes모델 정확도: 0.9445, 정밀도: 0.1014, 재현율: 0.0093, F1: 0.0170\n",
      "=================T-Test 기본+비율+top10비율 데이터+KSG==================\n",
      "훈련 데이터셋의 입력 데이터의 크기: (58374, 118), 타겟값의 크기: (58374,)\n",
      "테스트 데이터셋의 입력 데이터의 크기: (14594, 118), 타겟값의 크기: (14594,)\n",
      "LGBM모델 정확도: 0.9753, 정밀도: 0.8543, 재현율: 0.6291, F1: 0.7246\n",
      "XGB모델 정확도: 0.9758, 정밀도: 0.8641, 재현율: 0.6318, F1: 0.7299\n",
      "RandomForest모델 정확도: 0.9742, 정밀도: 0.8828, 재현율: 0.5788, F1: 0.6992\n",
      "LogisticRegression모델 정확도: 0.9483, 정밀도: 0.5000, 재현율: 0.0040, F1: 0.0079\n",
      "NaiveBayes모델 정확도: 0.9452, 정밀도: 0.0909, 재현율: 0.0066, F1: 0.0123\n"
     ]
    }
   ],
   "source": [
    "print('=======================T-Test 기본 데이터+KSG==========================')\n",
    "# 가설검정으로 선정한 데이터\n",
    "X_train, y_train, X_test, y_test = preprocess_and_split_data(X_stats_ksg, y_stats_ksg)\n",
    "train_model(X_train, y_train, X_test, y_test)\n",
    "\n",
    "print('=====================T-Test 기본+비율 데이터+KSG========================')\n",
    "# 가설검정으로 선정한 데이터\n",
    "X_train, y_train, X_test, y_test = preprocess_and_split_data(X_ratio_stats_ksg, y_ratio_stats_ksg)\n",
    "train_model(X_train, y_train, X_test, y_test)\n",
    "\n",
    "print('=================T-Test 기본+비율+top10비율 데이터+KSG==================')\n",
    "# 가설검정으로 선정한 데이터\n",
    "X_train, y_train, X_test, y_test = preprocess_and_split_data(X_ratio_and_top10_stats_ksg, y_ratio_and_top10_stats_ksg)\n",
    "train_model(X_train, y_train, X_test, y_test)"
   ]
  },
  {
   "cell_type": "markdown",
   "metadata": {},
   "source": [
    "# 3. 통계청 자료"
   ]
  },
  {
   "cell_type": "code",
   "execution_count": 84,
   "metadata": {},
   "outputs": [],
   "source": [
    "address = pd.read_csv('./custom_data/address.csv', index_col=0)"
   ]
  },
  {
   "cell_type": "code",
   "execution_count": 85,
   "metadata": {},
   "outputs": [],
   "source": [
    "address['사업자등록번호'] = address['사업자등록번호'].astype(str)"
   ]
  },
  {
   "cell_type": "code",
   "execution_count": 86,
   "metadata": {},
   "outputs": [],
   "source": [
    "df_ttest_address = pd.merge(df_ttest, address[['사업자등록번호', '시도']], on='사업자등록번호', how='left')\n",
    "df_ratio_address = pd.merge(df_basic_ratio, address[['사업자등록번호', '시도']], on='사업자등록번호', how='left')\n",
    "df_ratio_top10_address = pd.merge(df_basic_ratio_and_top10, address[['사업자등록번호', '시도']], on='사업자등록번호', how='left')\n",
    "\n",
    "df_ttest_ksg_address = pd.merge(df_basic_ttest_ksg, address[['사업자등록번호', '시도']], on='사업자등록번호', how='left')\n",
    "df_ratio_ksg_address = pd.merge(df_ratio_ksg, address[['사업자등록번호', '시도']], on='사업자등록번호', how='left')\n",
    "df_ratio_top10_ksg_address = pd.merge(df_ratio_top10_ksg, address[['사업자등록번호', '시도']], on='사업자등록번호', how='left')"
   ]
  },
  {
   "cell_type": "code",
   "execution_count": 87,
   "metadata": {},
   "outputs": [],
   "source": [
    "# 일부 주소가 없는 기업들(검색해도 나오지 않는 기업들) 제거\n",
    "df_ttest_address.dropna(inplace=True)\n",
    "df_ratio_address.dropna(inplace=True)\n",
    "df_ratio_top10_address.dropna(inplace=True)\n",
    "\n",
    "df_ttest_ksg_address.dropna(inplace=True)\n",
    "df_ratio_ksg_address.dropna(inplace=True)\n",
    "df_ratio_top10_ksg_address.dropna(inplace=True)"
   ]
  },
  {
   "cell_type": "code",
   "execution_count": 88,
   "metadata": {},
   "outputs": [],
   "source": [
    "# 인덱스 번호 초기화\n",
    "df_ttest_address = df_ttest_address.reset_index(drop=True)\n",
    "df_ratio_address = df_ratio_address.reset_index(drop=True)\n",
    "df_ratio_top10_address = df_ratio_top10_address.reset_index(drop=True)\n",
    "\n",
    "df_ttest_ksg_address = df_ttest_ksg_address.reset_index(drop=True)\n",
    "df_ratio_ksg_address = df_ratio_ksg_address.reset_index(drop=True)\n",
    "df_ratio_top10_ksg_address = df_ratio_top10_ksg_address.reset_index(drop=True)"
   ]
  },
  {
   "cell_type": "code",
   "execution_count": 89,
   "metadata": {},
   "outputs": [],
   "source": [
    "statistics_2019 = pd.read_csv('./region_peup_19.csv')\n",
    "statistics_2020 = pd.read_csv('./region_peup_20.csv')\n",
    "statistics_2021 = pd.read_csv('./region_peup_21.csv')"
   ]
  },
  {
   "cell_type": "code",
   "execution_count": 90,
   "metadata": {},
   "outputs": [],
   "source": [
    "statistics_2019['년도'] = '2019'\n",
    "statistics_2020['년도'] = '2020'\n",
    "statistics_2021['년도'] = '2021'"
   ]
  },
  {
   "cell_type": "code",
   "execution_count": 91,
   "metadata": {},
   "outputs": [],
   "source": [
    "# concat을 위해 년도 데이터 생성\n",
    "df_ttest_address['년도'] = df_ttest_address['결산년월'].str[:4]\n",
    "df_ratio_address['년도'] = df_ratio_address['결산년월'].str[:4]\n",
    "df_ratio_top10_address['년도'] = df_ratio_top10_address['결산년월'].str[:4]\n",
    "\n",
    "df_ttest_ksg_address['년도'] = df_ttest_ksg_address['결산년월'].str[:4]\n",
    "df_ratio_ksg_address['년도'] = df_ratio_ksg_address['결산년월'].str[:4]\n",
    "df_ratio_top10_ksg_address['년도'] = df_ratio_top10_ksg_address['결산년월'].str[:4]"
   ]
  },
  {
   "cell_type": "code",
   "execution_count": 93,
   "metadata": {},
   "outputs": [
    {
     "name": "stdout",
     "output_type": "stream",
     "text": [
      "(72956, 33)\n",
      "(72956, 39)\n",
      "(72956, 45)\n",
      "(72956, 34)\n",
      "(72956, 40)\n",
      "(72956, 46)\n"
     ]
    }
   ],
   "source": [
    "# 지방지표 자료와 합치기 전 데이터의 형태 확인하기\n",
    "print(df_ttest_address.shape)\n",
    "print(df_ratio_address.shape)\n",
    "print(df_ratio_top10_address.shape)\n",
    "print(df_ttest_ksg_address.shape)\n",
    "print(df_ratio_ksg_address.shape)\n",
    "print(df_ratio_top10_ksg_address.shape)"
   ]
  },
  {
   "cell_type": "code",
   "execution_count": 94,
   "metadata": {},
   "outputs": [],
   "source": [
    "# 2019~2021년의 지방지표 자료 합치기\n",
    "statistics_total = pd.concat([statistics_2019, statistics_2020, statistics_2021]).reset_index(drop=True)"
   ]
  },
  {
   "cell_type": "code",
   "execution_count": 95,
   "metadata": {},
   "outputs": [],
   "source": [
    "# merge를 위한 컬럼명 변경\n",
    "statistics_total.columns = ['시도', '기업수', '폐업수', '폐업률', '혼자사는사람', '취업자증감', '고용률', '경제활동참가률', '실업률',\n",
    "                            '광공업생산지수', '재정자립도', '특허', '가구별소득', '노인비율', '외국인비율', '인구수', '도시면적',\n",
    "                            '전기사용량', '년도']"
   ]
  },
  {
   "cell_type": "code",
   "execution_count": 96,
   "metadata": {},
   "outputs": [],
   "source": [
    "df_ttest_statistics = pd.merge(df_ttest_address, statistics_total, on=['시도', '년도'], how='left')\n",
    "df_ratio_statistics = pd.merge(df_ratio_address, statistics_total, on=['시도', '년도'], how='left')\n",
    "df_ratio_top10_statistics = pd.merge(df_ratio_top10_address, statistics_total, on=['시도', '년도'], how='left')\n",
    "\n",
    "df_ttest_ksg_statistics = pd.merge(df_ttest_ksg_address, statistics_total, on=['시도', '년도'], how='left')\n",
    "df_ratio_ksg_statistics = pd.merge(df_ratio_ksg_address, statistics_total, on=['시도', '년도'], how='left')\n",
    "df_ratio_top10_ksg_statistics = pd.merge(df_ratio_top10_ksg_address, statistics_total, on=['시도', '년도'], how='left')"
   ]
  },
  {
   "cell_type": "code",
   "execution_count": 97,
   "metadata": {},
   "outputs": [
    {
     "data": {
      "text/html": [
       "<div>\n",
       "<style scoped>\n",
       "    .dataframe tbody tr th:only-of-type {\n",
       "        vertical-align: middle;\n",
       "    }\n",
       "\n",
       "    .dataframe tbody tr th {\n",
       "        vertical-align: top;\n",
       "    }\n",
       "\n",
       "    .dataframe thead th {\n",
       "        text-align: right;\n",
       "    }\n",
       "</style>\n",
       "<table border=\"1\" class=\"dataframe\">\n",
       "  <thead>\n",
       "    <tr style=\"text-align: right;\">\n",
       "      <th></th>\n",
       "      <th>유동자산</th>\n",
       "      <th>매출채권</th>\n",
       "      <th>비유동자산</th>\n",
       "      <th>유형자산</th>\n",
       "      <th>자산총계</th>\n",
       "      <th>유동부채</th>\n",
       "      <th>비유동부채</th>\n",
       "      <th>부  채  총  계</th>\n",
       "      <th>이익잉여금(결손금）</th>\n",
       "      <th>자본총계</th>\n",
       "      <th>...</th>\n",
       "      <th>실업률</th>\n",
       "      <th>광공업생산지수</th>\n",
       "      <th>재정자립도</th>\n",
       "      <th>특허</th>\n",
       "      <th>가구별소득</th>\n",
       "      <th>노인비율</th>\n",
       "      <th>외국인비율</th>\n",
       "      <th>인구수</th>\n",
       "      <th>도시면적</th>\n",
       "      <th>전기사용량</th>\n",
       "    </tr>\n",
       "  </thead>\n",
       "  <tbody>\n",
       "    <tr>\n",
       "      <th>0</th>\n",
       "      <td>2168837.0</td>\n",
       "      <td>94085.0</td>\n",
       "      <td>34151633.0</td>\n",
       "      <td>1209369.0</td>\n",
       "      <td>36320470.0</td>\n",
       "      <td>10553878.0</td>\n",
       "      <td>5240445.0</td>\n",
       "      <td>15794323.0</td>\n",
       "      <td>3708092.0</td>\n",
       "      <td>20526147.0</td>\n",
       "      <td>...</td>\n",
       "      <td>4.4</td>\n",
       "      <td>97.8</td>\n",
       "      <td>76.5</td>\n",
       "      <td>52270.0</td>\n",
       "      <td>6595.0</td>\n",
       "      <td>15.2</td>\n",
       "      <td>28.97</td>\n",
       "      <td>9639541.0</td>\n",
       "      <td>605512630.0</td>\n",
       "      <td>47167206.0</td>\n",
       "    </tr>\n",
       "    <tr>\n",
       "      <th>1</th>\n",
       "      <td>2272260.0</td>\n",
       "      <td>78612.0</td>\n",
       "      <td>38329680.0</td>\n",
       "      <td>1091153.0</td>\n",
       "      <td>40601940.0</td>\n",
       "      <td>863144.0</td>\n",
       "      <td>15496117.0</td>\n",
       "      <td>16359261.0</td>\n",
       "      <td>4230449.0</td>\n",
       "      <td>24242679.0</td>\n",
       "      <td>...</td>\n",
       "      <td>4.6</td>\n",
       "      <td>84.7</td>\n",
       "      <td>76.1</td>\n",
       "      <td>53124.0</td>\n",
       "      <td>6575.0</td>\n",
       "      <td>16.1</td>\n",
       "      <td>25.09</td>\n",
       "      <td>9586195.0</td>\n",
       "      <td>605680193.0</td>\n",
       "      <td>45787926.0</td>\n",
       "    </tr>\n",
       "    <tr>\n",
       "      <th>2</th>\n",
       "      <td>1175030.0</td>\n",
       "      <td>273522.0</td>\n",
       "      <td>37135811.0</td>\n",
       "      <td>993025.0</td>\n",
       "      <td>38310842.0</td>\n",
       "      <td>9494272.0</td>\n",
       "      <td>4901383.0</td>\n",
       "      <td>14395654.0</td>\n",
       "      <td>5169522.0</td>\n",
       "      <td>23915187.0</td>\n",
       "      <td>...</td>\n",
       "      <td>4.8</td>\n",
       "      <td>89.3</td>\n",
       "      <td>75.6</td>\n",
       "      <td>54042.0</td>\n",
       "      <td>6826.0</td>\n",
       "      <td>16.8</td>\n",
       "      <td>23.83</td>\n",
       "      <td>9472127.0</td>\n",
       "      <td>605680264.0</td>\n",
       "      <td>47295807.0</td>\n",
       "    </tr>\n",
       "    <tr>\n",
       "      <th>3</th>\n",
       "      <td>449696.0</td>\n",
       "      <td>18495.0</td>\n",
       "      <td>20926406.0</td>\n",
       "      <td>20909156.0</td>\n",
       "      <td>21376102.0</td>\n",
       "      <td>3304660.0</td>\n",
       "      <td>11357238.0</td>\n",
       "      <td>14661898.0</td>\n",
       "      <td>-7398595.0</td>\n",
       "      <td>6714204.0</td>\n",
       "      <td>...</td>\n",
       "      <td>4.4</td>\n",
       "      <td>97.8</td>\n",
       "      <td>76.5</td>\n",
       "      <td>52270.0</td>\n",
       "      <td>6595.0</td>\n",
       "      <td>15.2</td>\n",
       "      <td>28.97</td>\n",
       "      <td>9639541.0</td>\n",
       "      <td>605512630.0</td>\n",
       "      <td>47167206.0</td>\n",
       "    </tr>\n",
       "    <tr>\n",
       "      <th>4</th>\n",
       "      <td>509847.0</td>\n",
       "      <td>1044.0</td>\n",
       "      <td>21038587.0</td>\n",
       "      <td>21033337.0</td>\n",
       "      <td>21548434.0</td>\n",
       "      <td>2847579.0</td>\n",
       "      <td>12704550.0</td>\n",
       "      <td>15552129.0</td>\n",
       "      <td>-8116494.0</td>\n",
       "      <td>5996305.0</td>\n",
       "      <td>...</td>\n",
       "      <td>4.6</td>\n",
       "      <td>84.7</td>\n",
       "      <td>76.1</td>\n",
       "      <td>53124.0</td>\n",
       "      <td>6575.0</td>\n",
       "      <td>16.1</td>\n",
       "      <td>25.09</td>\n",
       "      <td>9586195.0</td>\n",
       "      <td>605680193.0</td>\n",
       "      <td>45787926.0</td>\n",
       "    </tr>\n",
       "  </tbody>\n",
       "</table>\n",
       "<p>5 rows × 50 columns</p>\n",
       "</div>"
      ],
      "text/plain": [
       "        유동자산      매출채권       비유동자산        유형자산        자산총계        유동부채  \\\n",
       "0  2168837.0   94085.0  34151633.0   1209369.0  36320470.0  10553878.0   \n",
       "1  2272260.0   78612.0  38329680.0   1091153.0  40601940.0    863144.0   \n",
       "2  1175030.0  273522.0  37135811.0    993025.0  38310842.0   9494272.0   \n",
       "3   449696.0   18495.0  20926406.0  20909156.0  21376102.0   3304660.0   \n",
       "4   509847.0    1044.0  21038587.0  21033337.0  21548434.0   2847579.0   \n",
       "\n",
       "        비유동부채  부  채  총  계  이익잉여금(결손금）        자본총계  ...  실업률  광공업생산지수  재정자립도  \\\n",
       "0   5240445.0  15794323.0   3708092.0  20526147.0  ...  4.4     97.8   76.5   \n",
       "1  15496117.0  16359261.0   4230449.0  24242679.0  ...  4.6     84.7   76.1   \n",
       "2   4901383.0  14395654.0   5169522.0  23915187.0  ...  4.8     89.3   75.6   \n",
       "3  11357238.0  14661898.0  -7398595.0   6714204.0  ...  4.4     97.8   76.5   \n",
       "4  12704550.0  15552129.0  -8116494.0   5996305.0  ...  4.6     84.7   76.1   \n",
       "\n",
       "        특허   가구별소득  노인비율  외국인비율        인구수         도시면적       전기사용량  \n",
       "0  52270.0  6595.0  15.2  28.97  9639541.0  605512630.0  47167206.0  \n",
       "1  53124.0  6575.0  16.1  25.09  9586195.0  605680193.0  45787926.0  \n",
       "2  54042.0  6826.0  16.8  23.83  9472127.0  605680264.0  47295807.0  \n",
       "3  52270.0  6595.0  15.2  28.97  9639541.0  605512630.0  47167206.0  \n",
       "4  53124.0  6575.0  16.1  25.09  9586195.0  605680193.0  45787926.0  \n",
       "\n",
       "[5 rows x 50 columns]"
      ]
     },
     "execution_count": 97,
     "metadata": {},
     "output_type": "execute_result"
    }
   ],
   "source": [
    "df_ttest_statistics.head()"
   ]
  },
  {
   "cell_type": "code",
   "execution_count": 103,
   "metadata": {},
   "outputs": [],
   "source": [
    "# Two Sample T-Test를 진행할 통계청 데이터 선정\n",
    "ttest_columns = ['혼자사는사람', '취업자증감', '고용률', '경제활동참가률', '실업률', '광공업생산지수',\n",
    "                '재정자립도', '특허', '가구별소득', '노인비율', '외국인비율', '인구수', '도시면적', '전기사용량']"
   ]
  },
  {
   "cell_type": "code",
   "execution_count": 102,
   "metadata": {},
   "outputs": [
    {
     "name": "stdout",
     "output_type": "stream",
     "text": [
      "영업중인 기업과 폐업한 기업의 혼자사는사람 변수는 차이가 있다. 따라서 유의미한 변수이다.\n",
      "영업중인 기업과 폐업한 기업의 고용률 변수는 차이가 있다. 따라서 유의미한 변수이다.\n",
      "영업중인 기업과 폐업한 기업의 경제활동참가률 변수는 차이가 있다. 따라서 유의미한 변수이다.\n",
      "영업중인 기업과 폐업한 기업의 광공업생산지수 변수는 차이가 있다. 따라서 유의미한 변수이다.\n",
      "영업중인 기업과 폐업한 기업의 재정자립도 변수는 차이가 있다. 따라서 유의미한 변수이다.\n",
      "영업중인 기업과 폐업한 기업의 가구별소득 변수는 차이가 있다. 따라서 유의미한 변수이다.\n",
      "영업중인 기업과 폐업한 기업의 노인비율 변수는 차이가 있다. 따라서 유의미한 변수이다.\n",
      "영업중인 기업과 폐업한 기업의 외국인비율 변수는 차이가 있다. 따라서 유의미한 변수이다.\n",
      "영업중인 기업과 폐업한 기업의 도시면적 변수는 차이가 있다. 따라서 유의미한 변수이다.\n",
      "휴폐업과 시도 데이터는 연관성이 나타난다. 따라서 유의미한 변수이다.\n"
     ]
    }
   ],
   "source": [
    "use_statistics_columns = calculate_ttest(df_ttest_statistics, ttest_columns)"
   ]
  },
  {
   "cell_type": "code",
   "execution_count": 107,
   "metadata": {},
   "outputs": [],
   "source": [
    "X_stats_statistics = df_ttest_statistics.drop(['사업자등록번호', '결산년월', '업종대분류', '시도', '년도', '기업수', \n",
    "                            '폐업수', '폐업률', '취업자증감', '실업률', '특허', '가구별소득', '인구수', '전기사용량', '휴폐업구분'], axis=1)\n",
    "y_stats_statistics = df_ttest_statistics['휴폐업구분']\n",
    "\n",
    "X_ratio_stats_statistics = df_ratio_statistics.drop(['사업자등록번호', '결산년월', '업종대분류', '시도', '년도', '기업수', \n",
    "                            '폐업수', '폐업률', '취업자증감', '실업률', '특허', '가구별소득', '인구수', '전기사용량', '휴폐업구분'], axis=1)\n",
    "y_ratio_stats_statistics = df_ratio_statistics['휴폐업구분']\n",
    "\n",
    "X_ratio_and_top10_stats_statistics = df_ratio_top10_statistics.drop(['사업자등록번호', '결산년월', '업종대분류', '시도', '년도', '기업수', \n",
    "                            '폐업수', '폐업률', '취업자증감', '실업률', '특허', '가구별소득', '인구수', '전기사용량', '휴폐업구분'], axis=1)\n",
    "y_ratio_and_top10_stats_statistics = df_ratio_top10_statistics['휴폐업구분']\n",
    "\n",
    "X_stats_ksg_statistics = df_ttest_ksg_statistics.drop(['사업자등록번호', '결산년월', '업종대분류', '시도', '년도', '기업수', \n",
    "                            '폐업수', '폐업률', '취업자증감', '실업률', '특허', '가구별소득', '인구수', '전기사용량', '휴폐업구분'], axis=1)\n",
    "y_stats_ksg_statistics = df_ttest_ksg_statistics['휴폐업구분']\n",
    "\n",
    "X_ratio_stats_ksg_statistics = df_ratio_ksg_statistics.drop(['사업자등록번호', '결산년월', '업종대분류', '시도', '년도', '기업수', \n",
    "                            '폐업수', '폐업률', '취업자증감', '실업률', '특허', '가구별소득', '인구수', '전기사용량', '휴폐업구분'], axis=1)\n",
    "y_ratio_stats_ksg_statistics = df_ratio_ksg_statistics['휴폐업구분']\n",
    "\n",
    "X_ratio_and_top10_stats_ksg_statistics = df_ratio_top10_ksg_statistics.drop(['사업자등록번호', '결산년월', '업종대분류', '시도', '년도', '기업수', \n",
    "                            '폐업수', '폐업률', '취업자증감', '실업률', '특허', '가구별소득', '인구수', '전기사용량', '휴폐업구분'], axis=1)\n",
    "y_ratio_and_top10_stats_ksg_statistics = df_ratio_top10_ksg_statistics['휴폐업구분']"
   ]
  },
  {
   "cell_type": "code",
   "execution_count": 109,
   "metadata": {},
   "outputs": [
    {
     "name": "stdout",
     "output_type": "stream",
     "text": [
      "========================T-Test 기본 데이터+통계청===========================\n",
      "훈련 데이터셋의 입력 데이터의 크기: (58364, 103), 타겟값의 크기: (58364,)\n",
      "테스트 데이터셋의 입력 데이터의 크기: (14592, 103), 타겟값의 크기: (14592,)\n",
      "LGBM모델 정확도: 0.9733, 정밀도: 0.8288, 재현율: 0.6101, F1: 0.7028\n",
      "XGB모델 정확도: 0.9746, 정밀도: 0.8366, 재현율: 0.6313, F1: 0.7196\n",
      "RandomForest모델 정확도: 0.9740, 정밀도: 0.8758, 재현율: 0.5796, F1: 0.6975\n",
      "LogisticRegression모델 정확도: 0.9480, 정밀도: 0.1429, 재현율: 0.0013, F1: 0.0026\n",
      "NaiveBayes모델 정확도: 0.9361, 정밀도: 0.0459, 재현율: 0.0119, F1: 0.0189\n",
      "======================T-Test 기본+비율 데이터+통계청=========================\n",
      "훈련 데이터셋의 입력 데이터의 크기: (58364, 109), 타겟값의 크기: (58364,)\n",
      "테스트 데이터셋의 입력 데이터의 크기: (14592, 109), 타겟값의 크기: (14592,)\n",
      "LGBM모델 정확도: 0.9744, 정밀도: 0.8405, 재현율: 0.6220, F1: 0.7149\n",
      "XGB모델 정확도: 0.9743, 정밀도: 0.8319, 재현율: 0.6300, F1: 0.7170\n",
      "RandomForest모델 정확도: 0.9738, 정밀도: 0.8644, 재현율: 0.5836, F1: 0.6968\n",
      "LogisticRegression모델 정확도: 0.9480, 정밀도: 0.1429, 재현율: 0.0013, F1: 0.0026\n",
      "NaiveBayes모델 정확도: 0.9362, 정밀도: 0.0508, 재현율: 0.0133, F1: 0.0210\n",
      "==================T-Test 기본+비율+top10비율 데이터+통계청====================\n",
      "훈련 데이터셋의 입력 데이터의 크기: (58364, 115), 타겟값의 크기: (58364,)\n",
      "테스트 데이터셋의 입력 데이터의 크기: (14592, 115), 타겟값의 크기: (14592,)\n",
      "LGBM모델 정확도: 0.9732, 정밀도: 0.8270, 재현율: 0.6088, F1: 0.7013\n",
      "XGB모델 정확도: 0.9749, 정밀도: 0.8415, 재현율: 0.6340, F1: 0.7231\n",
      "RandomForest모델 정확도: 0.9733, 정밀도: 0.8684, 재현율: 0.5690, F1: 0.6875\n",
      "LogisticRegression모델 정확도: 0.9479, 정밀도: 0.1250, 재현율: 0.0013, F1: 0.0026\n",
      "NaiveBayes모델 정확도: 0.9362, 정밀도: 0.0508, 재현율: 0.0133, F1: 0.0210\n",
      "=======================T-Test 기본 데이터+KSG+통계청==========================\n",
      "훈련 데이터셋의 입력 데이터의 크기: (58364, 114), 타겟값의 크기: (58364,)\n",
      "테스트 데이터셋의 입력 데이터의 크기: (14592, 114), 타겟값의 크기: (14592,)\n",
      "LGBM모델 정확도: 0.9735, 정밀도: 0.8286, 재현율: 0.6154, F1: 0.7062\n",
      "XGB모델 정확도: 0.9744, 정밀도: 0.8357, 재현율: 0.6273, F1: 0.7167\n",
      "RandomForest모델 정확도: 0.9730, 정밀도: 0.8673, 재현율: 0.5637, F1: 0.6833\n",
      "LogisticRegression모델 정확도: 0.9480, 정밀도: 0.1429, 재현율: 0.0013, F1: 0.0026\n",
      "NaiveBayes모델 정확도: 0.9361, 정밀도: 0.0459, 재현율: 0.0119, F1: 0.0189\n",
      "=====================T-Test 기본+비율 데이터+KSG+통계청========================\n",
      "훈련 데이터셋의 입력 데이터의 크기: (58364, 120), 타겟값의 크기: (58364,)\n",
      "테스트 데이터셋의 입력 데이터의 크기: (14592, 120), 타겟값의 크기: (14592,)\n",
      "LGBM모델 정확도: 0.9733, 정밀도: 0.8265, 재현율: 0.6127, F1: 0.7037\n",
      "XGB모델 정확도: 0.9749, 정밀도: 0.8392, 재현율: 0.6366, F1: 0.7240\n",
      "RandomForest모델 정확도: 0.9735, 정밀도: 0.8707, 재현율: 0.5716, F1: 0.6902\n",
      "LogisticRegression모델 정확도: 0.9480, 정밀도: 0.1429, 재현율: 0.0013, F1: 0.0026\n",
      "NaiveBayes모델 정확도: 0.9362, 정밀도: 0.0508, 재현율: 0.0133, F1: 0.0210\n",
      "=================T-Test 기본+비율+top10비율 데이터+KSG+통계청==================\n",
      "훈련 데이터셋의 입력 데이터의 크기: (58364, 126), 타겟값의 크기: (58364,)\n",
      "테스트 데이터셋의 입력 데이터의 크기: (14592, 126), 타겟값의 크기: (14592,)\n",
      "LGBM모델 정확도: 0.9734, 정밀도: 0.8268, 재현율: 0.6141, F1: 0.7047\n",
      "XGB모델 정확도: 0.9742, 정밀도: 0.8325, 재현율: 0.6260, F1: 0.7146\n",
      "RandomForest모델 정확도: 0.9737, 정밀도: 0.8671, 재현율: 0.5796, F1: 0.6948\n",
      "LogisticRegression모델 정확도: 0.9479, 정밀도: 0.1250, 재현율: 0.0013, F1: 0.0026\n",
      "NaiveBayes모델 정확도: 0.9362, 정밀도: 0.0508, 재현율: 0.0133, F1: 0.0210\n"
     ]
    }
   ],
   "source": [
    "print('========================T-Test 기본 데이터+통계청===========================')\n",
    "# 가설검정으로 선정한 데이터\n",
    "X_train, y_train, X_test, y_test = preprocess_and_split_data(X_stats_statistics, y_stats_statistics)\n",
    "train_model(X_train, y_train, X_test, y_test)\n",
    "\n",
    "print('======================T-Test 기본+비율 데이터+통계청=========================')\n",
    "# 가설검정으로 선정한 데이터\n",
    "X_train, y_train, X_test, y_test = preprocess_and_split_data(X_ratio_stats_statistics, y_ratio_stats_statistics)\n",
    "train_model(X_train, y_train, X_test, y_test)\n",
    "\n",
    "print('==================T-Test 기본+비율+top10비율 데이터+통계청====================')\n",
    "# 가설검정으로 선정한 데이터\n",
    "X_train, y_train, X_test, y_test = preprocess_and_split_data(X_ratio_and_top10_stats_statistics, y_ratio_and_top10_stats_statistics)\n",
    "train_model(X_train, y_train, X_test, y_test)\n",
    "\n",
    "print('=======================T-Test 기본 데이터+KSG+통계청==========================')\n",
    "# 가설검정으로 선정한 데이터\n",
    "X_train, y_train, X_test, y_test = preprocess_and_split_data(X_stats_ksg_statistics, y_stats_ksg_statistics)\n",
    "train_model(X_train, y_train, X_test, y_test)\n",
    "\n",
    "print('=====================T-Test 기본+비율 데이터+KSG+통계청========================')\n",
    "# 가설검정으로 선정한 데이터\n",
    "X_train, y_train, X_test, y_test = preprocess_and_split_data(X_ratio_stats_ksg_statistics, y_ratio_stats_ksg_statistics)\n",
    "train_model(X_train, y_train, X_test, y_test)\n",
    "\n",
    "print('=================T-Test 기본+비율+top10비율 데이터+KSG+통계청==================')\n",
    "# 가설검정으로 선정한 데이터\n",
    "X_train, y_train, X_test, y_test = preprocess_and_split_data(X_ratio_and_top10_stats_ksg_statistics, y_ratio_and_top10_stats_ksg_statistics)\n",
    "train_model(X_train, y_train, X_test, y_test)"
   ]
  },
  {
   "cell_type": "markdown",
   "metadata": {},
   "source": [
    "# 4. 재무비율 스코어"
   ]
  },
  {
   "cell_type": "code",
   "execution_count": 110,
   "metadata": {},
   "outputs": [],
   "source": [
    "finance_ratio_score = pd.read_csv('./finance_ratio_score.csv', encoding='cp949')"
   ]
  },
  {
   "cell_type": "code",
   "execution_count": 111,
   "metadata": {},
   "outputs": [],
   "source": [
    "finance_ratio_score = finance_ratio_score[['사업자등록번호', '결산년월', '재무비율점수']]"
   ]
  },
  {
   "cell_type": "code",
   "execution_count": 112,
   "metadata": {},
   "outputs": [],
   "source": [
    "finance_ratio_score['사업자등록번호'] = finance_ratio_score['사업자등록번호'].astype(str)\n",
    "finance_ratio_score['결산년월'] = finance_ratio_score['결산년월'].astype(str)"
   ]
  },
  {
   "cell_type": "code",
   "execution_count": 113,
   "metadata": {},
   "outputs": [],
   "source": [
    "df_ttest_finance_score = pd.merge(df_ttest, finance_ratio_score, on=['사업자등록번호', '결산년월'], how='left')\n",
    "df_ratio_finance_score = pd.merge(df_basic_ratio, finance_ratio_score, on=['사업자등록번호', '결산년월'], how='left')\n",
    "df_ratio_top10_finance_score = pd.merge(df_basic_ratio_and_top10, finance_ratio_score, on=['사업자등록번호', '결산년월'], how='left')\n",
    "\n",
    "df_ttest_ksg_finance_score = pd.merge(df_basic_ttest_ksg, finance_ratio_score, on=['사업자등록번호', '결산년월'], how='left')\n",
    "df_ratio_ksg_finance_score = pd.merge(df_ratio_ksg, finance_ratio_score, on=['사업자등록번호', '결산년월'], how='left')\n",
    "df_ratio_top10_ksg_finance_score = pd.merge(df_ratio_top10_ksg, finance_ratio_score, on=['사업자등록번호', '결산년월'], how='left')\n",
    "\n",
    "df_ttest_statistics_finance_score = pd.merge(df_ttest_statistics, finance_ratio_score, on=['사업자등록번호', '결산년월'], how='left')\n",
    "df_ratio_statistics_finance_score = pd.merge(df_ratio_statistics, finance_ratio_score, on=['사업자등록번호', '결산년월'], how='left')\n",
    "df_ratio_top10_statistics_finance_score = pd.merge(df_ratio_top10_statistics, finance_ratio_score, on=['사업자등록번호', '결산년월'], how='left')\n",
    "\n",
    "df_ttest_ksg_statistics_finance_score = pd.merge(df_ttest_ksg_statistics, finance_ratio_score, on=['사업자등록번호', '결산년월'], how='left')\n",
    "df_ratio_ksg_statistics_finance_score = pd.merge(df_ratio_ksg_statistics, finance_ratio_score, on=['사업자등록번호', '결산년월'], how='left')\n",
    "df_ratio_top10_ksg_statistics_finance_score = pd.merge(df_ratio_top10_ksg_statistics, finance_ratio_score, on=['사업자등록번호', '결산년월'], how='left')"
   ]
  },
  {
   "cell_type": "code",
   "execution_count": 114,
   "metadata": {},
   "outputs": [],
   "source": [
    "# 일부 주소가 없는 기업들(검색해도 나오지 않는 기업들) 제거\n",
    "df_ttest_finance_score.dropna(inplace=True)\n",
    "df_ratio_finance_score.dropna(inplace=True)\n",
    "df_ratio_top10_finance_score.dropna(inplace=True)\n",
    "\n",
    "df_ttest_ksg_finance_score.dropna(inplace=True)\n",
    "df_ratio_ksg_finance_score.dropna(inplace=True)\n",
    "df_ratio_top10_ksg_finance_score.dropna(inplace=True)"
   ]
  },
  {
   "cell_type": "code",
   "execution_count": 119,
   "metadata": {},
   "outputs": [],
   "source": [
    "X_stats_finance_score = df_ttest_finance_score.drop(['사업자등록번호', '결산년월', '업종대분류', '휴폐업구분'], axis=1)\n",
    "y_stats_finance_score = df_ttest_finance_score['휴폐업구분']\n",
    "\n",
    "X_ratio_stats_finance_score = df_ratio_finance_score.drop(['사업자등록번호', '결산년월', '업종대분류', '휴폐업구분'], axis=1)\n",
    "y_ratio_stats_finance_score = df_ratio_finance_score['휴폐업구분']\n",
    "\n",
    "X_ratio_and_top10_stats_finance_score = df_ratio_top10_finance_score.drop(['사업자등록번호', '결산년월', '업종대분류', '휴폐업구분'], axis=1)\n",
    "y_ratio_and_top10_stats_finance_score = df_ratio_top10_finance_score['휴폐업구분']\n",
    "\n",
    "X_stats_ksg_finance_score = df_ttest_ksg_finance_score.drop(['사업자등록번호', '결산년월', '업종대분류', '휴폐업구분'], axis=1)\n",
    "y_stats_ksg_finance_score = df_ttest_ksg_finance_score['휴폐업구분']\n",
    "\n",
    "X_ratio_stats_ksg_finance_score = df_ratio_ksg_finance_score.drop(['사업자등록번호', '결산년월', '업종대분류', '휴폐업구분'], axis=1)\n",
    "y_ratio_stats_ksg_finance_score = df_ratio_ksg_finance_score['휴폐업구분']\n",
    "\n",
    "X_ratio_and_top10_stats_ksg_finance_score = df_ratio_top10_ksg_finance_score.drop(['사업자등록번호', '결산년월', '업종대분류', '휴폐업구분'], axis=1)\n",
    "y_ratio_and_top10_stats_ksg_finance_score = df_ratio_top10_ksg_finance_score['휴폐업구분']\n",
    "\n",
    "X_stats_statistics_finance_score = df_ttest_statistics_finance_score.drop(['사업자등록번호', '결산년월', '업종대분류', '시도', '년도', '기업수', \n",
    "                            '폐업수', '폐업률', '취업자증감', '실업률', '특허', '가구별소득', '인구수', '전기사용량', '휴폐업구분'], axis=1)\n",
    "y_stats_statistics_finance_score = df_ttest_statistics_finance_score['휴폐업구분']\n",
    "\n",
    "X_ratio_stats_statistics_finance_score = df_ratio_statistics_finance_score.drop(['사업자등록번호', '결산년월', '업종대분류', '시도', '년도', '기업수', \n",
    "                            '폐업수', '폐업률', '취업자증감', '실업률', '특허', '가구별소득', '인구수', '전기사용량', '휴폐업구분'], axis=1)\n",
    "y_ratio_stats_statistics_finance_score = df_ratio_statistics_finance_score['휴폐업구분']\n",
    "\n",
    "X_ratio_and_top10_stats_statistics_finance_score = df_ratio_top10_statistics_finance_score.drop(['사업자등록번호', '결산년월', '업종대분류', '시도', '년도', '기업수', \n",
    "                            '폐업수', '폐업률', '취업자증감', '실업률', '특허', '가구별소득', '인구수', '전기사용량', '휴폐업구분'], axis=1)\n",
    "y_ratio_and_top10_stats_statistics_finance_score = df_ratio_top10_statistics_finance_score['휴폐업구분']\n",
    "\n",
    "X_stats_ksg_statistics_finance_score = df_ttest_ksg_statistics_finance_score.drop(['사업자등록번호', '결산년월', '업종대분류', '시도', '년도', '기업수', \n",
    "                            '폐업수', '폐업률', '취업자증감', '실업률', '특허', '가구별소득', '인구수', '전기사용량', '휴폐업구분'], axis=1)\n",
    "y_stats_ksg_statistics_finance_score = df_ttest_ksg_statistics_finance_score['휴폐업구분']\n",
    "\n",
    "X_ratio_stats_ksg_statistics_finance_score = df_ratio_ksg_statistics_finance_score.drop(['사업자등록번호', '결산년월', '업종대분류', '시도', '년도', '기업수', \n",
    "                            '폐업수', '폐업률', '취업자증감', '실업률', '특허', '가구별소득', '인구수', '전기사용량', '휴폐업구분'], axis=1)\n",
    "y_ratio_stats_ksg_statistics_finance_score = df_ratio_ksg_statistics_finance_score['휴폐업구분']\n",
    "\n",
    "X_ratio_and_top10_stats_ksg_statistics_finance_score = df_ratio_top10_ksg_statistics_finance_score.drop(['사업자등록번호', '결산년월', '업종대분류', '시도', '년도', '기업수', \n",
    "                            '폐업수', '폐업률', '취업자증감', '실업률', '특허', '가구별소득', '인구수', '전기사용량', '휴폐업구분'], axis=1)\n",
    "y_ratio_and_top10_stats_ksg_statistics_finance_score = df_ratio_top10_ksg_statistics_finance_score['휴폐업구분']"
   ]
  },
  {
   "cell_type": "code",
   "execution_count": 121,
   "metadata": {},
   "outputs": [
    {
     "name": "stdout",
     "output_type": "stream",
     "text": [
      "========================T-Test 기본 데이터+재무비율점수===========================\n",
      "훈련 데이터셋의 입력 데이터의 크기: (58364, 96), 타겟값의 크기: (58364,)\n",
      "테스트 데이터셋의 입력 데이터의 크기: (14592, 96), 타겟값의 크기: (14592,)\n",
      "LGBM모델 정확도: 0.9725, 정밀도: 0.8146, 재현율: 0.6061, F1: 0.6951\n",
      "XGB모델 정확도: 0.9734, 정밀도: 0.8222, 재현율: 0.6194, F1: 0.7065\n",
      "RandomForest모델 정확도: 0.9739, 정밀도: 0.8693, 재현율: 0.5822, F1: 0.6974\n",
      "LogisticRegression모델 정확도: 0.9481, 정밀도: 0.3846, 재현율: 0.0066, F1: 0.0130\n",
      "NaiveBayes모델 정확도: 0.9358, 정밀도: 0.0493, 재현율: 0.0133, F1: 0.0209\n",
      "======================T-Test 기본+비율 데이터+재무비율점수=========================\n",
      "훈련 데이터셋의 입력 데이터의 크기: (58364, 102), 타겟값의 크기: (58364,)\n",
      "테스트 데이터셋의 입력 데이터의 크기: (14592, 102), 타겟값의 크기: (14592,)\n",
      "LGBM모델 정확도: 0.9732, 정밀도: 0.8247, 재현율: 0.6114, F1: 0.7022\n",
      "XGB모델 정확도: 0.9739, 정밀도: 0.8278, 재현율: 0.6247, F1: 0.7120\n",
      "RandomForest모델 정확도: 0.9741, 정밀도: 0.8686, 재현율: 0.5875, F1: 0.7009\n",
      "LogisticRegression모델 정확도: 0.9481, 정밀도: 0.3333, 재현율: 0.0053, F1: 0.0104\n",
      "NaiveBayes모델 정확도: 0.9361, 정밀도: 0.0503, 재현율: 0.0133, F1: 0.0210\n",
      "==================T-Test 기본+비율+top10비율 데이터+재무비율점수====================\n",
      "훈련 데이터셋의 입력 데이터의 크기: (58364, 108), 타겟값의 크기: (58364,)\n",
      "테스트 데이터셋의 입력 데이터의 크기: (14592, 108), 타겟값의 크기: (14592,)\n",
      "LGBM모델 정확도: 0.9735, 정밀도: 0.8286, 재현율: 0.6154, F1: 0.7062\n",
      "XGB모델 정확도: 0.9745, 정밀도: 0.8316, 재현율: 0.6353, F1: 0.7203\n",
      "RandomForest모델 정확도: 0.9737, 정밀도: 0.8656, 재현율: 0.5809, F1: 0.6952\n",
      "LogisticRegression모델 정확도: 0.9481, 정밀도: 0.3846, 재현율: 0.0066, F1: 0.0130\n",
      "NaiveBayes모델 정확도: 0.9371, 정밀도: 0.0444, 재현율: 0.0106, F1: 0.0171\n",
      "=======================T-Test 기본 데이터+KSG+재무비율점수==========================\n",
      "훈련 데이터셋의 입력 데이터의 크기: (58364, 107), 타겟값의 크기: (58364,)\n",
      "테스트 데이터셋의 입력 데이터의 크기: (14592, 107), 타겟값의 크기: (14592,)\n",
      "LGBM모델 정확도: 0.9728, 정밀도: 0.8193, 재현율: 0.6074, F1: 0.6976\n",
      "XGB모델 정확도: 0.9735, 정밀도: 0.8251, 재현율: 0.6194, F1: 0.7076\n",
      "RandomForest모델 정확도: 0.9734, 정밀도: 0.8675, 재현율: 0.5729, F1: 0.6901\n",
      "LogisticRegression모델 정확도: 0.9481, 정밀도: 0.3846, 재현율: 0.0066, F1: 0.0130\n",
      "NaiveBayes모델 정확도: 0.9358, 정밀도: 0.0493, 재현율: 0.0133, F1: 0.0209\n",
      "=====================T-Test 기본+비율 데이터+KSG+재무비율점수========================\n",
      "훈련 데이터셋의 입력 데이터의 크기: (58364, 113), 타겟값의 크기: (58364,)\n",
      "테스트 데이터셋의 입력 데이터의 크기: (14592, 113), 타겟값의 크기: (14592,)\n",
      "LGBM모델 정확도: 0.9738, 정밀도: 0.8342, 재현율: 0.6141, F1: 0.7074\n",
      "XGB모델 정확도: 0.9733, 정밀도: 0.8253, 재현율: 0.6141, F1: 0.7042\n",
      "RandomForest모델 정확도: 0.9739, 정밀도: 0.8679, 재현율: 0.5836, F1: 0.6979\n",
      "LogisticRegression모델 정확도: 0.9481, 정밀도: 0.3333, 재현율: 0.0053, F1: 0.0104\n",
      "NaiveBayes모델 정확도: 0.9361, 정밀도: 0.0503, 재현율: 0.0133, F1: 0.0210\n",
      "=================T-Test 기본+비율+top10비율 데이터+KSG+재무비율점수==================\n",
      "훈련 데이터셋의 입력 데이터의 크기: (58364, 119), 타겟값의 크기: (58364,)\n",
      "테스트 데이터셋의 입력 데이터의 크기: (14592, 119), 타겟값의 크기: (14592,)\n",
      "LGBM모델 정확도: 0.9735, 정밀도: 0.8274, 재현율: 0.6167, F1: 0.7067\n",
      "XGB모델 정확도: 0.9740, 정밀도: 0.8224, 재현율: 0.6326, F1: 0.7151\n",
      "RandomForest모델 정확도: 0.9733, 정밀도: 0.8585, 재현율: 0.5796, F1: 0.6920\n",
      "LogisticRegression모델 정확도: 0.9481, 정밀도: 0.3846, 재현율: 0.0066, F1: 0.0130\n",
      "NaiveBayes모델 정확도: 0.9371, 정밀도: 0.0444, 재현율: 0.0106, F1: 0.0171\n",
      "========================T-Test 기본 데이터+통계청+재무비율점수===========================\n",
      "훈련 데이터셋의 입력 데이터의 크기: (58364, 104), 타겟값의 크기: (58364,)\n",
      "테스트 데이터셋의 입력 데이터의 크기: (14592, 104), 타겟값의 크기: (14592,)\n",
      "LGBM모델 정확도: 0.9733, 정밀도: 0.8321, 재현율: 0.6048, F1: 0.7005\n",
      "XGB모델 정확도: 0.9749, 정밀도: 0.8415, 재현율: 0.6340, F1: 0.7231\n",
      "RandomForest모델 정확도: 0.9733, 정밀도: 0.8687, 재현율: 0.5703, F1: 0.6886\n",
      "LogisticRegression모델 정확도: 0.9481, 정밀도: 0.1667, 재현율: 0.0013, F1: 0.0026\n",
      "NaiveBayes모델 정확도: 0.9361, 정밀도: 0.0459, 재현율: 0.0119, F1: 0.0189\n",
      "======================T-Test 기본+비율 데이터+통계청+재무비율점수=========================\n",
      "훈련 데이터셋의 입력 데이터의 크기: (58364, 110), 타겟값의 크기: (58364,)\n",
      "테스트 데이터셋의 입력 데이터의 크기: (14592, 110), 타겟값의 크기: (14592,)\n",
      "LGBM모델 정확도: 0.9740, 정밀도: 0.8339, 재현율: 0.6194, F1: 0.7108\n",
      "XGB모델 정확도: 0.9746, 정밀도: 0.8429, 재현율: 0.6260, F1: 0.7184\n",
      "RandomForest모델 정확도: 0.9737, 정밀도: 0.8671, 재현율: 0.5796, F1: 0.6948\n",
      "LogisticRegression모델 정확도: 0.9481, 정밀도: 0.1667, 재현율: 0.0013, F1: 0.0026\n",
      "NaiveBayes모델 정확도: 0.9362, 정밀도: 0.0508, 재현율: 0.0133, F1: 0.0210\n",
      "==================T-Test 기본+비율+top10비율 데이터+통계청+재무비율점수====================\n",
      "훈련 데이터셋의 입력 데이터의 크기: (58364, 116), 타겟값의 크기: (58364,)\n",
      "테스트 데이터셋의 입력 데이터의 크기: (14592, 116), 타겟값의 크기: (14592,)\n",
      "LGBM모델 정확도: 0.9740, 정밀도: 0.8354, 재현율: 0.6194, F1: 0.7113\n",
      "XGB모델 정확도: 0.9743, 정밀도: 0.8307, 재현율: 0.6313, F1: 0.7174\n",
      "RandomForest모델 정확도: 0.9735, 정밀도: 0.8740, 재현율: 0.5703, F1: 0.6902\n",
      "LogisticRegression모델 정확도: 0.9481, 정밀도: 0.1667, 재현율: 0.0013, F1: 0.0026\n",
      "NaiveBayes모델 정확도: 0.9362, 정밀도: 0.0508, 재현율: 0.0133, F1: 0.0210\n",
      "=======================T-Test 기본 데이터+KSG+통계청+재무비율점수==========================\n",
      "훈련 데이터셋의 입력 데이터의 크기: (58364, 115), 타겟값의 크기: (58364,)\n",
      "테스트 데이터셋의 입력 데이터의 크기: (14592, 115), 타겟값의 크기: (14592,)\n",
      "LGBM모델 정확도: 0.9734, 정밀도: 0.8268, 재현율: 0.6141, F1: 0.7047\n",
      "XGB모델 정확도: 0.9748, 정밀도: 0.8398, 재현율: 0.6326, F1: 0.7216\n",
      "RandomForest모델 정확도: 0.9728, 정밀도: 0.8665, 재현율: 0.5597, F1: 0.6801\n",
      "LogisticRegression모델 정확도: 0.9481, 정밀도: 0.0000, 재현율: 0.0000, F1: 0.0000\n",
      "NaiveBayes모델 정확도: 0.9361, 정밀도: 0.0459, 재현율: 0.0119, F1: 0.0189\n",
      "=====================T-Test 기본+비율 데이터+KSG+통계청+재무비율점수========================\n",
      "훈련 데이터셋의 입력 데이터의 크기: (58364, 121), 타겟값의 크기: (58364,)\n",
      "테스트 데이터셋의 입력 데이터의 크기: (14592, 121), 타겟값의 크기: (14592,)\n",
      "LGBM모델 정확도: 0.9736, 정밀도: 0.8361, 재현율: 0.6088, F1: 0.7045\n",
      "XGB모델 정확도: 0.9742, 정밀도: 0.8256, 재현율: 0.6340, F1: 0.7172\n",
      "RandomForest모델 정확도: 0.9735, 정밀도: 0.8710, 재현율: 0.5729, F1: 0.6912\n",
      "LogisticRegression모델 정확도: 0.9481, 정밀도: 0.2000, 재현율: 0.0013, F1: 0.0026\n",
      "NaiveBayes모델 정확도: 0.9362, 정밀도: 0.0508, 재현율: 0.0133, F1: 0.0210\n",
      "=================T-Test 기본+비율+top10비율 데이터+KSG+통계청+재무비율점수==================\n",
      "훈련 데이터셋의 입력 데이터의 크기: (58364, 127), 타겟값의 크기: (58364,)\n",
      "테스트 데이터셋의 입력 데이터의 크기: (14592, 127), 타겟값의 크기: (14592,)\n",
      "LGBM모델 정확도: 0.9740, 정밀도: 0.8375, 재현율: 0.6154, F1: 0.7095\n",
      "XGB모델 정확도: 0.9740, 정밀도: 0.8258, 재현율: 0.6286, F1: 0.7139\n",
      "RandomForest모델 정확도: 0.9735, 정밀도: 0.8680, 재현율: 0.5756, F1: 0.6922\n",
      "LogisticRegression모델 정확도: 0.9480, 정밀도: 0.1429, 재현율: 0.0013, F1: 0.0026\n",
      "NaiveBayes모델 정확도: 0.9362, 정밀도: 0.0508, 재현율: 0.0133, F1: 0.0210\n"
     ]
    }
   ],
   "source": [
    "print('========================T-Test 기본 데이터+재무비율점수===========================')\n",
    "# 가설검정으로 선정한 데이터\n",
    "X_train, y_train, X_test, y_test = preprocess_and_split_data(X_stats_finance_score , y_stats_finance_score)\n",
    "train_model(X_train, y_train, X_test, y_test)\n",
    "\n",
    "print('======================T-Test 기본+비율 데이터+재무비율점수=========================')\n",
    "# 가설검정으로 선정한 데이터\n",
    "X_train, y_train, X_test, y_test = preprocess_and_split_data(X_ratio_stats_finance_score , y_ratio_stats_finance_score)\n",
    "train_model(X_train, y_train, X_test, y_test)\n",
    "\n",
    "print('==================T-Test 기본+비율+top10비율 데이터+재무비율점수====================')\n",
    "# 가설검정으로 선정한 데이터\n",
    "X_train, y_train, X_test, y_test = preprocess_and_split_data(X_ratio_and_top10_stats_finance_score , y_ratio_and_top10_stats_finance_score)\n",
    "train_model(X_train, y_train, X_test, y_test)\n",
    "\n",
    "print('=======================T-Test 기본 데이터+KSG+재무비율점수==========================')\n",
    "# 가설검정으로 선정한 데이터\n",
    "X_train, y_train, X_test, y_test = preprocess_and_split_data(X_stats_ksg_finance_score , y_stats_ksg_finance_score)\n",
    "train_model(X_train, y_train, X_test, y_test)\n",
    "\n",
    "print('=====================T-Test 기본+비율 데이터+KSG+재무비율점수========================')\n",
    "# 가설검정으로 선정한 데이터\n",
    "X_train, y_train, X_test, y_test = preprocess_and_split_data(X_ratio_stats_ksg_finance_score , y_ratio_stats_ksg_finance_score)\n",
    "train_model(X_train, y_train, X_test, y_test)\n",
    "\n",
    "print('=================T-Test 기본+비율+top10비율 데이터+KSG+재무비율점수==================')\n",
    "# 가설검정으로 선정한 데이터\n",
    "X_train, y_train, X_test, y_test = preprocess_and_split_data(X_ratio_and_top10_stats_ksg_finance_score , y_ratio_and_top10_stats_ksg_finance_score)\n",
    "train_model(X_train, y_train, X_test, y_test)\n",
    "\n",
    "print('========================T-Test 기본 데이터+통계청+재무비율점수===========================')\n",
    "# 가설검정으로 선정한 데이터\n",
    "X_train, y_train, X_test, y_test = preprocess_and_split_data(X_stats_statistics_finance_score , y_stats_statistics_finance_score)\n",
    "train_model(X_train, y_train, X_test, y_test)\n",
    "\n",
    "print('======================T-Test 기본+비율 데이터+통계청+재무비율점수=========================')\n",
    "# 가설검정으로 선정한 데이터\n",
    "X_train, y_train, X_test, y_test = preprocess_and_split_data(X_ratio_stats_statistics_finance_score , y_ratio_stats_statistics_finance_score)\n",
    "train_model(X_train, y_train, X_test, y_test)\n",
    "\n",
    "print('==================T-Test 기본+비율+top10비율 데이터+통계청+재무비율점수====================')\n",
    "# 가설검정으로 선정한 데이터\n",
    "X_train, y_train, X_test, y_test = preprocess_and_split_data(X_ratio_and_top10_stats_statistics_finance_score , y_ratio_and_top10_stats_statistics_finance_score)\n",
    "train_model(X_train, y_train, X_test, y_test)\n",
    "\n",
    "print('=======================T-Test 기본 데이터+KSG+통계청+재무비율점수==========================')\n",
    "# 가설검정으로 선정한 데이터\n",
    "X_train, y_train, X_test, y_test = preprocess_and_split_data(X_stats_ksg_statistics_finance_score , y_stats_ksg_statistics_finance_score)\n",
    "train_model(X_train, y_train, X_test, y_test)\n",
    "\n",
    "print('=====================T-Test 기본+비율 데이터+KSG+통계청+재무비율점수========================')\n",
    "# 가설검정으로 선정한 데이터\n",
    "X_train, y_train, X_test, y_test = preprocess_and_split_data(X_ratio_stats_ksg_statistics_finance_score , y_ratio_stats_ksg_statistics_finance_score)\n",
    "train_model(X_train, y_train, X_test, y_test)\n",
    "\n",
    "print('=================T-Test 기본+비율+top10비율 데이터+KSG+통계청+재무비율점수==================')\n",
    "# 가설검정으로 선정한 데이터\n",
    "X_train, y_train, X_test, y_test = preprocess_and_split_data(X_ratio_and_top10_stats_ksg_statistics_finance_score , y_ratio_and_top10_stats_ksg_statistics_finance_score)\n",
    "train_model(X_train, y_train, X_test, y_test)"
   ]
  },
  {
   "cell_type": "markdown",
   "metadata": {},
   "source": [
    "# 5. 통계청 스코어"
   ]
  },
  {
   "cell_type": "code",
   "execution_count": 122,
   "metadata": {},
   "outputs": [],
   "source": [
    "statistics_score = pd.read_csv('./statistics_score.csv', encoding='cp949')"
   ]
  },
  {
   "cell_type": "code",
   "execution_count": 123,
   "metadata": {},
   "outputs": [],
   "source": [
    "statistics_score = statistics_score[['사업자등록번호', '결산년월', '비재무점수']]"
   ]
  },
  {
   "cell_type": "code",
   "execution_count": 124,
   "metadata": {},
   "outputs": [],
   "source": [
    "statistics_score['사업자등록번호'] = statistics_score['사업자등록번호'].astype(str)\n",
    "statistics_score['결산년월'] = statistics_score['결산년월'].astype(str)"
   ]
  },
  {
   "cell_type": "code",
   "execution_count": 125,
   "metadata": {},
   "outputs": [],
   "source": [
    "df_ttest_statistics_score = pd.merge(df_ttest, statistics_score, on=['사업자등록번호', '결산년월'], how='left')\n",
    "df_ratio_statistics_score = pd.merge(df_basic_ratio, statistics_score, on=['사업자등록번호', '결산년월'], how='left')\n",
    "df_ratio_top10_statistics_score = pd.merge(df_basic_ratio_and_top10, statistics_score, on=['사업자등록번호', '결산년월'], how='left')\n",
    "\n",
    "df_ttest_ksg_statistics_score = pd.merge(df_basic_ttest_ksg, statistics_score, on=['사업자등록번호', '결산년월'], how='left')\n",
    "df_ratio_ksg_statistics_score = pd.merge(df_ratio_ksg, statistics_score, on=['사업자등록번호', '결산년월'], how='left')\n",
    "df_ratio_top10_ksg_statistics_score = pd.merge(df_ratio_top10_ksg, statistics_score, on=['사업자등록번호', '결산년월'], how='left')\n",
    "\n",
    "df_ttest_statistics_statistics_score = pd.merge(df_ttest_statistics, statistics_score, on=['사업자등록번호', '결산년월'], how='left')\n",
    "df_ratio_statistics_statistics_score = pd.merge(df_ratio_statistics, statistics_score, on=['사업자등록번호', '결산년월'], how='left')\n",
    "df_ratio_top10_statistics_statistics_score = pd.merge(df_ratio_top10_statistics, statistics_score, on=['사업자등록번호', '결산년월'], how='left')\n",
    "\n",
    "df_ttest_ksg_statistics_statistics_score = pd.merge(df_ttest_ksg_statistics, statistics_score, on=['사업자등록번호', '결산년월'], how='left')\n",
    "df_ratio_ksg_statistics_statistics_score = pd.merge(df_ratio_ksg_statistics, statistics_score, on=['사업자등록번호', '결산년월'], how='left')\n",
    "df_ratio_top10_ksg_statistics_statistics_score = pd.merge(df_ratio_top10_ksg_statistics, statistics_score, on=['사업자등록번호', '결산년월'], how='left')\n",
    "\n",
    "df_ttest_finance_score_statistics_score = pd.merge(df_ttest_finance_score, statistics_score, on=['사업자등록번호', '결산년월'], how='left')\n",
    "df_ratio_finance_score_statistics_score = pd.merge(df_ratio_finance_score, statistics_score, on=['사업자등록번호', '결산년월'], how='left')\n",
    "df_ratio_top10_finance_score_statistics_score = pd.merge(df_ratio_top10_finance_score, statistics_score, on=['사업자등록번호', '결산년월'], how='left')\n",
    "\n",
    "df_ttest_ksg_finance_score_statistics_score = pd.merge(df_ttest_ksg_finance_score, statistics_score, on=['사업자등록번호', '결산년월'], how='left')\n",
    "df_ratio_ksg_finance_score_statistics_score = pd.merge(df_ratio_ksg_finance_score, statistics_score, on=['사업자등록번호', '결산년월'], how='left')\n",
    "df_ratio_top10_ksg_finance_score_statistics_score = pd.merge(df_ratio_top10_ksg_finance_score, statistics_score, on=['사업자등록번호', '결산년월'], how='left')\n",
    "\n",
    "df_ttest_statistics_finance_score_statistics_score = pd.merge(df_ttest_statistics_finance_score, statistics_score, on=['사업자등록번호', '결산년월'], how='left')\n",
    "df_ratio_statistics_finance_score_statistics_score = pd.merge(df_ratio_statistics_finance_score, statistics_score, on=['사업자등록번호', '결산년월'], how='left')\n",
    "df_ratio_top10_statistics_finance_score_statistics_score = pd.merge(df_ratio_top10_statistics_finance_score, statistics_score, on=['사업자등록번호', '결산년월'], how='left')\n",
    "\n",
    "df_ttest_ksg_statistics_finance_score_statistics_score = pd.merge(df_ttest_ksg_statistics_finance_score, statistics_score, on=['사업자등록번호', '결산년월'], how='left')\n",
    "df_ratio_ksg_statistics_finance_score_statistics_score = pd.merge(df_ratio_ksg_statistics_finance_score, statistics_score, on=['사업자등록번호', '결산년월'], how='left')\n",
    "df_ratio_top10_ksg_statistics_finance_score_statistics_score = pd.merge(df_ratio_top10_ksg_statistics_finance_score, statistics_score, on=['사업자등록번호', '결산년월'], how='left')"
   ]
  },
  {
   "cell_type": "code",
   "execution_count": 126,
   "metadata": {},
   "outputs": [],
   "source": [
    "# 일부 주소가 없는 기업들(검색해도 나오지 않는 기업들) 제거\n",
    "df_ttest_statistics_score.dropna(inplace=True)\n",
    "df_ratio_statistics_score.dropna(inplace=True)\n",
    "df_ratio_top10_statistics_score.dropna(inplace=True)\n",
    "\n",
    "df_ttest_ksg_statistics_score.dropna(inplace=True)\n",
    "df_ratio_ksg_statistics_score.dropna(inplace=True)\n",
    "df_ratio_top10_ksg_statistics_score.dropna(inplace=True)\n",
    "\n",
    "df_ttest_finance_score_statistics_score.dropna(inplace=True)\n",
    "df_ratio_finance_score_statistics_score.dropna(inplace=True)\n",
    "df_ratio_top10_finance_score_statistics_score.dropna(inplace=True)\n",
    "\n",
    "df_ttest_ksg_finance_score_statistics_score.dropna(inplace=True)\n",
    "df_ratio_ksg_finance_score_statistics_score.dropna(inplace=True)\n",
    "df_ratio_top10_ksg_finance_score_statistics_score.dropna(inplace=True)"
   ]
  },
  {
   "cell_type": "code",
   "execution_count": 127,
   "metadata": {},
   "outputs": [],
   "source": [
    "X_stats_statistics_score = df_ttest_statistics_score.drop(['사업자등록번호', '결산년월', '업종대분류', '휴폐업구분'], axis=1)\n",
    "y_stats_statistics_score = df_ttest_statistics_score['휴폐업구분']\n",
    "\n",
    "X_ratio_stats_statistics_score = df_ratio_statistics_score.drop(['사업자등록번호', '결산년월', '업종대분류', '휴폐업구분'], axis=1)\n",
    "y_ratio_stats_statistics_score = df_ratio_statistics_score['휴폐업구분']\n",
    "\n",
    "X_ratio_and_top10_stats_statistics_score = df_ratio_top10_statistics_score.drop(['사업자등록번호', '결산년월', '업종대분류', '휴폐업구분'], axis=1)\n",
    "y_ratio_and_top10_stats_statistics_score = df_ratio_top10_statistics_score['휴폐업구분']\n",
    "\n",
    "X_stats_ksg_statistics_score = df_ttest_ksg_statistics_score.drop(['사업자등록번호', '결산년월', '업종대분류', '휴폐업구분'], axis=1)\n",
    "y_stats_ksg_statistics_score = df_ttest_ksg_statistics_score['휴폐업구분']\n",
    "\n",
    "X_ratio_stats_ksg_statistics_score = df_ratio_ksg_statistics_score.drop(['사업자등록번호', '결산년월', '업종대분류', '휴폐업구분'], axis=1)\n",
    "y_ratio_stats_ksg_statistics_score = df_ratio_ksg_statistics_score['휴폐업구분']\n",
    "\n",
    "X_ratio_and_top10_stats_ksg_statistics_score = df_ratio_top10_ksg_statistics_score.drop(['사업자등록번호', '결산년월', '업종대분류', '휴폐업구분'], axis=1)\n",
    "y_ratio_and_top10_stats_ksg_statistics_score = df_ratio_top10_ksg_statistics_score['휴폐업구분']\n",
    "\n",
    "X_stats_statistics_statistics_score = df_ttest_statistics_statistics_score.drop(['사업자등록번호', '결산년월', '업종대분류', '시도', '년도', '기업수', \n",
    "                            '폐업수', '폐업률', '취업자증감', '실업률', '특허', '가구별소득', '인구수', '전기사용량', '휴폐업구분'], axis=1)\n",
    "y_stats_statistics_statistics_score = df_ttest_statistics_statistics_score['휴폐업구분']\n",
    "\n",
    "X_ratio_stats_statistics_statistics_score = df_ratio_statistics_statistics_score.drop(['사업자등록번호', '결산년월', '업종대분류', '시도', '년도', '기업수', \n",
    "                            '폐업수', '폐업률', '취업자증감', '실업률', '특허', '가구별소득', '인구수', '전기사용량', '휴폐업구분'], axis=1)\n",
    "y_ratio_stats_statistics_statistics_score = df_ratio_statistics_statistics_score['휴폐업구분']\n",
    "\n",
    "X_ratio_and_top10_stats_statistics_statistics_score = df_ratio_top10_statistics_statistics_score.drop(['사업자등록번호', '결산년월', '업종대분류', '시도', '년도', '기업수', \n",
    "                            '폐업수', '폐업률', '취업자증감', '실업률', '특허', '가구별소득', '인구수', '전기사용량', '휴폐업구분'], axis=1)\n",
    "y_ratio_and_top10_stats_statistics_statistics_score = df_ratio_top10_statistics_statistics_score['휴폐업구분']\n",
    "\n",
    "X_stats_ksg_statistics_statistics_score = df_ttest_ksg_statistics_statistics_score.drop(['사업자등록번호', '결산년월', '업종대분류', '시도', '년도', '기업수', \n",
    "                            '폐업수', '폐업률', '취업자증감', '실업률', '특허', '가구별소득', '인구수', '전기사용량', '휴폐업구분'], axis=1)\n",
    "y_stats_ksg_statistics_statistics_score = df_ttest_ksg_statistics_statistics_score['휴폐업구분']\n",
    "\n",
    "X_ratio_stats_ksg_statistics_statistics_score = df_ratio_ksg_statistics_statistics_score.drop(['사업자등록번호', '결산년월', '업종대분류', '시도', '년도', '기업수', \n",
    "                            '폐업수', '폐업률', '취업자증감', '실업률', '특허', '가구별소득', '인구수', '전기사용량', '휴폐업구분'], axis=1)\n",
    "y_ratio_stats_ksg_statistics_statistics_score = df_ratio_ksg_statistics_statistics_score['휴폐업구분']\n",
    "\n",
    "X_ratio_and_top10_stats_ksg_statistics_statistics_score = df_ratio_top10_ksg_statistics_statistics_score.drop(['사업자등록번호', '결산년월', '업종대분류', '시도', '년도', '기업수', \n",
    "                            '폐업수', '폐업률', '취업자증감', '실업률', '특허', '가구별소득', '인구수', '전기사용량', '휴폐업구분'], axis=1)\n",
    "y_ratio_and_top10_stats_ksg_statistics_statistics_score = df_ratio_top10_ksg_statistics_statistics_score['휴폐업구분']\n",
    "\n",
    "X_stats_finance_score_statistics_score = df_ttest_finance_score_statistics_score.drop(['사업자등록번호', '결산년월', '업종대분류', '휴폐업구분'], axis=1)\n",
    "y_stats_finance_score_statistics_score = df_ttest_finance_score_statistics_score['휴폐업구분']\n",
    "\n",
    "X_ratio_stats_finance_score_statistics_score = df_ratio_finance_score_statistics_score.drop(['사업자등록번호', '결산년월', '업종대분류', '휴폐업구분'], axis=1)\n",
    "y_ratio_stats_finance_score_statistics_score = df_ratio_finance_score_statistics_score['휴폐업구분']\n",
    "\n",
    "X_ratio_and_top10_stats_finance_score_statistics_score = df_ratio_top10_finance_score_statistics_score.drop(['사업자등록번호', '결산년월', '업종대분류', '휴폐업구분'], axis=1)\n",
    "y_ratio_and_top10_stats_finance_score_statistics_score = df_ratio_top10_finance_score_statistics_score['휴폐업구분']\n",
    "\n",
    "X_stats_ksg_finance_score_statistics_score = df_ttest_ksg_finance_score_statistics_score.drop(['사업자등록번호', '결산년월', '업종대분류', '휴폐업구분'], axis=1)\n",
    "y_stats_ksg_finance_score_statistics_score = df_ttest_ksg_finance_score_statistics_score['휴폐업구분']\n",
    "\n",
    "X_ratio_stats_ksg_finance_score_statistics_score = df_ratio_ksg_finance_score_statistics_score.drop(['사업자등록번호', '결산년월', '업종대분류', '휴폐업구분'], axis=1)\n",
    "y_ratio_stats_ksg_finance_score_statistics_score = df_ratio_ksg_finance_score_statistics_score['휴폐업구분']\n",
    "\n",
    "X_ratio_and_top10_stats_ksg_finance_score_statistics_score = df_ratio_top10_ksg_finance_score_statistics_score.drop(['사업자등록번호', '결산년월', '업종대분류', '휴폐업구분'], axis=1)\n",
    "y_ratio_and_top10_stats_ksg_finance_score_statistics_score = df_ratio_top10_ksg_finance_score_statistics_score['휴폐업구분']\n",
    "\n",
    "X_stats_statistics_finance_score_statistics_score = df_ttest_statistics_finance_score_statistics_score.drop(['사업자등록번호', '결산년월', '업종대분류', '시도', '년도', '기업수', \n",
    "                            '폐업수', '폐업률', '취업자증감', '실업률', '특허', '가구별소득', '인구수', '전기사용량', '휴폐업구분'], axis=1)\n",
    "y_stats_statistics_finance_score_statistics_score = df_ttest_statistics_finance_score_statistics_score['휴폐업구분']\n",
    "\n",
    "X_ratio_stats_statistics_finance_score_statistics_score = df_ratio_statistics_finance_score_statistics_score.drop(['사업자등록번호', '결산년월', '업종대분류', '시도', '년도', '기업수', \n",
    "                            '폐업수', '폐업률', '취업자증감', '실업률', '특허', '가구별소득', '인구수', '전기사용량', '휴폐업구분'], axis=1)\n",
    "y_ratio_stats_statistics_finance_score_statistics_score = df_ratio_statistics_finance_score_statistics_score['휴폐업구분']\n",
    "\n",
    "X_ratio_and_top10_stats_statistics_finance_score_statistics_score = df_ratio_top10_statistics_finance_score_statistics_score.drop(['사업자등록번호', '결산년월', '업종대분류', '시도', '년도', '기업수', \n",
    "                            '폐업수', '폐업률', '취업자증감', '실업률', '특허', '가구별소득', '인구수', '전기사용량', '휴폐업구분'], axis=1)\n",
    "y_ratio_and_top10_stats_statistics_finance_score_statistics_score = df_ratio_top10_statistics_finance_score_statistics_score['휴폐업구분']\n",
    "\n",
    "X_stats_ksg_statistics_finance_score_statistics_score = df_ttest_ksg_statistics_finance_score_statistics_score.drop(['사업자등록번호', '결산년월', '업종대분류', '시도', '년도', '기업수', \n",
    "                            '폐업수', '폐업률', '취업자증감', '실업률', '특허', '가구별소득', '인구수', '전기사용량', '휴폐업구분'], axis=1)\n",
    "y_stats_ksg_statistics_finance_score_statistics_score = df_ttest_ksg_statistics_finance_score_statistics_score['휴폐업구분']\n",
    "\n",
    "X_ratio_stats_ksg_statistics_finance_score_statistics_score = df_ratio_ksg_statistics_finance_score_statistics_score.drop(['사업자등록번호', '결산년월', '업종대분류', '시도', '년도', '기업수', \n",
    "                            '폐업수', '폐업률', '취업자증감', '실업률', '특허', '가구별소득', '인구수', '전기사용량', '휴폐업구분'], axis=1)\n",
    "y_ratio_stats_ksg_statistics_finance_score_statistics_score = df_ratio_ksg_statistics_finance_score_statistics_score['휴폐업구분']\n",
    "\n",
    "X_ratio_and_top10_stats_ksg_statistics_finance_score_statistics_score = df_ratio_top10_ksg_statistics_finance_score_statistics_score.drop(['사업자등록번호', '결산년월', '업종대분류', '시도', '년도', '기업수', \n",
    "                            '폐업수', '폐업률', '취업자증감', '실업률', '특허', '가구별소득', '인구수', '전기사용량', '휴폐업구분'], axis=1)\n",
    "y_ratio_and_top10_stats_ksg_statistics_finance_score_statistics_score = df_ratio_top10_ksg_statistics_finance_score_statistics_score['휴폐업구분']"
   ]
  },
  {
   "cell_type": "code",
   "execution_count": 128,
   "metadata": {},
   "outputs": [
    {
     "name": "stdout",
     "output_type": "stream",
     "text": [
      "========================T-Test 기본 데이터+비재무점수===========================\n",
      "훈련 데이터셋의 입력 데이터의 크기: (58364, 96), 타겟값의 크기: (58364,)\n",
      "테스트 데이터셋의 입력 데이터의 크기: (14592, 96), 타겟값의 크기: (14592,)\n",
      "LGBM모델 정확도: 0.9731, 정밀도: 0.8229, 재현율: 0.6101, F1: 0.7007\n",
      "XGB모델 정확도: 0.9734, 정밀도: 0.8199, 재현율: 0.6220, F1: 0.7074\n",
      "RandomForest모델 정확도: 0.9737, 정밀도: 0.8730, 재현율: 0.5743, F1: 0.6928\n",
      "LogisticRegression모델 정확도: 0.9481, 정밀도: 0.3333, 재현율: 0.0053, F1: 0.0104\n",
      "NaiveBayes모델 정확도: 0.9358, 정밀도: 0.0493, 재현율: 0.0133, F1: 0.0209\n",
      "======================T-Test 기본+비율 데이터+비재무점수=========================\n",
      "훈련 데이터셋의 입력 데이터의 크기: (58364, 102), 타겟값의 크기: (58364,)\n",
      "테스트 데이터셋의 입력 데이터의 크기: (14592, 102), 타겟값의 크기: (14592,)\n",
      "LGBM모델 정확도: 0.9735, 정밀도: 0.8309, 재현율: 0.6127, F1: 0.7053\n",
      "XGB모델 정확도: 0.9748, 정밀도: 0.8386, 재현율: 0.6340, F1: 0.7221\n",
      "RandomForest모델 정확도: 0.9738, 정밀도: 0.8735, 재현율: 0.5769, F1: 0.6949\n",
      "LogisticRegression모델 정확도: 0.9481, 정밀도: 0.3333, 재현율: 0.0053, F1: 0.0104\n",
      "NaiveBayes모델 정확도: 0.9361, 정밀도: 0.0503, 재현율: 0.0133, F1: 0.0210\n",
      "==================T-Test 기본+비율+top10비율 데이터+비재무점수====================\n",
      "훈련 데이터셋의 입력 데이터의 크기: (58364, 108), 타겟값의 크기: (58364,)\n",
      "테스트 데이터셋의 입력 데이터의 크기: (14592, 108), 타겟값의 크기: (14592,)\n",
      "LGBM모델 정확도: 0.9725, 정밀도: 0.8124, 재현율: 0.6088, F1: 0.6960\n",
      "XGB모델 정확도: 0.9744, 정밀도: 0.8322, 재현율: 0.6313, F1: 0.7179\n",
      "RandomForest모델 정확도: 0.9737, 정밀도: 0.8715, 재현율: 0.5756, F1: 0.6933\n",
      "LogisticRegression모델 정확도: 0.9481, 정밀도: 0.3846, 재현율: 0.0066, F1: 0.0130\n",
      "NaiveBayes모델 정확도: 0.9371, 정밀도: 0.0444, 재현율: 0.0106, F1: 0.0171\n",
      "=======================T-Test 기본 데이터+KSG+비재무점수==========================\n",
      "훈련 데이터셋의 입력 데이터의 크기: (58364, 107), 타겟값의 크기: (58364,)\n",
      "테스트 데이터셋의 입력 데이터의 크기: (14592, 107), 타겟값의 크기: (14592,)\n",
      "LGBM모델 정확도: 0.9734, 정밀도: 0.8339, 재현율: 0.6061, F1: 0.7020\n",
      "XGB모델 정확도: 0.9747, 정밀도: 0.8431, 재현율: 0.6273, F1: 0.7194\n",
      "RandomForest모델 정확도: 0.9744, 정밀도: 0.8785, 재현율: 0.5849, F1: 0.7022\n",
      "LogisticRegression모델 정확도: 0.9481, 정밀도: 0.3333, 재현율: 0.0053, F1: 0.0104\n",
      "NaiveBayes모델 정확도: 0.9358, 정밀도: 0.0493, 재현율: 0.0133, F1: 0.0209\n",
      "=====================T-Test 기본+비율 데이터+KSG+비재무점수========================\n",
      "훈련 데이터셋의 입력 데이터의 크기: (58364, 113), 타겟값의 크기: (58364,)\n",
      "테스트 데이터셋의 입력 데이터의 크기: (14592, 113), 타겟값의 크기: (14592,)\n",
      "LGBM모델 정확도: 0.9736, 정밀도: 0.8312, 재현율: 0.6141, F1: 0.7063\n",
      "XGB모델 정확도: 0.9746, 정밀도: 0.8333, 재현율: 0.6366, F1: 0.7218\n",
      "RandomForest모델 정확도: 0.9736, 정밀도: 0.8697, 재현율: 0.5756, F1: 0.6927\n",
      "LogisticRegression모델 정확도: 0.9481, 정밀도: 0.3333, 재현율: 0.0053, F1: 0.0104\n",
      "NaiveBayes모델 정확도: 0.9361, 정밀도: 0.0503, 재현율: 0.0133, F1: 0.0210\n",
      "=================T-Test 기본+비율+top10비율 데이터+KSG+비재무점수==================\n",
      "훈련 데이터셋의 입력 데이터의 크기: (58364, 119), 타겟값의 크기: (58364,)\n",
      "테스트 데이터셋의 입력 데이터의 크기: (14592, 119), 타겟값의 크기: (14592,)\n",
      "LGBM모델 정확도: 0.9731, 정밀도: 0.8217, 재현율: 0.6114, F1: 0.7011\n",
      "XGB모델 정확도: 0.9740, 정밀도: 0.8295, 재현율: 0.6260, F1: 0.7135\n",
      "RandomForest모델 정확도: 0.9732, 정밀도: 0.8682, 재현율: 0.5676, F1: 0.6864\n",
      "LogisticRegression모델 정확도: 0.9481, 정밀도: 0.3846, 재현율: 0.0066, F1: 0.0130\n",
      "NaiveBayes모델 정확도: 0.9371, 정밀도: 0.0444, 재현율: 0.0106, F1: 0.0171\n",
      "========================T-Test 기본 데이터+지방지표+비재무점수===========================\n",
      "훈련 데이터셋의 입력 데이터의 크기: (58364, 104), 타겟값의 크기: (58364,)\n",
      "테스트 데이터셋의 입력 데이터의 크기: (14592, 104), 타겟값의 크기: (14592,)\n",
      "LGBM모델 정확도: 0.9740, 정밀도: 0.8354, 재현율: 0.6194, F1: 0.7113\n",
      "XGB모델 정확도: 0.9751, 정밀도: 0.8374, 재현율: 0.6419, F1: 0.7267\n",
      "RandomForest모델 정확도: 0.9736, 정밀도: 0.8668, 재현율: 0.5782, F1: 0.6937\n",
      "LogisticRegression모델 정확도: 0.9480, 정밀도: 0.1429, 재현율: 0.0013, F1: 0.0026\n",
      "NaiveBayes모델 정확도: 0.9361, 정밀도: 0.0459, 재현율: 0.0119, F1: 0.0189\n",
      "======================T-Test 기본+비율 데이터+지방지표+비재무점수=========================\n",
      "훈련 데이터셋의 입력 데이터의 크기: (58364, 110), 타겟값의 크기: (58364,)\n",
      "테스트 데이터셋의 입력 데이터의 크기: (14592, 110), 타겟값의 크기: (14592,)\n",
      "LGBM모델 정확도: 0.9733, 정밀도: 0.8265, 재현율: 0.6127, F1: 0.7037\n",
      "XGB모델 정확도: 0.9747, 정밀도: 0.8325, 재현율: 0.6393, F1: 0.7232\n",
      "RandomForest모델 정확도: 0.9735, 정밀도: 0.8634, 재현율: 0.5782, F1: 0.6926\n",
      "LogisticRegression모델 정확도: 0.9480, 정밀도: 0.1429, 재현율: 0.0013, F1: 0.0026\n",
      "NaiveBayes모델 정확도: 0.9362, 정밀도: 0.0508, 재현율: 0.0133, F1: 0.0210\n",
      "==================T-Test 기본+비율+top10비율 데이터+지방지표+비재무점수====================\n",
      "훈련 데이터셋의 입력 데이터의 크기: (58364, 116), 타겟값의 크기: (58364,)\n",
      "테스트 데이터셋의 입력 데이터의 크기: (14592, 116), 타겟값의 크기: (14592,)\n",
      "LGBM모델 정확도: 0.9738, 정밀도: 0.8354, 재현율: 0.6127, F1: 0.7070\n",
      "XGB모델 정확도: 0.9747, 정밀도: 0.8395, 재현율: 0.6313, F1: 0.7207\n",
      "RandomForest모델 정확도: 0.9734, 정밀도: 0.8645, 재현율: 0.5756, F1: 0.6911\n",
      "LogisticRegression모델 정확도: 0.9480, 정밀도: 0.1429, 재현율: 0.0013, F1: 0.0026\n",
      "NaiveBayes모델 정확도: 0.9362, 정밀도: 0.0508, 재현율: 0.0133, F1: 0.0210\n",
      "=======================T-Test 기본 데이터+KSG+지방지표+비재무점수==========================\n",
      "훈련 데이터셋의 입력 데이터의 크기: (58364, 115), 타겟값의 크기: (58364,)\n",
      "테스트 데이터셋의 입력 데이터의 크기: (14592, 115), 타겟값의 크기: (14592,)\n",
      "LGBM모델 정확도: 0.9739, 정밀도: 0.8336, 재현율: 0.6180, F1: 0.7098\n",
      "XGB모델 정확도: 0.9751, 정밀도: 0.8470, 재현율: 0.6313, F1: 0.7234\n",
      "RandomForest모델 정확도: 0.9731, 정밀도: 0.8620, 재현율: 0.5716, F1: 0.6874\n",
      "LogisticRegression모델 정확도: 0.9481, 정밀도: 0.0000, 재현율: 0.0000, F1: 0.0000\n",
      "NaiveBayes모델 정확도: 0.9361, 정밀도: 0.0459, 재현율: 0.0119, F1: 0.0189\n",
      "=====================T-Test 기본+비율 데이터+KSG+지방지표+비재무점수========================\n",
      "훈련 데이터셋의 입력 데이터의 크기: (58364, 121), 타겟값의 크기: (58364,)\n",
      "테스트 데이터셋의 입력 데이터의 크기: (14592, 121), 타겟값의 크기: (14592,)\n",
      "LGBM모델 정확도: 0.9735, 정밀도: 0.8297, 재현율: 0.6141, F1: 0.7058\n",
      "XGB모델 정확도: 0.9746, 정밀도: 0.8380, 재현율: 0.6313, F1: 0.7201\n",
      "RandomForest모델 정확도: 0.9736, 정밀도: 0.8668, 재현율: 0.5782, F1: 0.6937\n",
      "LogisticRegression모델 정확도: 0.9478, 정밀도: 0.1111, 재현율: 0.0013, F1: 0.0026\n",
      "NaiveBayes모델 정확도: 0.9362, 정밀도: 0.0508, 재현율: 0.0133, F1: 0.0210\n",
      "=================T-Test 기본+비율+top10비율 데이터+KSG+지방지표+비재무점수==================\n",
      "훈련 데이터셋의 입력 데이터의 크기: (58364, 127), 타겟값의 크기: (58364,)\n",
      "테스트 데이터셋의 입력 데이터의 크기: (14592, 127), 타겟값의 크기: (14592,)\n",
      "LGBM모델 정확도: 0.9733, 정밀도: 0.8262, 재현율: 0.6114, F1: 0.7027\n",
      "XGB모델 정확도: 0.9738, 정밀도: 0.8275, 재현율: 0.6233, F1: 0.7110\n",
      "RandomForest모델 정확도: 0.9734, 정밀도: 0.8720, 재현율: 0.5690, F1: 0.6886\n",
      "LogisticRegression모델 정확도: 0.9481, 정밀도: 0.1667, 재현율: 0.0013, F1: 0.0026\n",
      "NaiveBayes모델 정확도: 0.9362, 정밀도: 0.0508, 재현율: 0.0133, F1: 0.0210\n",
      "========================T-Test 기본 데이터+재무비율점수+비재무점수===========================\n",
      "훈련 데이터셋의 입력 데이터의 크기: (58364, 97), 타겟값의 크기: (58364,)\n",
      "테스트 데이터셋의 입력 데이터의 크기: (14592, 97), 타겟값의 크기: (14592,)\n",
      "LGBM모델 정확도: 0.9731, 정밀도: 0.8232, 재현율: 0.6114, F1: 0.7017\n",
      "XGB모델 정확도: 0.9748, 정밀도: 0.8462, 재현율: 0.6273, F1: 0.7205\n",
      "RandomForest모델 정확도: 0.9733, 정밀도: 0.8672, 재현율: 0.5716, F1: 0.6890\n",
      "LogisticRegression모델 정확도: 0.9481, 정밀도: 0.3846, 재현율: 0.0066, F1: 0.0130\n",
      "NaiveBayes모델 정확도: 0.9358, 정밀도: 0.0493, 재현율: 0.0133, F1: 0.0209\n",
      "======================T-Test 기본+비율 데이터+재무비율점수+비재무점수=========================\n",
      "훈련 데이터셋의 입력 데이터의 크기: (58364, 103), 타겟값의 크기: (58364,)\n",
      "테스트 데이터셋의 입력 데이터의 크기: (14592, 103), 타겟값의 크기: (14592,)\n",
      "LGBM모델 정확도: 0.9738, 정밀도: 0.8367, 재현율: 0.6114, F1: 0.7065\n",
      "XGB모델 정확도: 0.9747, 정밀도: 0.8407, 재현율: 0.6300, F1: 0.7202\n",
      "RandomForest모델 정확도: 0.9738, 정밀도: 0.8633, 재현율: 0.5862, F1: 0.6983\n",
      "LogisticRegression모델 정확도: 0.9481, 정밀도: 0.3333, 재현율: 0.0053, F1: 0.0104\n",
      "NaiveBayes모델 정확도: 0.9361, 정밀도: 0.0503, 재현율: 0.0133, F1: 0.0210\n",
      "==================T-Test 기본+비율+top10비율 데이터+재무비율점수+비재무점수====================\n",
      "훈련 데이터셋의 입력 데이터의 크기: (58364, 109), 타겟값의 크기: (58364,)\n",
      "테스트 데이터셋의 입력 데이터의 크기: (14592, 109), 타겟값의 크기: (14592,)\n",
      "LGBM모델 정확도: 0.9734, 정밀도: 0.8303, 재현율: 0.6101, F1: 0.7034\n",
      "XGB모델 정확도: 0.9742, 정밀도: 0.8336, 재현율: 0.6247, F1: 0.7142\n",
      "RandomForest모델 정확도: 0.9729, 정밀도: 0.8554, 재현율: 0.5729, F1: 0.6863\n",
      "LogisticRegression모델 정확도: 0.9481, 정밀도: 0.3846, 재현율: 0.0066, F1: 0.0130\n",
      "NaiveBayes모델 정확도: 0.9371, 정밀도: 0.0444, 재현율: 0.0106, F1: 0.0171\n",
      "=======================T-Test 기본 데이터+KSG+재무비율점수+비재무점수==========================\n",
      "훈련 데이터셋의 입력 데이터의 크기: (58364, 108), 타겟값의 크기: (58364,)\n",
      "테스트 데이터셋의 입력 데이터의 크기: (14592, 108), 타겟값의 크기: (14592,)\n",
      "LGBM모델 정확도: 0.9733, 정밀도: 0.8312, 재현율: 0.6074, F1: 0.7019\n",
      "XGB모델 정확도: 0.9742, 정밀도: 0.8304, 재현율: 0.6300, F1: 0.7164\n",
      "RandomForest모델 정확도: 0.9733, 정밀도: 0.8657, 재현율: 0.5729, F1: 0.6895\n",
      "LogisticRegression모델 정확도: 0.9481, 정밀도: 0.3846, 재현율: 0.0066, F1: 0.0130\n",
      "NaiveBayes모델 정확도: 0.9358, 정밀도: 0.0493, 재현율: 0.0133, F1: 0.0209\n",
      "=====================T-Test 기본+비율 데이터+KSG+재무비율점수+비재무점수========================\n",
      "훈련 데이터셋의 입력 데이터의 크기: (58364, 114), 타겟값의 크기: (58364,)\n",
      "테스트 데이터셋의 입력 데이터의 크기: (14592, 114), 타겟값의 크기: (14592,)\n",
      "LGBM모델 정확도: 0.9739, 정밀도: 0.8324, 재현율: 0.6194, F1: 0.7103\n",
      "XGB모델 정확도: 0.9749, 정밀도: 0.8380, 재현율: 0.6379, F1: 0.7244\n",
      "RandomForest모델 정확도: 0.9735, 정밀도: 0.8651, 재현율: 0.5782, F1: 0.6932\n",
      "LogisticRegression모델 정확도: 0.9481, 정밀도: 0.3333, 재현율: 0.0053, F1: 0.0104\n",
      "NaiveBayes모델 정확도: 0.9361, 정밀도: 0.0503, 재현율: 0.0133, F1: 0.0210\n",
      "=================T-Test 기본+비율+top10비율 데이터+KSG+재무비율점수+비재무점수==================\n",
      "훈련 데이터셋의 입력 데이터의 크기: (58364, 120), 타겟값의 크기: (58364,)\n",
      "테스트 데이터셋의 입력 데이터의 크기: (14592, 120), 타겟값의 크기: (14592,)\n",
      "LGBM모델 정확도: 0.9737, 정밀도: 0.8315, 재현율: 0.6154, F1: 0.7073\n",
      "XGB모델 정확도: 0.9736, 정밀도: 0.8220, 재현율: 0.6247, F1: 0.7099\n",
      "RandomForest모델 정확도: 0.9734, 정밀도: 0.8690, 재현율: 0.5716, F1: 0.6896\n",
      "LogisticRegression모델 정확도: 0.9481, 정밀도: 0.3333, 재현율: 0.0053, F1: 0.0104\n",
      "NaiveBayes모델 정확도: 0.9371, 정밀도: 0.0444, 재현율: 0.0106, F1: 0.0171\n",
      "========================T-Test 기본 데이터+지방지표+재무비율점수+비재무점수===========================\n",
      "훈련 데이터셋의 입력 데이터의 크기: (58364, 105), 타겟값의 크기: (58364,)\n",
      "테스트 데이터셋의 입력 데이터의 크기: (14592, 105), 타겟값의 크기: (14592,)\n",
      "LGBM모델 정확도: 0.9734, 정밀도: 0.8245, 재현율: 0.6167, F1: 0.7056\n",
      "XGB모델 정확도: 0.9742, 정밀도: 0.8193, 재현율: 0.6432, F1: 0.7207\n",
      "RandomForest모델 정확도: 0.9733, 정밀도: 0.8657, 재현율: 0.5729, F1: 0.6895\n",
      "LogisticRegression모델 정확도: 0.9481, 정밀도: 0.1667, 재현율: 0.0013, F1: 0.0026\n",
      "NaiveBayes모델 정확도: 0.9361, 정밀도: 0.0459, 재현율: 0.0119, F1: 0.0189\n",
      "======================T-Test 기본+비율 데이터+지방지표+재무비율점수+비재무점수=========================\n",
      "훈련 데이터셋의 입력 데이터의 크기: (58364, 111), 타겟값의 크기: (58364,)\n",
      "테스트 데이터셋의 입력 데이터의 크기: (14592, 111), 타겟값의 크기: (14592,)\n",
      "LGBM모델 정확도: 0.9742, 정밀도: 0.8363, 재현율: 0.6233, F1: 0.7143\n",
      "XGB모델 정확도: 0.9744, 정밀도: 0.8369, 재현율: 0.6260, F1: 0.7162\n",
      "RandomForest모델 정확도: 0.9733, 정밀도: 0.8643, 재현율: 0.5743, F1: 0.6900\n",
      "LogisticRegression모델 정확도: 0.9478, 정밀도: 0.1111, 재현율: 0.0013, F1: 0.0026\n",
      "NaiveBayes모델 정확도: 0.9362, 정밀도: 0.0508, 재현율: 0.0133, F1: 0.0210\n",
      "==================T-Test 기본+비율+top10비율 데이터+지방지표+재무비율점수+비재무점수====================\n",
      "훈련 데이터셋의 입력 데이터의 크기: (58364, 117), 타겟값의 크기: (58364,)\n",
      "테스트 데이터셋의 입력 데이터의 크기: (14592, 117), 타겟값의 크기: (14592,)\n",
      "LGBM모델 정확도: 0.9736, 정밀도: 0.8348, 재현율: 0.6101, F1: 0.7050\n",
      "XGB모델 정확도: 0.9747, 정밀도: 0.8348, 재현율: 0.6366, F1: 0.7223\n",
      "RandomForest모델 정확도: 0.9735, 정밀도: 0.8665, 재현율: 0.5769, F1: 0.6927\n",
      "LogisticRegression모델 정확도: 0.9480, 정밀도: 0.1429, 재현율: 0.0013, F1: 0.0026\n",
      "NaiveBayes모델 정확도: 0.9362, 정밀도: 0.0508, 재현율: 0.0133, F1: 0.0210\n",
      "=======================T-Test 기본 데이터+KSG+지방지표+재무비율점수+비재무점수==========================\n",
      "훈련 데이터셋의 입력 데이터의 크기: (58364, 116), 타겟값의 크기: (58364,)\n",
      "테스트 데이터셋의 입력 데이터의 크기: (14592, 116), 타겟값의 크기: (14592,)\n",
      "LGBM모델 정확도: 0.9739, 정밀도: 0.8410, 재현율: 0.6101, F1: 0.7071\n",
      "XGB모델 정확도: 0.9750, 정밀도: 0.8492, 재현율: 0.6273, F1: 0.7216\n",
      "RandomForest모델 정확도: 0.9733, 정밀도: 0.8684, 재현율: 0.5690, F1: 0.6875\n",
      "LogisticRegression모델 정확도: 0.9480, 정밀도: 0.1429, 재현율: 0.0013, F1: 0.0026\n",
      "NaiveBayes모델 정확도: 0.9361, 정밀도: 0.0459, 재현율: 0.0119, F1: 0.0189\n",
      "=====================T-Test 기본+비율 데이터+KSG+지방지표+재무비율점수+비재무점수========================\n",
      "훈련 데이터셋의 입력 데이터의 크기: (58364, 122), 타겟값의 크기: (58364,)\n",
      "테스트 데이터셋의 입력 데이터의 크기: (14592, 122), 타겟값의 크기: (14592,)\n",
      "LGBM모델 정확도: 0.9734, 정밀도: 0.8256, 재현율: 0.6154, F1: 0.7052\n",
      "XGB모델 정확도: 0.9748, 정밀도: 0.8425, 재현율: 0.6313, F1: 0.7218\n",
      "RandomForest모델 정확도: 0.9731, 정밀도: 0.8620, 재현율: 0.5716, F1: 0.6874\n",
      "LogisticRegression모델 정확도: 0.9480, 정밀도: 0.1429, 재현율: 0.0013, F1: 0.0026\n",
      "NaiveBayes모델 정확도: 0.9362, 정밀도: 0.0508, 재현율: 0.0133, F1: 0.0210\n",
      "=================T-Test 기본+비율+top10비율 데이터+KSG+지방지표+재무비율점수+비재무점수==================\n",
      "훈련 데이터셋의 입력 데이터의 크기: (58364, 128), 타겟값의 크기: (58364,)\n",
      "테스트 데이터셋의 입력 데이터의 크기: (14592, 128), 타겟값의 크기: (14592,)\n",
      "LGBM모델 정확도: 0.9743, 정밀도: 0.8414, 재현율: 0.6194, F1: 0.7135\n",
      "XGB모델 정확도: 0.9749, 정밀도: 0.8404, 재현율: 0.6353, F1: 0.7236\n",
      "RandomForest모델 정확도: 0.9735, 정밀도: 0.8692, 재현율: 0.5729, F1: 0.6906\n",
      "LogisticRegression모델 정확도: 0.9480, 정밀도: 0.1429, 재현율: 0.0013, F1: 0.0026\n",
      "NaiveBayes모델 정확도: 0.9362, 정밀도: 0.0508, 재현율: 0.0133, F1: 0.0210\n"
     ]
    }
   ],
   "source": [
    "print('========================T-Test 기본 데이터+비재무점수===========================')\n",
    "# 가설검정으로 선정한 데이터\n",
    "X_train, y_train, X_test, y_test = preprocess_and_split_data(X_stats_statistics_score  , y_stats_statistics_score )\n",
    "train_model(X_train, y_train, X_test, y_test)\n",
    "\n",
    "print('======================T-Test 기본+비율 데이터+비재무점수=========================')\n",
    "# 가설검정으로 선정한 데이터\n",
    "X_train, y_train, X_test, y_test = preprocess_and_split_data(X_ratio_stats_statistics_score  , y_ratio_stats_statistics_score )\n",
    "train_model(X_train, y_train, X_test, y_test)\n",
    "\n",
    "print('==================T-Test 기본+비율+top10비율 데이터+비재무점수====================')\n",
    "# 가설검정으로 선정한 데이터\n",
    "X_train, y_train, X_test, y_test = preprocess_and_split_data(X_ratio_and_top10_stats_statistics_score  , y_ratio_and_top10_stats_statistics_score )\n",
    "train_model(X_train, y_train, X_test, y_test)\n",
    "\n",
    "print('=======================T-Test 기본 데이터+KSG+비재무점수==========================')\n",
    "# 가설검정으로 선정한 데이터\n",
    "X_train, y_train, X_test, y_test = preprocess_and_split_data(X_stats_ksg_statistics_score  , y_stats_ksg_statistics_score )\n",
    "train_model(X_train, y_train, X_test, y_test)\n",
    "\n",
    "print('=====================T-Test 기본+비율 데이터+KSG+비재무점수========================')\n",
    "# 가설검정으로 선정한 데이터\n",
    "X_train, y_train, X_test, y_test = preprocess_and_split_data(X_ratio_stats_ksg_statistics_score  , y_ratio_stats_ksg_statistics_score )\n",
    "train_model(X_train, y_train, X_test, y_test)\n",
    "\n",
    "print('=================T-Test 기본+비율+top10비율 데이터+KSG+비재무점수==================')\n",
    "# 가설검정으로 선정한 데이터\n",
    "X_train, y_train, X_test, y_test = preprocess_and_split_data(X_ratio_and_top10_stats_ksg_statistics_score  , y_ratio_and_top10_stats_ksg_statistics_score )\n",
    "train_model(X_train, y_train, X_test, y_test)\n",
    "\n",
    "print('========================T-Test 기본 데이터+지방지표+비재무점수===========================')\n",
    "# 가설검정으로 선정한 데이터\n",
    "X_train, y_train, X_test, y_test = preprocess_and_split_data(X_stats_statistics_statistics_score  , y_stats_statistics_statistics_score )\n",
    "train_model(X_train, y_train, X_test, y_test)\n",
    "\n",
    "print('======================T-Test 기본+비율 데이터+지방지표+비재무점수=========================')\n",
    "# 가설검정으로 선정한 데이터\n",
    "X_train, y_train, X_test, y_test = preprocess_and_split_data(X_ratio_stats_statistics_statistics_score  , y_ratio_stats_statistics_statistics_score )\n",
    "train_model(X_train, y_train, X_test, y_test)\n",
    "\n",
    "print('==================T-Test 기본+비율+top10비율 데이터+지방지표+비재무점수====================')\n",
    "# 가설검정으로 선정한 데이터\n",
    "X_train, y_train, X_test, y_test = preprocess_and_split_data(X_ratio_and_top10_stats_statistics_statistics_score  , y_ratio_and_top10_stats_statistics_statistics_score )\n",
    "train_model(X_train, y_train, X_test, y_test)\n",
    "\n",
    "print('=======================T-Test 기본 데이터+KSG+지방지표+비재무점수==========================')\n",
    "# 가설검정으로 선정한 데이터\n",
    "X_train, y_train, X_test, y_test = preprocess_and_split_data(X_stats_ksg_statistics_statistics_score  , y_stats_ksg_statistics_statistics_score )\n",
    "train_model(X_train, y_train, X_test, y_test)\n",
    "\n",
    "print('=====================T-Test 기본+비율 데이터+KSG+지방지표+비재무점수========================')\n",
    "# 가설검정으로 선정한 데이터\n",
    "X_train, y_train, X_test, y_test = preprocess_and_split_data(X_ratio_stats_ksg_statistics_statistics_score  , y_ratio_stats_ksg_statistics_statistics_score )\n",
    "train_model(X_train, y_train, X_test, y_test)\n",
    "\n",
    "print('=================T-Test 기본+비율+top10비율 데이터+KSG+지방지표+비재무점수==================')\n",
    "# 가설검정으로 선정한 데이터\n",
    "X_train, y_train, X_test, y_test = preprocess_and_split_data(X_ratio_and_top10_stats_ksg_statistics_statistics_score  , y_ratio_and_top10_stats_ksg_statistics_statistics_score )\n",
    "train_model(X_train, y_train, X_test, y_test)\n",
    "\n",
    "print('========================T-Test 기본 데이터+재무비율점수+비재무점수===========================')\n",
    "# 가설검정으로 선정한 데이터\n",
    "X_train, y_train, X_test, y_test = preprocess_and_split_data(X_stats_finance_score_statistics_score  , y_stats_finance_score_statistics_score )\n",
    "train_model(X_train, y_train, X_test, y_test)\n",
    "\n",
    "print('======================T-Test 기본+비율 데이터+재무비율점수+비재무점수=========================')\n",
    "# 가설검정으로 선정한 데이터\n",
    "X_train, y_train, X_test, y_test = preprocess_and_split_data(X_ratio_stats_finance_score_statistics_score  , y_ratio_stats_finance_score_statistics_score )\n",
    "train_model(X_train, y_train, X_test, y_test)\n",
    "\n",
    "print('==================T-Test 기본+비율+top10비율 데이터+재무비율점수+비재무점수====================')\n",
    "# 가설검정으로 선정한 데이터\n",
    "X_train, y_train, X_test, y_test = preprocess_and_split_data(X_ratio_and_top10_stats_finance_score_statistics_score  , y_ratio_and_top10_stats_finance_score_statistics_score  )\n",
    "train_model(X_train, y_train, X_test, y_test)\n",
    "\n",
    "print('=======================T-Test 기본 데이터+KSG+재무비율점수+비재무점수==========================')\n",
    "# 가설검정으로 선정한 데이터\n",
    "X_train, y_train, X_test, y_test = preprocess_and_split_data(X_stats_ksg_finance_score_statistics_score  , y_stats_ksg_finance_score_statistics_score )\n",
    "train_model(X_train, y_train, X_test, y_test)\n",
    "\n",
    "print('=====================T-Test 기본+비율 데이터+KSG+재무비율점수+비재무점수========================')\n",
    "# 가설검정으로 선정한 데이터\n",
    "X_train, y_train, X_test, y_test = preprocess_and_split_data(X_ratio_stats_ksg_finance_score_statistics_score  , y_ratio_stats_ksg_finance_score_statistics_score )\n",
    "train_model(X_train, y_train, X_test, y_test)\n",
    "\n",
    "print('=================T-Test 기본+비율+top10비율 데이터+KSG+재무비율점수+비재무점수==================')\n",
    "# 가설검정으로 선정한 데이터\n",
    "X_train, y_train, X_test, y_test = preprocess_and_split_data(X_ratio_and_top10_stats_ksg_finance_score_statistics_score  , y_ratio_and_top10_stats_ksg_finance_score_statistics_score )\n",
    "train_model(X_train, y_train, X_test, y_test)\n",
    "\n",
    "print('========================T-Test 기본 데이터+지방지표+재무비율점수+비재무점수===========================')\n",
    "# 가설검정으로 선정한 데이터\n",
    "X_train, y_train, X_test, y_test = preprocess_and_split_data(X_stats_statistics_finance_score_statistics_score  , y_stats_statistics_finance_score_statistics_score )\n",
    "train_model(X_train, y_train, X_test, y_test)\n",
    "\n",
    "print('======================T-Test 기본+비율 데이터+지방지표+재무비율점수+비재무점수=========================')\n",
    "# 가설검정으로 선정한 데이터\n",
    "X_train, y_train, X_test, y_test = preprocess_and_split_data(X_ratio_stats_statistics_finance_score_statistics_score  , y_ratio_stats_statistics_finance_score_statistics_score )\n",
    "train_model(X_train, y_train, X_test, y_test)\n",
    "\n",
    "print('==================T-Test 기본+비율+top10비율 데이터+지방지표+재무비율점수+비재무점수====================')\n",
    "# 가설검정으로 선정한 데이터\n",
    "X_train, y_train, X_test, y_test = preprocess_and_split_data(X_ratio_and_top10_stats_statistics_finance_score_statistics_score  , y_ratio_and_top10_stats_statistics_finance_score_statistics_score )\n",
    "train_model(X_train, y_train, X_test, y_test)\n",
    "\n",
    "print('=======================T-Test 기본 데이터+KSG+지방지표+재무비율점수+비재무점수==========================')\n",
    "# 가설검정으로 선정한 데이터\n",
    "X_train, y_train, X_test, y_test = preprocess_and_split_data(X_stats_ksg_statistics_finance_score_statistics_score  , y_stats_ksg_statistics_finance_score_statistics_score )\n",
    "train_model(X_train, y_train, X_test, y_test)\n",
    "\n",
    "print('=====================T-Test 기본+비율 데이터+KSG+지방지표+재무비율점수+비재무점수========================')\n",
    "# 가설검정으로 선정한 데이터\n",
    "X_train, y_train, X_test, y_test = preprocess_and_split_data(X_ratio_stats_ksg_statistics_finance_score_statistics_score  , y_ratio_stats_ksg_statistics_finance_score_statistics_score )\n",
    "train_model(X_train, y_train, X_test, y_test)\n",
    "\n",
    "print('=================T-Test 기본+비율+top10비율 데이터+KSG+지방지표+재무비율점수+비재무점수==================')\n",
    "# 가설검정으로 선정한 데이터\n",
    "X_train, y_train, X_test, y_test = preprocess_and_split_data(X_ratio_and_top10_stats_ksg_statistics_finance_score_statistics_score  , y_ratio_and_top10_stats_ksg_statistics_finance_score_statistics_score )\n",
    "train_model(X_train, y_train, X_test, y_test)"
   ]
  }
 ],
 "metadata": {
  "kernelspec": {
   "display_name": "Python 3.8.13 ('cabta')",
   "language": "python",
   "name": "python3"
  },
  "language_info": {
   "codemirror_mode": {
    "name": "ipython",
    "version": 3
   },
   "file_extension": ".py",
   "mimetype": "text/x-python",
   "name": "python",
   "nbconvert_exporter": "python",
   "pygments_lexer": "ipython3",
   "version": "3.8.13"
  },
  "orig_nbformat": 4,
  "vscode": {
   "interpreter": {
    "hash": "a063b7be1b1d22be0fca1b26cf478769b2ebdd8896aff1eef11b858cbacfa39b"
   }
  }
 },
 "nbformat": 4,
 "nbformat_minor": 2
}
