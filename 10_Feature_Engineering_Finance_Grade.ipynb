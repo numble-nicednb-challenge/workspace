{
 "cells": [
  {
   "cell_type": "markdown",
   "metadata": {},
   "source": [
    "# KSK지표"
   ]
  },
  {
   "cell_type": "markdown",
   "metadata": {},
   "source": [
    "- 기업의 성장률이 휴폐업에 영향을 끼친다고 판단하였다.\n",
    "- 새롭게 파생 변수들을 기반으로 지표를 만들고자 한다."
   ]
  },
  {
   "cell_type": "markdown",
   "metadata": {},
   "source": [
    "# 필요한 라이브러리 불러오기"
   ]
  },
  {
   "cell_type": "code",
   "execution_count": 52,
   "metadata": {},
   "outputs": [],
   "source": [
    "import pandas as pd\n",
    "import numpy as np\n",
    "import seaborn as sns\n",
    "import matplotlib.pyplot as plt\n",
    "sns.set(font_scale=0.8)\n",
    "plt.rcParams['font.family'] = 'Malgun Gothic'"
   ]
  },
  {
   "cell_type": "markdown",
   "metadata": {},
   "source": [
    "# 1. 데이터 불러오기"
   ]
  },
  {
   "cell_type": "code",
   "execution_count": 53,
   "metadata": {},
   "outputs": [],
   "source": [
    "main = pd.read_csv('./custom_data/finance_address_indurstry.csv')\n",
    "df  = pd.read_csv('./custom_data/active_closed_all.csv', encoding='cp949')\n",
    "magic = pd.merge(main, df[['사업자등록번호', '휴폐업구분']], how='left', on='사업자등록번호')\n",
    "industry = magic[['사업자등록번호','결산년월','업종대분류','업종중분류','시도','시군구']]\n",
    "target = magic[['휴폐업구분']]"
   ]
  },
  {
   "cell_type": "markdown",
   "metadata": {},
   "source": [
    "# 2. 새롭게 생성한 변수"
   ]
  },
  {
   "cell_type": "markdown",
   "metadata": {},
   "source": [
    "\n",
    "- 총자본 증가율\n",
    "- 영업이익 증가율\n",
    "- 당기순이익증가율\n",
    "- 자기자본증가율\n",
    "- 매출액 증가율\n",
    "- 매출총이익률\n",
    "- 매출영업이익률\n",
    "- 매출액경상이익률\n",
    "- 매출액순이익률\n",
    "- 총자산영업이익률\n",
    "- 자기자본영엉이익률\n",
    "- 금융비용부담률\n",
    "- 수지비율\n",
    "- 사내비율 대 자기자본비율\n",
    "- 총자산순이익률\n",
    "- 총자산회전율\n",
    "- 자기자본회전율\n",
    "- 타인자본회전율\n",
    "- 유동자산회전율\n",
    "- 재고자산회전율\n",
    "- 당좌자산회전율\n",
    "- 순운전자본회전율\n",
    "- 운전자본회전율\n",
    "- 유보율\n",
    "- 자기자본비율\n",
    "- 유동비율\n",
    "- 당좌비율\n",
    "- 재고자산 대 순운전자본비율\n",
    "- 매출채권 대 매입채무비율\n"
   ]
  },
  {
   "cell_type": "markdown",
   "metadata": {},
   "source": [
    "## 2.1 성장성"
   ]
  },
  {
   "cell_type": "markdown",
   "metadata": {},
   "source": [
    "- 당기순이익증가율\n",
    "- 영업이익증가율\n",
    "- 자기자본증가율\n",
    "- 총자본증가율\n",
    "- 매출액증가율  "
   ]
  },
  {
   "cell_type": "markdown",
   "metadata": {},
   "source": [
    "## 2.2. 수익성"
   ]
  },
  {
   "cell_type": "markdown",
   "metadata": {},
   "source": [
    "- 총자산영업이익률\n",
    "- 총자산순이익률\n",
    "- 자기자본영업이익률\n",
    "- 자기자본순이익률\n",
    "- 사내유보대자기자본비율\n",
    "- 매출액경상이익률\n",
    "- 매출액순이익률\n",
    "- 매출액영업이익률\n",
    "- 매출액총이익률\n",
    "- 수지비율\n",
    "- 금융비율부담율"
   ]
  },
  {
   "cell_type": "markdown",
   "metadata": {},
   "source": [
    "## 2.3. 활동성"
   ]
  },
  {
   "cell_type": "markdown",
   "metadata": {},
   "source": [
    "- 순운전자본회전율\n",
    "- 타인자본회전율\n",
    "- 총자본회전율\n",
    "- 자기자본회전율\n",
    "- 당좌자산회전율\n",
    "- 유동자산회전율\n",
    "- 운전자본회전율\n",
    "- 재고자산회전율"
   ]
  },
  {
   "cell_type": "markdown",
   "metadata": {},
   "source": [
    "## 2.4. 생산성"
   ]
  },
  {
   "cell_type": "markdown",
   "metadata": {},
   "source": [
    "- 유보율"
   ]
  },
  {
   "cell_type": "markdown",
   "metadata": {},
   "source": [
    "## 2.5. 안정성"
   ]
  },
  {
   "cell_type": "markdown",
   "metadata": {},
   "source": [
    "- 자기자본비율\n",
    "- 당좌비율     \n",
    "- 유동비율\n",
    "- 재고자산대순운전자본비율\n",
    "- 매출채권대매입채무비율\n"
   ]
  },
  {
   "cell_type": "markdown",
   "metadata": {},
   "source": [
    "# 3. KSG 지표"
   ]
  },
  {
   "cell_type": "markdown",
   "metadata": {},
   "source": [
    "## 3.1. 26개의 컬럼을 사용하여 만든 KSG지표\n",
    "- 평균치의 상위 40 프로 이상인 컬럼이 24개 이상이면 SSS\n",
    "- 평균치의 상위 40 프로 이상인 컬럼이 22개 이상이면 SS\n",
    "- 평균치의 상위 40 프로 이상인 컬럼이 20개 이상이면 S\n",
    "- 평균치의 상위 40 프로 이상인 컬럼이 18개 이상이면 AAA\n",
    "- 평균치의 상위 40 프로 이상인 컬럼이 16개 이상이면 AA\n",
    "- 평균치의 상위 40 프로 이상인 컬럼이 14개 이상이면 A\n",
    "- 평균치의 상위 40 프로 이상인 컬럼이 11개 이상이면 B\n",
    "- 평균치의 상위 40 프로 이상인 컬럼이 9개 이상이면 C\n",
    "- 평균치의 상위 40 프로 이상인 컬럼이 7개 이상이면 D\n",
    "- 평균치의 상위 40 프로 이상인 컬럼이 5개 이상이면 E\n",
    "- 평균치의 상위 40 프로 이상인 컬럼이 5개 이하면 F"
   ]
  },
  {
   "cell_type": "markdown",
   "metadata": {},
   "source": [
    "## 3.2. 사용할 피처들 저장"
   ]
  },
  {
   "cell_type": "code",
   "execution_count": 54,
   "metadata": {},
   "outputs": [],
   "source": [
    "Total = magic[['당기순이익증가율','영업이익증가율','자기자본증가율','총자본증가율','매출액증가율','총자산영업이익률','총자산순이익률','자기자본영업이익률',\n",
    "'자기자본순이익률','매출액경상이익률','매출액순이익률','매출액영업이익률','매출총이익률',\n",
    "'순운전자본회전율','타인자본회전율','총자본회전율','자기자본회전율','당좌자산회전율','유동자산회전율','운전자본회전율','재고자산회전율',\n",
    "'자기자본비율','당좌비율','유동비율','재고자산대순운전자본비율','매출채권대매입채무비율']]"
   ]
  },
  {
   "cell_type": "markdown",
   "metadata": {},
   "source": [
    "## 3.3. 컬럼별 상위 40프로에 해당하는 기업 카운트"
   ]
  },
  {
   "cell_type": "code",
   "execution_count": 55,
   "metadata": {},
   "outputs": [
    {
     "name": "stderr",
     "output_type": "stream",
     "text": [
      "C:\\Users\\ASUS\\AppData\\Local\\Temp\\ipykernel_9328\\4018145520.py:1: SettingWithCopyWarning: \n",
      "A value is trying to be set on a copy of a slice from a DataFrame.\n",
      "Try using .loc[row_indexer,col_indexer] = value instead\n",
      "\n",
      "See the caveats in the documentation: https://pandas.pydata.org/pandas-docs/stable/user_guide/indexing.html#returning-a-view-versus-a-copy\n",
      "  Total['count'] = 0\n"
     ]
    }
   ],
   "source": [
    "Total['count'] = 0\n",
    "for column in Total.columns:\n",
    "    quantile_60 = Total[column].quantile(0.5)\n",
    "    Total.loc[Total[column] >= quantile_60, 'count'] += 1"
   ]
  },
  {
   "cell_type": "markdown",
   "metadata": {},
   "source": [
    "## 3.4. 등급 나누기"
   ]
  },
  {
   "cell_type": "code",
   "execution_count": 56,
   "metadata": {},
   "outputs": [
    {
     "name": "stderr",
     "output_type": "stream",
     "text": [
      "C:\\Users\\ASUS\\AppData\\Local\\Temp\\ipykernel_9328\\1160833498.py:12: SettingWithCopyWarning: \n",
      "A value is trying to be set on a copy of a slice from a DataFrame\n",
      "\n",
      "See the caveats in the documentation: https://pandas.pydata.org/pandas-docs/stable/user_guide/indexing.html#returning-a-view-versus-a-copy\n",
      "  Total['count'].loc[i] = 'AA'\n",
      "C:\\Users\\ASUS\\AppData\\Local\\Temp\\ipykernel_9328\\1160833498.py:14: SettingWithCopyWarning: \n",
      "A value is trying to be set on a copy of a slice from a DataFrame\n",
      "\n",
      "See the caveats in the documentation: https://pandas.pydata.org/pandas-docs/stable/user_guide/indexing.html#returning-a-view-versus-a-copy\n",
      "  Total['count'].loc[i] = 'A'\n",
      "C:\\Users\\ASUS\\AppData\\Local\\Temp\\ipykernel_9328\\1160833498.py:22: SettingWithCopyWarning: \n",
      "A value is trying to be set on a copy of a slice from a DataFrame\n",
      "\n",
      "See the caveats in the documentation: https://pandas.pydata.org/pandas-docs/stable/user_guide/indexing.html#returning-a-view-versus-a-copy\n",
      "  Total['count'].loc[i] = 'E'\n",
      "C:\\Users\\ASUS\\AppData\\Local\\Temp\\ipykernel_9328\\1160833498.py:24: SettingWithCopyWarning: \n",
      "A value is trying to be set on a copy of a slice from a DataFrame\n",
      "\n",
      "See the caveats in the documentation: https://pandas.pydata.org/pandas-docs/stable/user_guide/indexing.html#returning-a-view-versus-a-copy\n",
      "  Total['count'].loc[i] = 'F'\n",
      "C:\\Users\\ASUS\\AppData\\Local\\Temp\\ipykernel_9328\\1160833498.py:16: SettingWithCopyWarning: \n",
      "A value is trying to be set on a copy of a slice from a DataFrame\n",
      "\n",
      "See the caveats in the documentation: https://pandas.pydata.org/pandas-docs/stable/user_guide/indexing.html#returning-a-view-versus-a-copy\n",
      "  Total['count'].loc[i] = 'B'\n",
      "C:\\Users\\ASUS\\AppData\\Local\\Temp\\ipykernel_9328\\1160833498.py:20: SettingWithCopyWarning: \n",
      "A value is trying to be set on a copy of a slice from a DataFrame\n",
      "\n",
      "See the caveats in the documentation: https://pandas.pydata.org/pandas-docs/stable/user_guide/indexing.html#returning-a-view-versus-a-copy\n",
      "  Total['count'].loc[i] = 'D'\n",
      "C:\\Users\\ASUS\\AppData\\Local\\Temp\\ipykernel_9328\\1160833498.py:6: SettingWithCopyWarning: \n",
      "A value is trying to be set on a copy of a slice from a DataFrame\n",
      "\n",
      "See the caveats in the documentation: https://pandas.pydata.org/pandas-docs/stable/user_guide/indexing.html#returning-a-view-versus-a-copy\n",
      "  Total['count'].loc[i] = 'SS'\n",
      "C:\\Users\\ASUS\\AppData\\Local\\Temp\\ipykernel_9328\\1160833498.py:8: SettingWithCopyWarning: \n",
      "A value is trying to be set on a copy of a slice from a DataFrame\n",
      "\n",
      "See the caveats in the documentation: https://pandas.pydata.org/pandas-docs/stable/user_guide/indexing.html#returning-a-view-versus-a-copy\n",
      "  Total['count'].loc[i] = 'S'\n",
      "C:\\Users\\ASUS\\AppData\\Local\\Temp\\ipykernel_9328\\1160833498.py:18: SettingWithCopyWarning: \n",
      "A value is trying to be set on a copy of a slice from a DataFrame\n",
      "\n",
      "See the caveats in the documentation: https://pandas.pydata.org/pandas-docs/stable/user_guide/indexing.html#returning-a-view-versus-a-copy\n",
      "  Total['count'].loc[i] = 'C'\n",
      "C:\\Users\\ASUS\\AppData\\Local\\Temp\\ipykernel_9328\\1160833498.py:10: SettingWithCopyWarning: \n",
      "A value is trying to be set on a copy of a slice from a DataFrame\n",
      "\n",
      "See the caveats in the documentation: https://pandas.pydata.org/pandas-docs/stable/user_guide/indexing.html#returning-a-view-versus-a-copy\n",
      "  Total['count'].loc[i] = 'AAA'\n",
      "C:\\Users\\ASUS\\AppData\\Local\\Temp\\ipykernel_9328\\1160833498.py:4: SettingWithCopyWarning: \n",
      "A value is trying to be set on a copy of a slice from a DataFrame\n",
      "\n",
      "See the caveats in the documentation: https://pandas.pydata.org/pandas-docs/stable/user_guide/indexing.html#returning-a-view-versus-a-copy\n",
      "  Total['count'].loc[i] = 'SSS'\n"
     ]
    }
   ],
   "source": [
    "for i in range(0,len(Total['count'])):\n",
    "\n",
    "    if Total['count'].loc[i] >= 24 :\n",
    "        Total['count'].loc[i] = 'SSS'\n",
    "    elif Total['count'].loc[i] >= 22 :\n",
    "        Total['count'].loc[i] = 'SS'\n",
    "    elif Total['count'].loc[i] >= 20 :\n",
    "        Total['count'].loc[i] = 'S'\n",
    "    elif Total['count'].loc[i] >= 18 :\n",
    "        Total['count'].loc[i] = 'AAA'\n",
    "    elif Total['count'].loc[i] >= 16 :\n",
    "        Total['count'].loc[i] = 'AA'\n",
    "    elif Total['count'].loc[i] >= 14 :\n",
    "        Total['count'].loc[i] = 'A'\n",
    "    elif Total['count'].loc[i] >= 11 :\n",
    "        Total['count'].loc[i] = 'B'\n",
    "    elif Total['count'].loc[i] >= 9 :\n",
    "        Total['count'].loc[i] = 'C'\n",
    "    elif Total['count'].loc[i] >= 7 :\n",
    "        Total['count'].loc[i] = 'D'\n",
    "    elif Total['count'].loc[i] >= 5 :\n",
    "        Total['count'].loc[i] = 'E'\n",
    "    else:\n",
    "        Total['count'].loc[i] = 'F'"
   ]
  },
  {
   "cell_type": "markdown",
   "metadata": {},
   "source": [
    "## 3.5. 타겟값과 등급 concat"
   ]
  },
  {
   "cell_type": "code",
   "execution_count": 57,
   "metadata": {},
   "outputs": [],
   "source": [
    "Total = pd.concat([target,Total['count']],axis=1)"
   ]
  },
  {
   "cell_type": "code",
   "execution_count": 58,
   "metadata": {},
   "outputs": [
    {
     "data": {
      "text/html": [
       "<div>\n",
       "<style scoped>\n",
       "    .dataframe tbody tr th:only-of-type {\n",
       "        vertical-align: middle;\n",
       "    }\n",
       "\n",
       "    .dataframe tbody tr th {\n",
       "        vertical-align: top;\n",
       "    }\n",
       "\n",
       "    .dataframe thead th {\n",
       "        text-align: right;\n",
       "    }\n",
       "</style>\n",
       "<table border=\"1\" class=\"dataframe\">\n",
       "  <thead>\n",
       "    <tr style=\"text-align: right;\">\n",
       "      <th></th>\n",
       "      <th>휴폐업구분</th>\n",
       "      <th>count</th>\n",
       "    </tr>\n",
       "  </thead>\n",
       "  <tbody>\n",
       "    <tr>\n",
       "      <th>0</th>\n",
       "      <td>NaN</td>\n",
       "      <td>AA</td>\n",
       "    </tr>\n",
       "    <tr>\n",
       "      <th>1</th>\n",
       "      <td>NaN</td>\n",
       "      <td>AA</td>\n",
       "    </tr>\n",
       "    <tr>\n",
       "      <th>2</th>\n",
       "      <td>NaN</td>\n",
       "      <td>A</td>\n",
       "    </tr>\n",
       "    <tr>\n",
       "      <th>3</th>\n",
       "      <td>NaN</td>\n",
       "      <td>E</td>\n",
       "    </tr>\n",
       "    <tr>\n",
       "      <th>4</th>\n",
       "      <td>NaN</td>\n",
       "      <td>F</td>\n",
       "    </tr>\n",
       "    <tr>\n",
       "      <th>...</th>\n",
       "      <td>...</td>\n",
       "      <td>...</td>\n",
       "    </tr>\n",
       "    <tr>\n",
       "      <th>77345</th>\n",
       "      <td>NaN</td>\n",
       "      <td>SS</td>\n",
       "    </tr>\n",
       "    <tr>\n",
       "      <th>77346</th>\n",
       "      <td>NaN</td>\n",
       "      <td>C</td>\n",
       "    </tr>\n",
       "    <tr>\n",
       "      <th>77347</th>\n",
       "      <td>NaN</td>\n",
       "      <td>F</td>\n",
       "    </tr>\n",
       "    <tr>\n",
       "      <th>77348</th>\n",
       "      <td>NaN</td>\n",
       "      <td>F</td>\n",
       "    </tr>\n",
       "    <tr>\n",
       "      <th>77349</th>\n",
       "      <td>NaN</td>\n",
       "      <td>F</td>\n",
       "    </tr>\n",
       "  </tbody>\n",
       "</table>\n",
       "<p>77350 rows × 2 columns</p>\n",
       "</div>"
      ],
      "text/plain": [
       "      휴폐업구분 count\n",
       "0       NaN    AA\n",
       "1       NaN    AA\n",
       "2       NaN     A\n",
       "3       NaN     E\n",
       "4       NaN     F\n",
       "...     ...   ...\n",
       "77345   NaN    SS\n",
       "77346   NaN     C\n",
       "77347   NaN     F\n",
       "77348   NaN     F\n",
       "77349   NaN     F\n",
       "\n",
       "[77350 rows x 2 columns]"
      ]
     },
     "execution_count": 58,
     "metadata": {},
     "output_type": "execute_result"
    }
   ],
   "source": [
    "Total"
   ]
  },
  {
   "cell_type": "code",
   "execution_count": 59,
   "metadata": {},
   "outputs": [],
   "source": [
    "als = pd.concat([industry,Total],axis=1)"
   ]
  },
  {
   "cell_type": "code",
   "execution_count": 60,
   "metadata": {},
   "outputs": [],
   "source": [
    "count_list = ['F', 'E', 'D','C', 'B',  'A', 'AA','AAA', 'S','SS', 'SSS'  ]\n",
    "temp_list=[]\n",
    "for i in count_list:\n",
    "    temp = len(als.query(f'count==\"{i}\"'))\n",
    "    temp_list.append(temp)"
   ]
  },
  {
   "cell_type": "markdown",
   "metadata": {},
   "source": [
    "# 4. 등급과 폐업의 비율 확인"
   ]
  },
  {
   "cell_type": "code",
   "execution_count": 62,
   "metadata": {},
   "outputs": [],
   "source": [
    "def KSK(x):\n",
    "    rank_list = ['SSS','SS','S','AAA','AA','A','B','C','D','E','F']\n",
    "    list_1=[]\n",
    "    list_2=[]\n",
    "    for i in rank_list:\n",
    "        try:\n",
    "            temp1 = round((x.query(f'count == \"{i}\"')['휴폐업구분'].value_counts()[0]/len(x))*100,3)\n",
    "            temp2 = round((x.query(f'count == \"{i}\"')['휴폐업구분'].value_counts()[0]/len(x.query(f'count == \"{i}\"')['휴폐업구분']))*100,3)\n",
    "            list_1.append(temp1)\n",
    "            list_2.append(temp2)\n",
    "        except:\n",
    "            print(f'{i}해당 등급은 없습니다')\n",
    "    return list_1,list_2\n",
    "Total_1,Total_2 = KSK(Total)\n",
    "Total_df1 = pd.DataFrame(Total_1,index=['SSS','SS','S','AAA','AA','A','B','C','D','E','F'],columns=['전체'])\n",
    "Total_df2 = pd.DataFrame(Total_2,index=['SSS','SS','S','AAA','AA','A','B','C','D','E','F'],columns=['전체'])"
   ]
  },
  {
   "cell_type": "markdown",
   "metadata": {},
   "source": [
    "## 4.1. 각 등급의 폐업 수 / 전체 기업의 비율"
   ]
  },
  {
   "cell_type": "code",
   "execution_count": 63,
   "metadata": {},
   "outputs": [
    {
     "data": {
      "text/plain": [
       "[0.274, 0.343, 0.433, 0.399, 0.379, 0.412, 0.636, 0.336, 0.715, 0.643, 0.573]"
      ]
     },
     "execution_count": 63,
     "metadata": {},
     "output_type": "execute_result"
    }
   ],
   "source": [
    "Total_df1['전체'].to_list()"
   ]
  },
  {
   "cell_type": "code",
   "execution_count": 64,
   "metadata": {},
   "outputs": [
    {
     "data": {
      "text/html": [
       "<div>\n",
       "<style scoped>\n",
       "    .dataframe tbody tr th:only-of-type {\n",
       "        vertical-align: middle;\n",
       "    }\n",
       "\n",
       "    .dataframe tbody tr th {\n",
       "        vertical-align: top;\n",
       "    }\n",
       "\n",
       "    .dataframe thead th {\n",
       "        text-align: right;\n",
       "    }\n",
       "</style>\n",
       "<table border=\"1\" class=\"dataframe\">\n",
       "  <thead>\n",
       "    <tr style=\"text-align: right;\">\n",
       "      <th></th>\n",
       "      <th>전체</th>\n",
       "    </tr>\n",
       "  </thead>\n",
       "  <tbody>\n",
       "    <tr>\n",
       "      <th>SSS</th>\n",
       "      <td>0.274</td>\n",
       "    </tr>\n",
       "    <tr>\n",
       "      <th>SS</th>\n",
       "      <td>0.343</td>\n",
       "    </tr>\n",
       "    <tr>\n",
       "      <th>S</th>\n",
       "      <td>0.433</td>\n",
       "    </tr>\n",
       "    <tr>\n",
       "      <th>AAA</th>\n",
       "      <td>0.399</td>\n",
       "    </tr>\n",
       "    <tr>\n",
       "      <th>AA</th>\n",
       "      <td>0.379</td>\n",
       "    </tr>\n",
       "    <tr>\n",
       "      <th>A</th>\n",
       "      <td>0.412</td>\n",
       "    </tr>\n",
       "    <tr>\n",
       "      <th>B</th>\n",
       "      <td>0.636</td>\n",
       "    </tr>\n",
       "    <tr>\n",
       "      <th>C</th>\n",
       "      <td>0.336</td>\n",
       "    </tr>\n",
       "    <tr>\n",
       "      <th>D</th>\n",
       "      <td>0.715</td>\n",
       "    </tr>\n",
       "    <tr>\n",
       "      <th>E</th>\n",
       "      <td>0.643</td>\n",
       "    </tr>\n",
       "    <tr>\n",
       "      <th>F</th>\n",
       "      <td>0.573</td>\n",
       "    </tr>\n",
       "  </tbody>\n",
       "</table>\n",
       "</div>"
      ],
      "text/plain": [
       "        전체\n",
       "SSS  0.274\n",
       "SS   0.343\n",
       "S    0.433\n",
       "AAA  0.399\n",
       "AA   0.379\n",
       "A    0.412\n",
       "B    0.636\n",
       "C    0.336\n",
       "D    0.715\n",
       "E    0.643\n",
       "F    0.573"
      ]
     },
     "execution_count": 64,
     "metadata": {},
     "output_type": "execute_result"
    }
   ],
   "source": [
    "Total_df1"
   ]
  },
  {
   "cell_type": "markdown",
   "metadata": {},
   "source": [
    "## 4.2. 각 등급의 폐업 수 / 해당 등급의 기업 수"
   ]
  },
  {
   "cell_type": "code",
   "execution_count": 49,
   "metadata": {},
   "outputs": [
    {
     "data": {
      "text/plain": [
       "[3.77, 4.535, 4.823, 4.289, 4.118, 4.421, 6.305, 6.17, 5.87, 5.897, 5.619]"
      ]
     },
     "execution_count": 49,
     "metadata": {},
     "output_type": "execute_result"
    }
   ],
   "source": [
    "Total_df2['전체'].to_list()"
   ]
  },
  {
   "cell_type": "code",
   "execution_count": 65,
   "metadata": {},
   "outputs": [
    {
     "data": {
      "text/html": [
       "<div>\n",
       "<style scoped>\n",
       "    .dataframe tbody tr th:only-of-type {\n",
       "        vertical-align: middle;\n",
       "    }\n",
       "\n",
       "    .dataframe tbody tr th {\n",
       "        vertical-align: top;\n",
       "    }\n",
       "\n",
       "    .dataframe thead th {\n",
       "        text-align: right;\n",
       "    }\n",
       "</style>\n",
       "<table border=\"1\" class=\"dataframe\">\n",
       "  <thead>\n",
       "    <tr style=\"text-align: right;\">\n",
       "      <th></th>\n",
       "      <th>전체</th>\n",
       "    </tr>\n",
       "  </thead>\n",
       "  <tbody>\n",
       "    <tr>\n",
       "      <th>SSS</th>\n",
       "      <td>3.770</td>\n",
       "    </tr>\n",
       "    <tr>\n",
       "      <th>SS</th>\n",
       "      <td>4.535</td>\n",
       "    </tr>\n",
       "    <tr>\n",
       "      <th>S</th>\n",
       "      <td>4.823</td>\n",
       "    </tr>\n",
       "    <tr>\n",
       "      <th>AAA</th>\n",
       "      <td>4.289</td>\n",
       "    </tr>\n",
       "    <tr>\n",
       "      <th>AA</th>\n",
       "      <td>4.118</td>\n",
       "    </tr>\n",
       "    <tr>\n",
       "      <th>A</th>\n",
       "      <td>4.421</td>\n",
       "    </tr>\n",
       "    <tr>\n",
       "      <th>B</th>\n",
       "      <td>6.305</td>\n",
       "    </tr>\n",
       "    <tr>\n",
       "      <th>C</th>\n",
       "      <td>6.168</td>\n",
       "    </tr>\n",
       "    <tr>\n",
       "      <th>D</th>\n",
       "      <td>6.046</td>\n",
       "    </tr>\n",
       "    <tr>\n",
       "      <th>E</th>\n",
       "      <td>6.134</td>\n",
       "    </tr>\n",
       "    <tr>\n",
       "      <th>F</th>\n",
       "      <td>5.444</td>\n",
       "    </tr>\n",
       "  </tbody>\n",
       "</table>\n",
       "</div>"
      ],
      "text/plain": [
       "        전체\n",
       "SSS  3.770\n",
       "SS   4.535\n",
       "S    4.823\n",
       "AAA  4.289\n",
       "AA   4.118\n",
       "A    4.421\n",
       "B    6.305\n",
       "C    6.168\n",
       "D    6.046\n",
       "E    6.134\n",
       "F    5.444"
      ]
     },
     "execution_count": 65,
     "metadata": {},
     "output_type": "execute_result"
    }
   ],
   "source": [
    "Total_df2"
   ]
  },
  {
   "cell_type": "markdown",
   "metadata": {},
   "source": [
    "## 4.3. 확인결과\n",
    "- F ~ SSS 등급으로 갈수록 더 낮은 폐업률을 보였기 때문에\n",
    "- 타겟값 (휴,폐업)을 예측에 도움이 될것이라 판단한다."
   ]
  }
 ],
 "metadata": {
  "kernelspec": {
   "display_name": "Python 3.8.13 ('cabta')",
   "language": "python",
   "name": "python3"
  },
  "language_info": {
   "codemirror_mode": {
    "name": "ipython",
    "version": 3
   },
   "file_extension": ".py",
   "mimetype": "text/x-python",
   "name": "python",
   "nbconvert_exporter": "python",
   "pygments_lexer": "ipython3",
   "version": "3.8.13"
  },
  "orig_nbformat": 4,
  "vscode": {
   "interpreter": {
    "hash": "a063b7be1b1d22be0fca1b26cf478769b2ebdd8896aff1eef11b858cbacfa39b"
   }
  }
 },
 "nbformat": 4,
 "nbformat_minor": 2
}
