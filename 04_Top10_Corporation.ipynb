{
 "cells": [
  {
   "cell_type": "markdown",
   "metadata": {},
   "source": [
    "## 연도별 업종대분류를 기준으로 top10기업을 구하기\n",
    "- top10 선정 기준은 총자산순이익률\n",
    "    - 총자산이익률 = 당기순이익 / 총자산"
   ]
  },
  {
   "cell_type": "markdown",
   "metadata": {},
   "source": [
    "# 1. 필요한 라이브러리 불러오기"
   ]
  },
  {
   "cell_type": "code",
   "execution_count": 3,
   "metadata": {},
   "outputs": [],
   "source": [
    "import pandas as pd\n",
    "import numpy as np\n",
    "\n",
    "import warnings\n",
    "warnings.filterwarnings('ignore')"
   ]
  },
  {
   "cell_type": "markdown",
   "metadata": {},
   "source": [
    "# 2. 데이터 불러오기"
   ]
  },
  {
   "cell_type": "code",
   "execution_count": 4,
   "metadata": {},
   "outputs": [],
   "source": [
    "df = pd.read_csv('./custom_data/feature_engineering_idurstry_code.csv', encoding='cp949')"
   ]
  },
  {
   "cell_type": "code",
   "execution_count": 5,
   "metadata": {},
   "outputs": [
    {
     "data": {
      "text/plain": [
       "(109142, 79)"
      ]
     },
     "execution_count": 5,
     "metadata": {},
     "output_type": "execute_result"
    }
   ],
   "source": [
    "df.shape"
   ]
  },
  {
   "cell_type": "code",
   "execution_count": 6,
   "metadata": {},
   "outputs": [
    {
     "data": {
      "text/plain": [
       "Index(['사업자등록번호', '결산년월', '유동자산', '매출채권', '비유동자산', '유형자산', '자산총계', '유동부채',\n",
       "       '비유동부채', '부  채  총  계', '자본금', '이익잉여금(결손금）', '자본총계', '매출액', '판매비와관리비',\n",
       "       '영업이익（손실）', '법인세비용차감전순손익', '법인세비용', '당기순이익(손실)', '기업순이익률(%)',\n",
       "       '유보액/총자산(%)', '유보액/납입자본(%)', '매출액총이익률(%)', '매출액영업이익률(%)', '매출액순이익률(%)',\n",
       "       '수지비율(%)', '경상수지비율', '영업비율(%)', '금융비용대매출액비율(%', '금융비용대부채비율(%)',\n",
       "       '금융비용대총비용비율(%', '부채비율(%)', '차입금의존도(%)', '자기자본비율(%)', '순운전자본비율(%)',\n",
       "       '유동부채비율(%)', '비유동부채비율(%)', '부채총계대 매출액(%)', '총자본회전율(회)', '재고자산회전율(회)',\n",
       "       '매출채권회전율(회)', '매입채무회전율(회)', '미수금', '매출원가', '무형자산', '재고자산', '기업접두명',\n",
       "       '기업명', '기업접미명', '기업영문명', '업종', '기업규모', '공기업구분 1.공기업 2.일반기업',\n",
       "       '개인법인구분 1.법인 2.개인', '본점지점구분 1.본점 2.지점', '국외투자법인여부', '벤처기업여부', '상장코드',\n",
       "       '산업코드차수', '산업코드1', '산업코드2', '산업코드3', '공공기관유형', '중견기업보호여부', '본점기업코드',\n",
       "       '설립일자', '설립구분', '상장일자', '주요사업내용', '국가명', '홈페이지URL', '대표자명', '직원수',\n",
       "       '종료일자', '시작일자', '휴폐업구분', '상태발생일자', '업종중분류', '업종대분류'],\n",
       "      dtype='object')"
      ]
     },
     "execution_count": 6,
     "metadata": {},
     "output_type": "execute_result"
    }
   ],
   "source": [
    "df.columns"
   ]
  },
  {
   "cell_type": "markdown",
   "metadata": {},
   "source": [
    "# 3. 총자산이익률 계산하기"
   ]
  },
  {
   "cell_type": "markdown",
   "metadata": {},
   "source": [
    "## 3.1. 계산 전 특이사항"
   ]
  },
  {
   "cell_type": "code",
   "execution_count": 7,
   "metadata": {},
   "outputs": [
    {
     "data": {
      "text/html": [
       "<div>\n",
       "<style scoped>\n",
       "    .dataframe tbody tr th:only-of-type {\n",
       "        vertical-align: middle;\n",
       "    }\n",
       "\n",
       "    .dataframe tbody tr th {\n",
       "        vertical-align: top;\n",
       "    }\n",
       "\n",
       "    .dataframe thead th {\n",
       "        text-align: right;\n",
       "    }\n",
       "</style>\n",
       "<table border=\"1\" class=\"dataframe\">\n",
       "  <thead>\n",
       "    <tr style=\"text-align: right;\">\n",
       "      <th></th>\n",
       "      <th>결산년월</th>\n",
       "      <th>자산총계</th>\n",
       "      <th>당기순이익(손실)</th>\n",
       "      <th>기업명</th>\n",
       "      <th>휴폐업구분</th>\n",
       "      <th>상태발생일자</th>\n",
       "    </tr>\n",
       "  </thead>\n",
       "  <tbody>\n",
       "    <tr>\n",
       "      <th>75303</th>\n",
       "      <td>20181231</td>\n",
       "      <td>15860687.0</td>\n",
       "      <td>-1948774.0</td>\n",
       "      <td>유앤에스에셋</td>\n",
       "      <td>폐업</td>\n",
       "      <td>20201031.0</td>\n",
       "    </tr>\n",
       "    <tr>\n",
       "      <th>75304</th>\n",
       "      <td>20191231</td>\n",
       "      <td>79172.0</td>\n",
       "      <td>6901133.0</td>\n",
       "      <td>유앤에스에셋</td>\n",
       "      <td>폐업</td>\n",
       "      <td>20201031.0</td>\n",
       "    </tr>\n",
       "  </tbody>\n",
       "</table>\n",
       "</div>"
      ],
      "text/plain": [
       "           결산년월        자산총계  당기순이익(손실)     기업명 휴폐업구분      상태발생일자\n",
       "75303  20181231  15860687.0 -1948774.0  유앤에스에셋    폐업  20201031.0\n",
       "75304  20191231     79172.0  6901133.0  유앤에스에셋    폐업  20201031.0"
      ]
     },
     "execution_count": 7,
     "metadata": {},
     "output_type": "execute_result"
    }
   ],
   "source": [
    "df.loc[df['사업자등록번호'] == 4168194212][['결산년월', '자산총계', '당기순이익(손실)', '기업명', '휴폐업구분', '상태발생일자']]"
   ]
  },
  {
   "cell_type": "code",
   "execution_count": 8,
   "metadata": {},
   "outputs": [
    {
     "data": {
      "text/html": [
       "<div>\n",
       "<style scoped>\n",
       "    .dataframe tbody tr th:only-of-type {\n",
       "        vertical-align: middle;\n",
       "    }\n",
       "\n",
       "    .dataframe tbody tr th {\n",
       "        vertical-align: top;\n",
       "    }\n",
       "\n",
       "    .dataframe thead th {\n",
       "        text-align: right;\n",
       "    }\n",
       "</style>\n",
       "<table border=\"1\" class=\"dataframe\">\n",
       "  <thead>\n",
       "    <tr style=\"text-align: right;\">\n",
       "      <th></th>\n",
       "      <th>결산년월</th>\n",
       "      <th>자산총계</th>\n",
       "      <th>당기순이익(손실)</th>\n",
       "      <th>기업명</th>\n",
       "      <th>휴폐업구분</th>\n",
       "      <th>상태발생일자</th>\n",
       "    </tr>\n",
       "  </thead>\n",
       "  <tbody>\n",
       "    <tr>\n",
       "      <th>102872</th>\n",
       "      <td>20181231</td>\n",
       "      <td>10130378.0</td>\n",
       "      <td>-539965.0</td>\n",
       "      <td>동양팰리스</td>\n",
       "      <td>폐업</td>\n",
       "      <td>20210205.0</td>\n",
       "    </tr>\n",
       "    <tr>\n",
       "      <th>102873</th>\n",
       "      <td>20191231</td>\n",
       "      <td>30011.0</td>\n",
       "      <td>995130.0</td>\n",
       "      <td>동양팰리스</td>\n",
       "      <td>폐업</td>\n",
       "      <td>20210205.0</td>\n",
       "    </tr>\n",
       "  </tbody>\n",
       "</table>\n",
       "</div>"
      ],
      "text/plain": [
       "            결산년월        자산총계  당기순이익(손실)    기업명 휴폐업구분      상태발생일자\n",
       "102872  20181231  10130378.0  -539965.0  동양팰리스    폐업  20210205.0\n",
       "102873  20191231     30011.0   995130.0  동양팰리스    폐업  20210205.0"
      ]
     },
     "execution_count": 8,
     "metadata": {},
     "output_type": "execute_result"
    }
   ],
   "source": [
    "df.loc[df['사업자등록번호'] == 6498800195][['결산년월', '자산총계', '당기순이익(손실)', '기업명', '휴폐업구분', '상태발생일자']]"
   ]
  },
  {
   "cell_type": "markdown",
   "metadata": {},
   "source": [
    "- 폐업한 기업의 경우 폐업 전에 청산의 이유로 자산이 심하게 줄고 당기순이익이 급상승하는 패턴을 보이는 기업이 있다.\n",
    "- 따라서 추후 총자산순이익율의 상위 10개를 구할 때는 폐업하지 않은 기업으로 범위를 좁힌다."
   ]
  },
  {
   "cell_type": "markdown",
   "metadata": {},
   "source": [
    "## 3.2. 계산을 위해 새로운 데이터프레임 만들기"
   ]
  },
  {
   "cell_type": "code",
   "execution_count": 9,
   "metadata": {},
   "outputs": [],
   "source": [
    "# 필요한 피처만 가져오기\n",
    "df_split = df[['사업자등록번호', '결산년월', '자산총계', '당기순이익(손실)', '기업명', '업종대분류', '휴폐업구분']]"
   ]
  },
  {
   "cell_type": "code",
   "execution_count": 10,
   "metadata": {},
   "outputs": [],
   "source": [
    "# 정수형으로 되어있는 결산년월에서 연도 추출하기\n",
    "def pop_year(value):\n",
    "    return str(value)[:4]\n",
    "\n",
    "df_split['년도'] = df_split['결산년월'].apply(pop_year)"
   ]
  },
  {
   "cell_type": "code",
   "execution_count": 11,
   "metadata": {},
   "outputs": [],
   "source": [
    "# 자산총계와 당기순이익의 결측치는 0으로 보간\n",
    "df_split.fillna(0, inplace=True)"
   ]
  },
  {
   "cell_type": "code",
   "execution_count": 12,
   "metadata": {},
   "outputs": [],
   "source": [
    "# 공식에 따른 총자산순이익률 계산\n",
    "df_split['총자산순이익률'] = df_split['당기순이익(손실)'] / df_split['자산총계']"
   ]
  },
  {
   "cell_type": "code",
   "execution_count": 13,
   "metadata": {},
   "outputs": [
    {
     "data": {
      "text/html": [
       "<div>\n",
       "<style scoped>\n",
       "    .dataframe tbody tr th:only-of-type {\n",
       "        vertical-align: middle;\n",
       "    }\n",
       "\n",
       "    .dataframe tbody tr th {\n",
       "        vertical-align: top;\n",
       "    }\n",
       "\n",
       "    .dataframe thead th {\n",
       "        text-align: right;\n",
       "    }\n",
       "</style>\n",
       "<table border=\"1\" class=\"dataframe\">\n",
       "  <thead>\n",
       "    <tr style=\"text-align: right;\">\n",
       "      <th></th>\n",
       "      <th>사업자등록번호</th>\n",
       "      <th>결산년월</th>\n",
       "      <th>자산총계</th>\n",
       "      <th>당기순이익(손실)</th>\n",
       "      <th>기업명</th>\n",
       "      <th>업종대분류</th>\n",
       "      <th>휴폐업구분</th>\n",
       "      <th>년도</th>\n",
       "      <th>총자산순이익률</th>\n",
       "    </tr>\n",
       "  </thead>\n",
       "  <tbody>\n",
       "    <tr>\n",
       "      <th>0</th>\n",
       "      <td>1018100340</td>\n",
       "      <td>20181231</td>\n",
       "      <td>35014174.0</td>\n",
       "      <td>2509182.0</td>\n",
       "      <td>대일건설</td>\n",
       "      <td>부동산업</td>\n",
       "      <td>0</td>\n",
       "      <td>2018</td>\n",
       "      <td>0.071662</td>\n",
       "    </tr>\n",
       "    <tr>\n",
       "      <th>1</th>\n",
       "      <td>1018100340</td>\n",
       "      <td>20191231</td>\n",
       "      <td>36320470.0</td>\n",
       "      <td>2733421.0</td>\n",
       "      <td>대일건설</td>\n",
       "      <td>부동산업</td>\n",
       "      <td>0</td>\n",
       "      <td>2019</td>\n",
       "      <td>0.075258</td>\n",
       "    </tr>\n",
       "    <tr>\n",
       "      <th>2</th>\n",
       "      <td>1018100340</td>\n",
       "      <td>20201231</td>\n",
       "      <td>40601940.0</td>\n",
       "      <td>3406757.0</td>\n",
       "      <td>대일건설</td>\n",
       "      <td>부동산업</td>\n",
       "      <td>0</td>\n",
       "      <td>2020</td>\n",
       "      <td>0.083906</td>\n",
       "    </tr>\n",
       "    <tr>\n",
       "      <th>3</th>\n",
       "      <td>1018100340</td>\n",
       "      <td>20211231</td>\n",
       "      <td>38310842.0</td>\n",
       "      <td>3823473.0</td>\n",
       "      <td>대일건설</td>\n",
       "      <td>부동산업</td>\n",
       "      <td>0</td>\n",
       "      <td>2021</td>\n",
       "      <td>0.099801</td>\n",
       "    </tr>\n",
       "    <tr>\n",
       "      <th>4</th>\n",
       "      <td>1018100772</td>\n",
       "      <td>20181231</td>\n",
       "      <td>20792242.0</td>\n",
       "      <td>20159.0</td>\n",
       "      <td>쎈츄럴관광호텔</td>\n",
       "      <td>숙박 및 음식점업</td>\n",
       "      <td>0</td>\n",
       "      <td>2018</td>\n",
       "      <td>0.000970</td>\n",
       "    </tr>\n",
       "  </tbody>\n",
       "</table>\n",
       "</div>"
      ],
      "text/plain": [
       "      사업자등록번호      결산년월        자산총계  당기순이익(손실)      기업명      업종대분류 휴폐업구분  \\\n",
       "0  1018100340  20181231  35014174.0  2509182.0     대일건설       부동산업     0   \n",
       "1  1018100340  20191231  36320470.0  2733421.0     대일건설       부동산업     0   \n",
       "2  1018100340  20201231  40601940.0  3406757.0     대일건설       부동산업     0   \n",
       "3  1018100340  20211231  38310842.0  3823473.0     대일건설       부동산업     0   \n",
       "4  1018100772  20181231  20792242.0    20159.0  쎈츄럴관광호텔  숙박 및 음식점업     0   \n",
       "\n",
       "     년도   총자산순이익률  \n",
       "0  2018  0.071662  \n",
       "1  2019  0.075258  \n",
       "2  2020  0.083906  \n",
       "3  2021  0.099801  \n",
       "4  2018  0.000970  "
      ]
     },
     "execution_count": 13,
     "metadata": {},
     "output_type": "execute_result"
    }
   ],
   "source": [
    "df_split.head()"
   ]
  },
  {
   "cell_type": "code",
   "execution_count": 14,
   "metadata": {},
   "outputs": [
    {
     "data": {
      "text/plain": [
       "제조업                         44009\n",
       "도매 및 소매업                    16734\n",
       "부동산업                        13767\n",
       "건설업                          9541\n",
       "정보통신업                        4295\n",
       "전문, 과학 및 기술 서비스업             4157\n",
       "운수 및 창고업                     3876\n",
       "사업시설 관리, 사업 지원 및 임대 서비스업     3696\n",
       "금융 및 보험업                     2316\n",
       "숙박 및 음식점업                    1937\n",
       "예술, 스포츠 및 여가관련 서비스업          1681\n",
       "수도, 하수 및 폐기물 처리, 원료 재생업      1158\n",
       "협회 및 단체, 수리 및 기타 개인 서비스업      797\n",
       "전기, 가스, 증기 및 공기 조절 공급업        580\n",
       "교육 서비스업                       497\n",
       "보건업 및 사회복지 서비스업                80\n",
       "공공 행정, 국방 및 사회보장 행정            16\n",
       "농업, 임업 및 어업                     5\n",
       "Name: 업종대분류, dtype: int64"
      ]
     },
     "execution_count": 14,
     "metadata": {},
     "output_type": "execute_result"
    }
   ],
   "source": [
    "df_split['업종대분류'].value_counts()"
   ]
  },
  {
   "cell_type": "markdown",
   "metadata": {},
   "source": [
    "- 공공 행정, 국방 및 사회보장 행정과 농업, 임업 및 어업의 경우 개수가 너무 적다.\n",
    "- top10을 뽑아낼 수도 없고, 적은 데이터의 평균을 구하는 것도 의미가 없다고 판단하여 둘의 평균총자산순이익률은 0으로 둔다."
   ]
  },
  {
   "cell_type": "code",
   "execution_count": 15,
   "metadata": {},
   "outputs": [],
   "source": [
    "# 평균총자산순이익률을 구할 때 공공 행정, 국방 및 사회보장 행정과 농업, 임업 및 어업 제외\n",
    "indurstry_list = df_split['업종대분류'].unique().tolist()[:-2]"
   ]
  },
  {
   "cell_type": "code",
   "execution_count": 16,
   "metadata": {},
   "outputs": [
    {
     "data": {
      "text/plain": [
       "['부동산업',\n",
       " '숙박 및 음식점업',\n",
       " '예술, 스포츠 및 여가관련 서비스업',\n",
       " '전문, 과학 및 기술 서비스업',\n",
       " '도매 및 소매업',\n",
       " '제조업',\n",
       " '정보통신업',\n",
       " '교육 서비스업',\n",
       " '운수 및 창고업',\n",
       " '금융 및 보험업',\n",
       " '건설업',\n",
       " '사업시설 관리, 사업 지원 및 임대 서비스업',\n",
       " '전기, 가스, 증기 및 공기 조절 공급업',\n",
       " '협회 및 단체, 수리 및 기타 개인 서비스업',\n",
       " '수도, 하수 및 폐기물 처리, 원료 재생업',\n",
       " '보건업 및 사회복지 서비스업']"
      ]
     },
     "execution_count": 16,
     "metadata": {},
     "output_type": "execute_result"
    }
   ],
   "source": [
    "indurstry_list"
   ]
  },
  {
   "cell_type": "code",
   "execution_count": 17,
   "metadata": {},
   "outputs": [],
   "source": [
    "# 자산총계가 0인 경우 계산하면 inf가 나오므로 0으로 변환\n",
    "df_final = df_split.replace([np.inf, -np.inf], 0)"
   ]
  },
  {
   "cell_type": "code",
   "execution_count": 18,
   "metadata": {},
   "outputs": [],
   "source": [
    "# 위에서 분석한 결과를 토대로 영업중인 기업에 대해서만 구함\n",
    "df_final = df_final.loc[df_final['휴폐업구분'] == 0]"
   ]
  },
  {
   "cell_type": "markdown",
   "metadata": {},
   "source": [
    "## 3.3. 연도별 업종대분류에 따른 총자산순이익률 top10 기업 구하고 평균 구하기"
   ]
  },
  {
   "cell_type": "code",
   "execution_count": 19,
   "metadata": {},
   "outputs": [],
   "source": [
    "list_2018 = []\n",
    "for indurstry in indurstry_list:    \n",
    "    df_temp = df_final.loc[(df_final['년도'] == '2018') & (df_final['업종대분류'] == indurstry)].drop_duplicates(['기업명']).sort_values('총자산순이익률', ascending=False).head(10)\n",
    "    mean_value = df_temp['총자산순이익률'].mean()\n",
    "    list_2018.append(mean_value)\n",
    "list_2018.append(0.0)\n",
    "list_2018.append(0.0)"
   ]
  },
  {
   "cell_type": "code",
   "execution_count": 20,
   "metadata": {},
   "outputs": [],
   "source": [
    "list_2019 = []\n",
    "for indurstry in indurstry_list:\n",
    "    df_temp = df_final.loc[(df_final['년도'] == '2019') & (df_final['업종대분류'] == indurstry)].drop_duplicates(['기업명']).sort_values('총자산순이익률', ascending=False).head(10)\n",
    "    mean_value = df_temp['총자산순이익률'].mean()\n",
    "    list_2019.append(mean_value)\n",
    "list_2019.append(0.0)\n",
    "list_2019.append(0.0)"
   ]
  },
  {
   "cell_type": "code",
   "execution_count": 21,
   "metadata": {},
   "outputs": [],
   "source": [
    "list_2020 = []\n",
    "for indurstry in indurstry_list:\n",
    "    df_temp = df_final.loc[(df_final['년도'] == '2020') & (df_final['업종대분류'] == indurstry)].drop_duplicates(['기업명']).sort_values('총자산순이익률', ascending=False).head(10)\n",
    "    mean_value = df_temp['총자산순이익률'].mean()\n",
    "    list_2020.append(mean_value)\n",
    "list_2020.append(0.0)\n",
    "list_2020.append(0.0)"
   ]
  },
  {
   "cell_type": "code",
   "execution_count": 22,
   "metadata": {},
   "outputs": [],
   "source": [
    "list_2021 = []\n",
    "for indurstry in indurstry_list:\n",
    "    df_temp = df_final.loc[(df_final['년도'] == '2021') & (df_final['업종대분류'] == indurstry)].drop_duplicates(['기업명']).sort_values('총자산순이익률', ascending=False).head(10)\n",
    "    mean_value = df_temp['총자산순이익률'].mean()\n",
    "    list_2021.append(mean_value)\n",
    "list_2021.append(0.0)\n",
    "list_2021.append(0.0)"
   ]
  },
  {
   "cell_type": "markdown",
   "metadata": {},
   "source": [
    "# 4. 내보내기"
   ]
  },
  {
   "cell_type": "code",
   "execution_count": 23,
   "metadata": {},
   "outputs": [],
   "source": [
    "# 아까 제외한 업종대분류 추가를 위해 다시 정의\n",
    "concat_indurstry_list = df_split['업종대분류'].unique().tolist()"
   ]
  },
  {
   "cell_type": "code",
   "execution_count": 24,
   "metadata": {},
   "outputs": [],
   "source": [
    "# 데이터프레임으로 만들기\n",
    "concat_list = []\n",
    "for mean_list, year in zip([list_2018, list_2019, list_2020, list_2021], ['2018', '2019', '2020', '2021']):\n",
    "    df_temp = pd.DataFrame({'년도': [year]*18,\n",
    "                            '업종대분류':concat_indurstry_list,\n",
    "                            '평균총자산이익률':mean_list})\n",
    "    concat_list.append(df_temp)\n",
    "final = pd.concat(concat_list)"
   ]
  },
  {
   "cell_type": "code",
   "execution_count": 25,
   "metadata": {},
   "outputs": [
    {
     "data": {
      "text/html": [
       "<div>\n",
       "<style scoped>\n",
       "    .dataframe tbody tr th:only-of-type {\n",
       "        vertical-align: middle;\n",
       "    }\n",
       "\n",
       "    .dataframe tbody tr th {\n",
       "        vertical-align: top;\n",
       "    }\n",
       "\n",
       "    .dataframe thead th {\n",
       "        text-align: right;\n",
       "    }\n",
       "</style>\n",
       "<table border=\"1\" class=\"dataframe\">\n",
       "  <thead>\n",
       "    <tr style=\"text-align: right;\">\n",
       "      <th></th>\n",
       "      <th>년도</th>\n",
       "      <th>업종대분류</th>\n",
       "      <th>평균총자산이익률</th>\n",
       "    </tr>\n",
       "  </thead>\n",
       "  <tbody>\n",
       "    <tr>\n",
       "      <th>0</th>\n",
       "      <td>2018</td>\n",
       "      <td>부동산업</td>\n",
       "      <td>0.885174</td>\n",
       "    </tr>\n",
       "    <tr>\n",
       "      <th>1</th>\n",
       "      <td>2018</td>\n",
       "      <td>숙박 및 음식점업</td>\n",
       "      <td>0.415017</td>\n",
       "    </tr>\n",
       "    <tr>\n",
       "      <th>2</th>\n",
       "      <td>2018</td>\n",
       "      <td>예술, 스포츠 및 여가관련 서비스업</td>\n",
       "      <td>0.402173</td>\n",
       "    </tr>\n",
       "    <tr>\n",
       "      <th>3</th>\n",
       "      <td>2018</td>\n",
       "      <td>전문, 과학 및 기술 서비스업</td>\n",
       "      <td>0.473636</td>\n",
       "    </tr>\n",
       "    <tr>\n",
       "      <th>4</th>\n",
       "      <td>2018</td>\n",
       "      <td>도매 및 소매업</td>\n",
       "      <td>0.998841</td>\n",
       "    </tr>\n",
       "    <tr>\n",
       "      <th>...</th>\n",
       "      <td>...</td>\n",
       "      <td>...</td>\n",
       "      <td>...</td>\n",
       "    </tr>\n",
       "    <tr>\n",
       "      <th>13</th>\n",
       "      <td>2021</td>\n",
       "      <td>협회 및 단체, 수리 및 기타 개인 서비스업</td>\n",
       "      <td>0.235406</td>\n",
       "    </tr>\n",
       "    <tr>\n",
       "      <th>14</th>\n",
       "      <td>2021</td>\n",
       "      <td>수도, 하수 및 폐기물 처리, 원료 재생업</td>\n",
       "      <td>0.768268</td>\n",
       "    </tr>\n",
       "    <tr>\n",
       "      <th>15</th>\n",
       "      <td>2021</td>\n",
       "      <td>보건업 및 사회복지 서비스업</td>\n",
       "      <td>0.032564</td>\n",
       "    </tr>\n",
       "    <tr>\n",
       "      <th>16</th>\n",
       "      <td>2021</td>\n",
       "      <td>농업, 임업 및 어업</td>\n",
       "      <td>0.000000</td>\n",
       "    </tr>\n",
       "    <tr>\n",
       "      <th>17</th>\n",
       "      <td>2021</td>\n",
       "      <td>공공 행정, 국방 및 사회보장 행정</td>\n",
       "      <td>0.000000</td>\n",
       "    </tr>\n",
       "  </tbody>\n",
       "</table>\n",
       "<p>72 rows × 3 columns</p>\n",
       "</div>"
      ],
      "text/plain": [
       "      년도                     업종대분류  평균총자산이익률\n",
       "0   2018                      부동산업  0.885174\n",
       "1   2018                 숙박 및 음식점업  0.415017\n",
       "2   2018       예술, 스포츠 및 여가관련 서비스업  0.402173\n",
       "3   2018          전문, 과학 및 기술 서비스업  0.473636\n",
       "4   2018                  도매 및 소매업  0.998841\n",
       "..   ...                       ...       ...\n",
       "13  2021  협회 및 단체, 수리 및 기타 개인 서비스업  0.235406\n",
       "14  2021   수도, 하수 및 폐기물 처리, 원료 재생업  0.768268\n",
       "15  2021           보건업 및 사회복지 서비스업  0.032564\n",
       "16  2021               농업, 임업 및 어업  0.000000\n",
       "17  2021       공공 행정, 국방 및 사회보장 행정  0.000000\n",
       "\n",
       "[72 rows x 3 columns]"
      ]
     },
     "execution_count": 25,
     "metadata": {},
     "output_type": "execute_result"
    }
   ],
   "source": [
    "final"
   ]
  },
  {
   "cell_type": "code",
   "execution_count": 26,
   "metadata": {},
   "outputs": [],
   "source": [
    "final.to_csv('mean_top10_per_year.csv', encoding='cp949', index=False)"
   ]
  }
 ],
 "metadata": {
  "kernelspec": {
   "display_name": "Python 3.8.13 ('cabta')",
   "language": "python",
   "name": "python3"
  },
  "language_info": {
   "codemirror_mode": {
    "name": "ipython",
    "version": 3
   },
   "file_extension": ".py",
   "mimetype": "text/x-python",
   "name": "python",
   "nbconvert_exporter": "python",
   "pygments_lexer": "ipython3",
   "version": "3.8.13"
  },
  "orig_nbformat": 4,
  "vscode": {
   "interpreter": {
    "hash": "a063b7be1b1d22be0fca1b26cf478769b2ebdd8896aff1eef11b858cbacfa39b"
   }
  }
 },
 "nbformat": 4,
 "nbformat_minor": 2
}
