{
 "cells": [
  {
   "cell_type": "markdown",
   "metadata": {},
   "source": [
    "# 1. 필요한 라이브러리 불러오기"
   ]
  },
  {
   "cell_type": "code",
   "execution_count": 1,
   "metadata": {},
   "outputs": [],
   "source": [
    "import pandas as pd"
   ]
  },
  {
   "cell_type": "markdown",
   "metadata": {},
   "source": [
    "# 2. 데이터 불러오기"
   ]
  },
  {
   "cell_type": "code",
   "execution_count": 2,
   "metadata": {},
   "outputs": [],
   "source": [
    "active = pd.read_excel('./origin_data/액티브 중소법인 재무보유.xlsx', sheet_name=0)  # 기업기요_외감 데이터만 불러오기\n",
    "closed = pd.read_excel('./origin_data/휴폐업 중소법인 재무보유.xlsx', sheet_name=0)  # 기업개요 데이터만 불러오기\n",
    "finance = pd.read_table('./origin_data/재무데이터.txt', sep='\\t', encoding='cp949')\n",
    "active_business_information = pd.read_excel('./origin_data/액티브 중소법인 재무보유.xlsx', sheet_name=2) # 액티브 중소법인 중 휴폐업 이력이 있는 기업들 불러오기\n",
    "closed_business_information = pd.read_excel('./origin_data/휴폐업 중소법인 재무보유.xlsx', sheet_name=1) # 휴폐업 중소법인들의 휴폐업 이력 불러오기"
   ]
  },
  {
   "cell_type": "markdown",
   "metadata": {},
   "source": [
    "## 2.1. 데이터 확인"
   ]
  },
  {
   "cell_type": "markdown",
   "metadata": {},
   "source": [
    "### 2.1.1. 액티브 중소법인 기업개요_외감\n",
    "- 행: 28982개\n",
    "- 열: 28개"
   ]
  },
  {
   "cell_type": "code",
   "execution_count": 3,
   "metadata": {},
   "outputs": [
    {
     "name": "stdout",
     "output_type": "stream",
     "text": [
      "액티브 중소법인의 기업개요 데이터 row 개수: 28982개\n",
      "액티브 중소법인의 기업개요 데이터 feature 개수: 28개\n"
     ]
    }
   ],
   "source": [
    "print(f\"액티브 중소법인의 기업개요 데이터 row 개수: {active.shape[0]}개\")\n",
    "print(f\"액티브 중소법인의 기업개요 데이터 feature 개수: {active.shape[1]}개\")"
   ]
  },
  {
   "cell_type": "markdown",
   "metadata": {},
   "source": [
    "### 2.1.2 액티브 중소법인 휴폐업 이력\n",
    "- 행: 4827개\n",
    "- 열: 5개"
   ]
  },
  {
   "cell_type": "code",
   "execution_count": 4,
   "metadata": {},
   "outputs": [
    {
     "name": "stdout",
     "output_type": "stream",
     "text": [
      "액티브 중소법인의 휴폐업 이력 데이터 row 개수: 4827개\n",
      "액티브 중소법인의 휴폐업 이력 데이터 feature 개수: 5개\n"
     ]
    }
   ],
   "source": [
    "print(f\"액티브 중소법인의 휴폐업 이력 데이터 row 개수: {active_business_information.shape[0]}개\")\n",
    "print(f\"액티브 중소법인의 휴폐업 이력 데이터 feature 개수: {active_business_information.shape[1]}개\")"
   ]
  },
  {
   "cell_type": "markdown",
   "metadata": {},
   "source": [
    "### 2.1.3. 휴폐업 중소법인 기업개요\n",
    "- 행: 6739개\n",
    "- 열: 28개"
   ]
  },
  {
   "cell_type": "code",
   "execution_count": 5,
   "metadata": {},
   "outputs": [
    {
     "name": "stdout",
     "output_type": "stream",
     "text": [
      "휴폐업 중소법인의 기업개요 데이터 row 개수: 6739개\n",
      "휴폐업 중소법인의 기업개요 데이터 feature 개수: 28개\n"
     ]
    }
   ],
   "source": [
    "print(f\"휴폐업 중소법인의 기업개요 데이터 row 개수: {closed.shape[0]}개\")\n",
    "print(f\"휴폐업 중소법인의 기업개요 데이터 feature 개수: {closed.shape[1]}개\")"
   ]
  },
  {
   "cell_type": "markdown",
   "metadata": {},
   "source": [
    "### 2.1.4. 휴폐업 중소법인 휴폐업 이력\n",
    "- 행: 6840개\n",
    "- 열: 5개"
   ]
  },
  {
   "cell_type": "code",
   "execution_count": 6,
   "metadata": {},
   "outputs": [
    {
     "name": "stdout",
     "output_type": "stream",
     "text": [
      "휴폐업 중소법인의 휴폐업 이력 데이터 row 개수: 6840개\n",
      "휴폐업 중소법인의 휴폐업 이력 데이터 feature 개수: 5개\n"
     ]
    }
   ],
   "source": [
    "print(f\"휴폐업 중소법인의 휴폐업 이력 데이터 row 개수: {closed_business_information.shape[0]}개\")\n",
    "print(f\"휴폐업 중소법인의 휴폐업 이력 데이터 feature 개수: {closed_business_information.shape[1]}개\")"
   ]
  },
  {
   "cell_type": "markdown",
   "metadata": {},
   "source": [
    "### 2.1.5. 재무데이터\n",
    "- 행: 109142개\n",
    "- 열: 46개"
   ]
  },
  {
   "cell_type": "code",
   "execution_count": 7,
   "metadata": {},
   "outputs": [
    {
     "name": "stdout",
     "output_type": "stream",
     "text": [
      "재무 데이터 row 개수: 109142개\n",
      "재무 데이터 feature 개수: 46개\n"
     ]
    }
   ],
   "source": [
    "print(f\"재무 데이터 row 개수: {finance.shape[0]}개\")\n",
    "print(f\"재무 데이터 feature 개수: {finance.shape[1]}개\")"
   ]
  },
  {
   "cell_type": "markdown",
   "metadata": {},
   "source": [
    "## 2.2. 데이터 확인 결과\n",
    "- 액티브 중소법인의 경우 운영중인 기업들 중에서 휴폐업 이력이 있는 경우만 데이터가 수집되었기 때문에 휴폐업 이력이 있는 데이터가 더 적게 있다.\n",
    "- 휴폐업 중소법인의 경우 기업개요 데이터 보다 휴폐업 이력이 더 많은데, 한 기업에서 휴폐업 이력이 여러 번 나타났을 것으로 추정된다.\n",
    "    - 따라서 추후 확인이 필요할 것 같다.\n",
    "- 재무 데이터는 아직까지는 큰 특징이 없었다."
   ]
  },
  {
   "cell_type": "markdown",
   "metadata": {},
   "source": [
    "### 2.2.1 휴폐업 데이터에서 휴폐업 이력이 여러 번 나타난 기업이 있는지 확인하기\n",
    "- 휴폐업 데이터의 경우 기업개요와 휴폐업 이력의 개수가 맞지 않았다.\n",
    "- 따라서 휴폐업 이력이 여러 번 나타났는지, 휴폐업 이력에는 있지만 기업개요에는 없는 것이 있는지 확인해본다."
   ]
  },
  {
   "cell_type": "code",
   "execution_count": 8,
   "metadata": {},
   "outputs": [
    {
     "name": "stdout",
     "output_type": "stream",
     "text": [
      "기업개요 데이터와 휴폐업 이력이 가지고 있는 사업자등록번호가 다릅니다.\n"
     ]
    }
   ],
   "source": [
    "# 기업개요 데이터와 휴폐업 이력 데이터의 사업자등록번호 비교하기\n",
    "closed_biz_no = sorted(closed['BIZ_NO'].unique().tolist())\n",
    "closed_business_information_biz_no = sorted(closed_business_information['BIZ_NO'].unique().tolist())\n",
    "\n",
    "if closed_biz_no == closed_business_information_biz_no:\n",
    "    print(\"기업개요 데이터와 휴폐업 이력이 가지고 있는 사업자등록번호가 같습니다.\")\n",
    "else:\n",
    "    print(\"기업개요 데이터와 휴폐업 이력이 가지고 있는 사업자등록번호가 다릅니다.\")"
   ]
  },
  {
   "cell_type": "code",
   "execution_count": 9,
   "metadata": {},
   "outputs": [
    {
     "name": "stdout",
     "output_type": "stream",
     "text": [
      "기업개요 데이터의 사업자등록번호 개수: 6739개\n",
      "휴폐업 이력 데이터의 사업자등록번호 개수: 6746개\n"
     ]
    }
   ],
   "source": [
    "# 어느 것이 더 많은 사업자등록번호를 가지고 있는지 확인하기\n",
    "print(f\"기업개요 데이터의 사업자등록번호 개수: {len(closed_biz_no)}개\")\n",
    "print(f\"휴폐업 이력 데이터의 사업자등록번호 개수: {len(closed_business_information_biz_no)}개\")"
   ]
  },
  {
   "cell_type": "code",
   "execution_count": 10,
   "metadata": {},
   "outputs": [
    {
     "name": "stdout",
     "output_type": "stream",
     "text": [
      "휴폐업 이력에만 있는 사업자등록번호: {1258112615, 8748701416, 1208814669, 5088109294, 1098654578, 6088175925, 4108705178}\n"
     ]
    }
   ],
   "source": [
    "# 휴폐업 이력 데이터에만 있는 사업자등록번호 확인하기\n",
    "closed_set = set(closed_biz_no)\n",
    "closed_business_information_set = set(closed_business_information_biz_no)\n",
    "\n",
    "check_closed_biz_no = closed_business_information_set.difference(closed_set)\n",
    "\n",
    "print(\"휴폐업 이력에만 있는 사업자등록번호: \", end='')\n",
    "print(check_closed_biz_no)"
   ]
  },
  {
   "cell_type": "markdown",
   "metadata": {},
   "source": [
    "### 2.2.2. 확인 결과\n",
    "- 휴폐업 이력에만 있는 데이터는 7개다.\n",
    "- 7개라 무시할 수도 있지만, 휴폐업을 예측해야하기 때문에 중요한 데이터로 사용될 여지가 있다.\n",
    "- 따라서 액티브 중소법인에 해당 데이터가 있는지 확인이 필요하다."
   ]
  },
  {
   "cell_type": "markdown",
   "metadata": {},
   "source": [
    "### 2.2.3. 휴폐업 중소법인 데이터의 휴폐업 이력에만 있는 데이터가 액티브 중소법인에 있는지 확인하기\n"
   ]
  },
  {
   "cell_type": "code",
   "execution_count": 11,
   "metadata": {},
   "outputs": [
    {
     "name": "stdout",
     "output_type": "stream",
     "text": [
      "액티브 중소법인에도 없습니다.\n"
     ]
    }
   ],
   "source": [
    "exist_closed_biz_no = list(check_closed_biz_no) # 휴폐업 중소법인의 휴폐업 이력에만 있는 사업자등록번호\n",
    "active_biz_no = active['BIZ_NO'].unique().tolist() # 액티브 중소법인의 사업자등록번호\n",
    "\n",
    "exist_closed_biz_no_set = set(exist_closed_biz_no)\n",
    "active_biz_no_set = set(active_biz_no)\n",
    "\n",
    "check_result = exist_closed_biz_no_set.difference(active_biz_no_set)\n",
    "\n",
    "if check_result == check_closed_biz_no:\n",
    "    print(\"액티브 중소법인에도 없습니다.\")\n",
    "else:\n",
    "    print(\"액티브 중소법인에 있습니다.\")"
   ]
  },
  {
   "cell_type": "markdown",
   "metadata": {},
   "source": [
    "### 2.2.4. 확인 결과\n",
    "- 액티브 중소법인에도 없는 데이터 이므로 사용할 수 없다.\n",
    "- 따라서 추후 합칠 때, 휴폐업 중소법인의 기업개요를 기준으로 휴폐업 이력 데이터와 합치기로 한다."
   ]
  },
  {
   "cell_type": "markdown",
   "metadata": {},
   "source": [
    "# 3. 파악하기 쉽도록 데이터 값 변경 해주기"
   ]
  },
  {
   "cell_type": "markdown",
   "metadata": {},
   "source": [
    "## 3.1. 액티브 중소법인과 휴폐업 중소법인의 기업개요 데이터 값 변경하기"
   ]
  },
  {
   "cell_type": "code",
   "execution_count": 12,
   "metadata": {},
   "outputs": [],
   "source": [
    "def change_sectors(value):\n",
    "    \"\"\"\n",
    "    업종코드를 업종명으로 변경하는 함수입니다.\n",
    "    value(str)\n",
    "    ---------------------------------------\n",
    "    input = 업종코드\n",
    "    retrun  = 업종명\n",
    "    ---------------------------------------\n",
    "    A: 신용금고\n",
    "    B: 은행\n",
    "    C: 카드\n",
    "    F: 생명보험\n",
    "    I: 손해보험\n",
    "    M: 제조\n",
    "    O: 기타금융\n",
    "    S: 증권\n",
    "    V: 창업투자회사\n",
    "    \"\"\"\n",
    "    sectors = {'A': '신용금고', 'B': '은행', 'C': '카드', 'F': '생명보험', 'I': '손해보험', \n",
    "               'M': '제조', 'O': '기타금융', 'S': '증권', 'V': '창업투자회사'}\n",
    "    return sectors[value]"
   ]
  },
  {
   "cell_type": "code",
   "execution_count": 13,
   "metadata": {},
   "outputs": [],
   "source": [
    "def change_company_size(value):\n",
    "    \"\"\"\n",
    "    기업규모를 한글로 변경하는 함수입니다.\n",
    "    ---------------------------------------\n",
    "    input = 기업규모(범주형 숫자)\n",
    "    retrun  = 기업규모(한글)\n",
    "    ---------------------------------------\n",
    "    1: 대기업\n",
    "    2: 중소기업\n",
    "    3: 기타(비영리법인)\n",
    "    4: 중견기업\n",
    "    5: 대기업(금융)\n",
    "    6: 중견기업\n",
    "    \"\"\"\n",
    "    company_size = {1: '대기업', 2: '중소기업', 3: '기타(비영리법인)', 4: '중견기업', 5: '대기업(금융)', 6: '중견기업'}\n",
    "    return company_size[value]"
   ]
  },
  {
   "cell_type": "code",
   "execution_count": 14,
   "metadata": {},
   "outputs": [],
   "source": [
    "def change_is_public_enterprise(value):\n",
    "    \"\"\"\n",
    "    공기업구분을 한글로 변경하는 함수입니다.\n",
    "    ---------------------------------------\n",
    "    input = 공기업구분(범주형 숫자)\n",
    "    retrun  = 공기업구분(한글)\n",
    "    ---------------------------------------\n",
    "    1: 공기업\n",
    "    2: 일반기업\n",
    "    \"\"\"\n",
    "    public_enterprise = {1: '공기업', 2: '일반기업'}\n",
    "    return public_enterprise[value]"
   ]
  },
  {
   "cell_type": "code",
   "execution_count": 15,
   "metadata": {},
   "outputs": [],
   "source": [
    "def change_is_corporation(value):\n",
    "    \"\"\"\n",
    "    법인개인구분을 한글로 변경하는 함수입니다.\n",
    "    ---------------------------------------\n",
    "    input = 법인개인구분(범주형 숫자)\n",
    "    retrun  = 법인개인구분(한글)\n",
    "    ---------------------------------------\n",
    "    1: 법인\n",
    "    2: 개인\n",
    "    \"\"\"\n",
    "    corporation = {1: '법인', 2: '개인'}\n",
    "    return corporation[value]"
   ]
  },
  {
   "cell_type": "code",
   "execution_count": 16,
   "metadata": {},
   "outputs": [],
   "source": [
    "def change_is_head_office(value):\n",
    "    \"\"\"\n",
    "    본점지점구분을 한글로 변경하는 함수입니다.\n",
    "    ---------------------------------------\n",
    "    input = 본점지점구분(범주형 숫자)\n",
    "    retrun  = 본점지점구분(한글)\n",
    "    ---------------------------------------\n",
    "    1: 법인\n",
    "    2: 개인\n",
    "    \"\"\"\n",
    "    head_office = {1: '본점', 2: '지점'}\n",
    "    return head_office[value]"
   ]
  },
  {
   "cell_type": "code",
   "execution_count": 17,
   "metadata": {},
   "outputs": [],
   "source": [
    "def change_type_of_public_institution(value):\n",
    "    \"\"\"\n",
    "    공공기관유형을 한글로 변경하는 함수입니다.\n",
    "    ---------------------------------------\n",
    "    input = 국외투자법인여부(범주형 숫자)\n",
    "    retrun  = 국외투자법인여부(한글)\n",
    "    ---------------------------------------\n",
    "    0: 해당사항없음\n",
    "    9: 정부기구\n",
    "    2: 공기업/준정부기관\n",
    "    3: 지자체공단/공사\n",
    "    \"\"\"\n",
    "    type_of_public_institution = {0: '해당사항없음', 9: '정부기구', 2: '공기업/준정부기관', 3: '지자체공단/공사'}\n",
    "    return type_of_public_institution[value]"
   ]
  },
  {
   "cell_type": "code",
   "execution_count": 18,
   "metadata": {},
   "outputs": [],
   "source": [
    "def change_establishment(value):\n",
    "    \"\"\"\n",
    "    설립구분을 한글로 변경하는 함수입니다.\n",
    "    ---------------------------------------\n",
    "    input = 설립구분(범주형 숫자)\n",
    "    retrun  = 설립구분(한글)\n",
    "    ---------------------------------------\n",
    "    1: 주식\n",
    "    2: 합자\n",
    "    3: 합명\n",
    "    4: 유한\n",
    "    5: 조합\n",
    "    6: 정부투자기관\n",
    "    7: 개인\n",
    "    8: 학교\n",
    "    9: 병원\n",
    "    10: 단체.협회\n",
    "    11: 미정의\n",
    "    99: 기타\n",
    "    \"\"\"\n",
    "    establishment = {1: '주식', 2: '합자', 3: '합명', 4: '유한', 5: '조합', 6: '정부투자기관', \n",
    "                    7: '개인', 8: '학교', 9: '병원', 10: '단체/협회', 11: '미정의', 99: '기타'}\n",
    "    return establishment[value]"
   ]
  },
  {
   "cell_type": "code",
   "execution_count": 19,
   "metadata": {},
   "outputs": [],
   "source": [
    "active_change_values = active.copy()\n",
    "closed_change_values = closed.copy()\n",
    "\n",
    "active_change_values['BZ_TYP'] = active['BZ_TYP'].apply(change_sectors)\n",
    "closed_change_values['BZ_TYP'] = closed['BZ_TYP'].apply(change_sectors)\n",
    "\n",
    "active_change_values['CMP_SCL'] = active['CMP_SCL'].apply(change_company_size)\n",
    "closed_change_values['CMP_SCL'] = closed['CMP_SCL'].apply(change_company_size)\n",
    "\n",
    "active_change_values['PBCO_GB'] = active['PBCO_GB'].apply(change_is_public_enterprise)\n",
    "closed_change_values['PBCO_GB'] = closed['PBCO_GB'].apply(change_is_public_enterprise)\n",
    "\n",
    "active_change_values['PSN_CORP_GB'] = active['PSN_CORP_GB'].apply(change_is_corporation)\n",
    "closed_change_values['PSN_CORP_GB'] = closed['PSN_CORP_GB'].apply(change_is_corporation)\n",
    "\n",
    "active_change_values['HDOF_BR_GB'] = active['HDOF_BR_GB'].apply(change_is_head_office)\n",
    "closed_change_values['HDOF_BR_GB'] = closed['HDOF_BR_GB'].apply(change_is_head_office)\n",
    "\n",
    "active_change_values['PB_ORG_TYP'] = active['PB_ORG_TYP'].apply(change_type_of_public_institution)\n",
    "closed_change_values['PB_ORG_TYP'] = closed['PB_ORG_TYP'].apply(change_type_of_public_institution)\n",
    "\n",
    "active_change_values['ESTB_GB'] = active['ESTB_GB'].apply(change_establishment)\n",
    "closed_change_values['ESTB_GB'] = closed['ESTB_GB'].apply(change_establishment)"
   ]
  },
  {
   "cell_type": "markdown",
   "metadata": {},
   "source": [
    "## 3.2. 액티브와 중소법인과 휴폐업 중소법인의 휴폐업 이력 데이터의 값 변경하기"
   ]
  },
  {
   "cell_type": "code",
   "execution_count": 20,
   "metadata": {},
   "outputs": [],
   "source": [
    "def change_status(value):\n",
    "    \"\"\"\n",
    "    휴폐업상태를 한글로 변경해주는 함수입니다.\n",
    "    ---------------------------------------\n",
    "    input = 휴폐업상태(범주형 숫자)\n",
    "    retrun  = 휴폐업상태(한글)\n",
    "    ---------------------------------------\n",
    "    1: 부도\n",
    "    2: 휴업\n",
    "    3: 폐업\n",
    "    4: 피합병\n",
    "    5: 휴업취소\n",
    "    6: 폐업취소\n",
    "    \"\"\"\n",
    "    status = {1: '부도', 2: '휴업', 3: '폐업', 4: '피합병', 5: '휴업취소', 6: '폐업취소'}\n",
    "    return status[value]"
   ]
  },
  {
   "cell_type": "code",
   "execution_count": 21,
   "metadata": {},
   "outputs": [],
   "source": [
    "active_business_information_change_values = active_business_information.copy()\n",
    "closed_business_information_change_values = closed_business_information.copy()\n",
    "\n",
    "active_business_information_change_values['CLSBZ_GB'] = active_business_information['CLSBZ_GB'].apply(change_status)\n",
    "closed_business_information_change_values['CLSBZ_GB'] = closed_business_information['CLSBZ_GB'].apply(change_status)"
   ]
  },
  {
   "cell_type": "code",
   "execution_count": 22,
   "metadata": {},
   "outputs": [
    {
     "data": {
      "text/plain": [
       "폐업취소    1264\n",
       "폐업      1239\n",
       "휴업      1168\n",
       "휴업취소    1155\n",
       "피합병        1\n",
       "Name: CLSBZ_GB, dtype: int64"
      ]
     },
     "execution_count": 22,
     "metadata": {},
     "output_type": "execute_result"
    }
   ],
   "source": [
    "active_business_information_change_values['CLSBZ_GB'].value_counts()"
   ]
  },
  {
   "cell_type": "code",
   "execution_count": 23,
   "metadata": {},
   "outputs": [
    {
     "data": {
      "text/plain": [
       "폐업      6838\n",
       "휴업취소       1\n",
       "폐업취소       1\n",
       "Name: CLSBZ_GB, dtype: int64"
      ]
     },
     "execution_count": 23,
     "metadata": {},
     "output_type": "execute_result"
    }
   ],
   "source": [
    "closed_business_information_change_values['CLSBZ_GB'].value_counts()"
   ]
  },
  {
   "cell_type": "markdown",
   "metadata": {},
   "source": [
    "# 4. 액티브 중소법인과 휴폐업 중소법인의 기업개요, 휴폐업 이력 데이터 합치기"
   ]
  },
  {
   "cell_type": "code",
   "execution_count": 24,
   "metadata": {},
   "outputs": [],
   "source": [
    "active_final = pd.merge(active_change_values, active_business_information_change_values, how='left', on='BIZ_NO')\n",
    "closed_final = pd.merge(closed_change_values, closed_business_information_change_values, how='left', on='BIZ_NO')"
   ]
  },
  {
   "cell_type": "code",
   "execution_count": 25,
   "metadata": {},
   "outputs": [],
   "source": [
    "data = pd.concat([active_final, closed_final], ignore_index=True)"
   ]
  },
  {
   "cell_type": "code",
   "execution_count": 26,
   "metadata": {},
   "outputs": [
    {
     "data": {
      "text/html": [
       "<div>\n",
       "<style scoped>\n",
       "    .dataframe tbody tr th:only-of-type {\n",
       "        vertical-align: middle;\n",
       "    }\n",
       "\n",
       "    .dataframe tbody tr th {\n",
       "        vertical-align: top;\n",
       "    }\n",
       "\n",
       "    .dataframe thead th {\n",
       "        text-align: right;\n",
       "    }\n",
       "</style>\n",
       "<table border=\"1\" class=\"dataframe\">\n",
       "  <thead>\n",
       "    <tr style=\"text-align: right;\">\n",
       "      <th></th>\n",
       "      <th>BIZ_NO</th>\n",
       "      <th>CMP_PFIX_NM</th>\n",
       "      <th>CMP_NM</th>\n",
       "      <th>CMP_SFIX_NM</th>\n",
       "      <th>CMP_ENM</th>\n",
       "      <th>BZ_TYP</th>\n",
       "      <th>CMP_SCL</th>\n",
       "      <th>PBCO_GB</th>\n",
       "      <th>PSN_CORP_GB</th>\n",
       "      <th>HDOF_BR_GB</th>\n",
       "      <th>...</th>\n",
       "      <th>LIST_DATE</th>\n",
       "      <th>MN_BIZ_CONT</th>\n",
       "      <th>NATN_NM</th>\n",
       "      <th>HOMEPAGE_URL</th>\n",
       "      <th>CEO_NM</th>\n",
       "      <th>EMP_CNT</th>\n",
       "      <th>END_DATE</th>\n",
       "      <th>STRT_DATE</th>\n",
       "      <th>CLSBZ_GB</th>\n",
       "      <th>STAT_OCR_DATE</th>\n",
       "    </tr>\n",
       "  </thead>\n",
       "  <tbody>\n",
       "    <tr>\n",
       "      <th>0</th>\n",
       "      <td>1138111739</td>\n",
       "      <td>NaN</td>\n",
       "      <td>한일가스산업</td>\n",
       "      <td>(주)</td>\n",
       "      <td>HANIL GAS IND. CO.,LTD.</td>\n",
       "      <td>제조</td>\n",
       "      <td>중소기업</td>\n",
       "      <td>일반기업</td>\n",
       "      <td>법인</td>\n",
       "      <td>본점</td>\n",
       "      <td>...</td>\n",
       "      <td>NaN</td>\n",
       "      <td>LP Gas 충전 및 판매업</td>\n",
       "      <td>NaN</td>\n",
       "      <td>www.hanilgas.com</td>\n",
       "      <td>홍순철외 1명</td>\n",
       "      <td>43.0</td>\n",
       "      <td>NaN</td>\n",
       "      <td>NaN</td>\n",
       "      <td>NaN</td>\n",
       "      <td>NaN</td>\n",
       "    </tr>\n",
       "    <tr>\n",
       "      <th>1</th>\n",
       "      <td>2078132193</td>\n",
       "      <td>(주)</td>\n",
       "      <td>엠피아이</td>\n",
       "      <td>NaN</td>\n",
       "      <td>EMPIALEE CO.,LTD.</td>\n",
       "      <td>제조</td>\n",
       "      <td>중소기업</td>\n",
       "      <td>일반기업</td>\n",
       "      <td>법인</td>\n",
       "      <td>본점</td>\n",
       "      <td>...</td>\n",
       "      <td>NaN</td>\n",
       "      <td>가죽 및 대용가죽제품 제조업</td>\n",
       "      <td>NaN</td>\n",
       "      <td>www.mastercnd.co.kr</td>\n",
       "      <td>이스테판상수외 1명</td>\n",
       "      <td>35.0</td>\n",
       "      <td>NaN</td>\n",
       "      <td>NaN</td>\n",
       "      <td>NaN</td>\n",
       "      <td>NaN</td>\n",
       "    </tr>\n",
       "    <tr>\n",
       "      <th>2</th>\n",
       "      <td>1318167565</td>\n",
       "      <td>NaN</td>\n",
       "      <td>도영운수</td>\n",
       "      <td>(주)</td>\n",
       "      <td>DOYOUNG TRANSPORTATION CO.,LTD.</td>\n",
       "      <td>제조</td>\n",
       "      <td>중소기업</td>\n",
       "      <td>일반기업</td>\n",
       "      <td>법인</td>\n",
       "      <td>본점</td>\n",
       "      <td>...</td>\n",
       "      <td>NaN</td>\n",
       "      <td>시내버스업</td>\n",
       "      <td>NaN</td>\n",
       "      <td>transport@naver.com</td>\n",
       "      <td>김명화</td>\n",
       "      <td>149.0</td>\n",
       "      <td>NaN</td>\n",
       "      <td>NaN</td>\n",
       "      <td>NaN</td>\n",
       "      <td>NaN</td>\n",
       "    </tr>\n",
       "    <tr>\n",
       "      <th>3</th>\n",
       "      <td>5048128251</td>\n",
       "      <td>(주)</td>\n",
       "      <td>중원산업</td>\n",
       "      <td>NaN</td>\n",
       "      <td>JOONGWON INDUSTRIAL CO.,LTD.</td>\n",
       "      <td>제조</td>\n",
       "      <td>중소기업</td>\n",
       "      <td>일반기업</td>\n",
       "      <td>법인</td>\n",
       "      <td>본점</td>\n",
       "      <td>...</td>\n",
       "      <td>NaN</td>\n",
       "      <td>자동차 부품 제조</td>\n",
       "      <td>NaN</td>\n",
       "      <td>www.koreajw.com</td>\n",
       "      <td>김명구</td>\n",
       "      <td>75.0</td>\n",
       "      <td>NaN</td>\n",
       "      <td>NaN</td>\n",
       "      <td>NaN</td>\n",
       "      <td>NaN</td>\n",
       "    </tr>\n",
       "    <tr>\n",
       "      <th>4</th>\n",
       "      <td>1098164260</td>\n",
       "      <td>(주)</td>\n",
       "      <td>카타나골프</td>\n",
       "      <td>NaN</td>\n",
       "      <td>CATANA GOLF CO.,LTD.</td>\n",
       "      <td>제조</td>\n",
       "      <td>중소기업</td>\n",
       "      <td>일반기업</td>\n",
       "      <td>법인</td>\n",
       "      <td>본점</td>\n",
       "      <td>...</td>\n",
       "      <td>NaN</td>\n",
       "      <td>골프용품 전반의 제조 및 수출업</td>\n",
       "      <td>NaN</td>\n",
       "      <td>NaN</td>\n",
       "      <td>김홍득</td>\n",
       "      <td>3.0</td>\n",
       "      <td>NaN</td>\n",
       "      <td>NaN</td>\n",
       "      <td>NaN</td>\n",
       "      <td>NaN</td>\n",
       "    </tr>\n",
       "  </tbody>\n",
       "</table>\n",
       "<p>5 rows × 32 columns</p>\n",
       "</div>"
      ],
      "text/plain": [
       "       BIZ_NO CMP_PFIX_NM  CMP_NM CMP_SFIX_NM  \\\n",
       "0  1138111739         NaN  한일가스산업         (주)   \n",
       "1  2078132193         (주)    엠피아이         NaN   \n",
       "2  1318167565         NaN    도영운수         (주)   \n",
       "3  5048128251         (주)    중원산업         NaN   \n",
       "4  1098164260         (주)   카타나골프         NaN   \n",
       "\n",
       "                           CMP_ENM BZ_TYP CMP_SCL PBCO_GB PSN_CORP_GB  \\\n",
       "0          HANIL GAS IND. CO.,LTD.     제조    중소기업    일반기업          법인   \n",
       "1                EMPIALEE CO.,LTD.     제조    중소기업    일반기업          법인   \n",
       "2  DOYOUNG TRANSPORTATION CO.,LTD.     제조    중소기업    일반기업          법인   \n",
       "3     JOONGWON INDUSTRIAL CO.,LTD.     제조    중소기업    일반기업          법인   \n",
       "4             CATANA GOLF CO.,LTD.     제조    중소기업    일반기업          법인   \n",
       "\n",
       "  HDOF_BR_GB  ... LIST_DATE        MN_BIZ_CONT NATN_NM         HOMEPAGE_URL  \\\n",
       "0         본점  ...       NaN    LP Gas 충전 및 판매업     NaN     www.hanilgas.com   \n",
       "1         본점  ...       NaN    가죽 및 대용가죽제품 제조업     NaN  www.mastercnd.co.kr   \n",
       "2         본점  ...       NaN              시내버스업     NaN  transport@naver.com   \n",
       "3         본점  ...       NaN          자동차 부품 제조     NaN      www.koreajw.com   \n",
       "4         본점  ...       NaN  골프용품 전반의 제조 및 수출업     NaN                  NaN   \n",
       "\n",
       "       CEO_NM  EMP_CNT  END_DATE STRT_DATE CLSBZ_GB  STAT_OCR_DATE  \n",
       "0     홍순철외 1명     43.0       NaN       NaN      NaN            NaN  \n",
       "1  이스테판상수외 1명     35.0       NaN       NaN      NaN            NaN  \n",
       "2         김명화    149.0       NaN       NaN      NaN            NaN  \n",
       "3         김명구     75.0       NaN       NaN      NaN            NaN  \n",
       "4         김홍득      3.0       NaN       NaN      NaN            NaN  \n",
       "\n",
       "[5 rows x 32 columns]"
      ]
     },
     "execution_count": 26,
     "metadata": {},
     "output_type": "execute_result"
    }
   ],
   "source": [
    "data.head()"
   ]
  },
  {
   "cell_type": "code",
   "execution_count": 27,
   "metadata": {},
   "outputs": [],
   "source": [
    "# column명 변경하기\n",
    "df_column = pd.read_excel('./origin_data/넘블 챌린지 개방데이터 레이아웃.xlsx', sheet_name=0)"
   ]
  },
  {
   "cell_type": "code",
   "execution_count": 28,
   "metadata": {},
   "outputs": [],
   "source": [
    "df_column = df_column[['영문칼럼명', '한글칼럼명']].iloc[:33]\n",
    "df_column = df_column.drop_duplicates().reset_index(drop=True)"
   ]
  },
  {
   "cell_type": "code",
   "execution_count": 29,
   "metadata": {},
   "outputs": [
    {
     "data": {
      "text/html": [
       "<div>\n",
       "<style scoped>\n",
       "    .dataframe tbody tr th:only-of-type {\n",
       "        vertical-align: middle;\n",
       "    }\n",
       "\n",
       "    .dataframe tbody tr th {\n",
       "        vertical-align: top;\n",
       "    }\n",
       "\n",
       "    .dataframe thead th {\n",
       "        text-align: right;\n",
       "    }\n",
       "</style>\n",
       "<table border=\"1\" class=\"dataframe\">\n",
       "  <thead>\n",
       "    <tr style=\"text-align: right;\">\n",
       "      <th></th>\n",
       "      <th>영문칼럼명</th>\n",
       "      <th>한글칼럼명</th>\n",
       "    </tr>\n",
       "  </thead>\n",
       "  <tbody>\n",
       "    <tr>\n",
       "      <th>0</th>\n",
       "      <td>BIZ_NO</td>\n",
       "      <td>사업자등록번호</td>\n",
       "    </tr>\n",
       "    <tr>\n",
       "      <th>1</th>\n",
       "      <td>CMP_PFIX_NM</td>\n",
       "      <td>기업접두명</td>\n",
       "    </tr>\n",
       "    <tr>\n",
       "      <th>2</th>\n",
       "      <td>CMP_NM</td>\n",
       "      <td>기업명</td>\n",
       "    </tr>\n",
       "    <tr>\n",
       "      <th>3</th>\n",
       "      <td>CMP_SFIX_NM</td>\n",
       "      <td>기업접미명</td>\n",
       "    </tr>\n",
       "    <tr>\n",
       "      <th>4</th>\n",
       "      <td>CMP_ENM</td>\n",
       "      <td>기업영문명</td>\n",
       "    </tr>\n",
       "    <tr>\n",
       "      <th>5</th>\n",
       "      <td>BZ_TYP</td>\n",
       "      <td>업종</td>\n",
       "    </tr>\n",
       "    <tr>\n",
       "      <th>6</th>\n",
       "      <td>CMP_SCL</td>\n",
       "      <td>기업규모</td>\n",
       "    </tr>\n",
       "    <tr>\n",
       "      <th>7</th>\n",
       "      <td>PBCO_GB</td>\n",
       "      <td>공기업구분 1.공기업 2.일반기업</td>\n",
       "    </tr>\n",
       "    <tr>\n",
       "      <th>8</th>\n",
       "      <td>PSN_CORP_GB</td>\n",
       "      <td>개인법인구분 1.법인 2.개인</td>\n",
       "    </tr>\n",
       "    <tr>\n",
       "      <th>9</th>\n",
       "      <td>HDOF_BR_GB</td>\n",
       "      <td>본점지점구분 1.본점 2.지점</td>\n",
       "    </tr>\n",
       "    <tr>\n",
       "      <th>10</th>\n",
       "      <td>FR_IVST_CORP_YN</td>\n",
       "      <td>국외투자법인여부</td>\n",
       "    </tr>\n",
       "    <tr>\n",
       "      <th>11</th>\n",
       "      <td>VENT_YN</td>\n",
       "      <td>벤처기업여부</td>\n",
       "    </tr>\n",
       "    <tr>\n",
       "      <th>12</th>\n",
       "      <td>LIST_CD</td>\n",
       "      <td>상장코드</td>\n",
       "    </tr>\n",
       "    <tr>\n",
       "      <th>13</th>\n",
       "      <td>IND_CD_ORDR</td>\n",
       "      <td>산업코드차수</td>\n",
       "    </tr>\n",
       "    <tr>\n",
       "      <th>14</th>\n",
       "      <td>IND_CD1</td>\n",
       "      <td>산업코드1</td>\n",
       "    </tr>\n",
       "    <tr>\n",
       "      <th>15</th>\n",
       "      <td>IND_CD2</td>\n",
       "      <td>산업코드2</td>\n",
       "    </tr>\n",
       "    <tr>\n",
       "      <th>16</th>\n",
       "      <td>IND_CD3</td>\n",
       "      <td>산업코드3</td>\n",
       "    </tr>\n",
       "    <tr>\n",
       "      <th>17</th>\n",
       "      <td>PB_ORG_TYP</td>\n",
       "      <td>공공기관유형</td>\n",
       "    </tr>\n",
       "    <tr>\n",
       "      <th>18</th>\n",
       "      <td>MDSCO_PRTC_YN</td>\n",
       "      <td>중견기업보호여부</td>\n",
       "    </tr>\n",
       "    <tr>\n",
       "      <th>19</th>\n",
       "      <td>HDOF_CMP_CD</td>\n",
       "      <td>본점기업코드</td>\n",
       "    </tr>\n",
       "    <tr>\n",
       "      <th>20</th>\n",
       "      <td>ESTB_DATE</td>\n",
       "      <td>설립일자</td>\n",
       "    </tr>\n",
       "    <tr>\n",
       "      <th>21</th>\n",
       "      <td>ESTB_GB</td>\n",
       "      <td>설립구분</td>\n",
       "    </tr>\n",
       "    <tr>\n",
       "      <th>22</th>\n",
       "      <td>LIST_DATE</td>\n",
       "      <td>상장일자</td>\n",
       "    </tr>\n",
       "    <tr>\n",
       "      <th>23</th>\n",
       "      <td>MN_BIZ_CONT</td>\n",
       "      <td>주요사업내용</td>\n",
       "    </tr>\n",
       "    <tr>\n",
       "      <th>24</th>\n",
       "      <td>NATN_NM</td>\n",
       "      <td>국가명</td>\n",
       "    </tr>\n",
       "    <tr>\n",
       "      <th>25</th>\n",
       "      <td>HOMEPAGE_URL</td>\n",
       "      <td>홈페이지URL</td>\n",
       "    </tr>\n",
       "    <tr>\n",
       "      <th>26</th>\n",
       "      <td>CEO_NM</td>\n",
       "      <td>대표자명</td>\n",
       "    </tr>\n",
       "    <tr>\n",
       "      <th>27</th>\n",
       "      <td>EMP_CNT</td>\n",
       "      <td>직원수</td>\n",
       "    </tr>\n",
       "    <tr>\n",
       "      <th>28</th>\n",
       "      <td>END_DATE</td>\n",
       "      <td>종료일자</td>\n",
       "    </tr>\n",
       "    <tr>\n",
       "      <th>29</th>\n",
       "      <td>STRT_DATE</td>\n",
       "      <td>시작일자</td>\n",
       "    </tr>\n",
       "    <tr>\n",
       "      <th>30</th>\n",
       "      <td>CLSBZ_GB</td>\n",
       "      <td>휴폐업구분</td>\n",
       "    </tr>\n",
       "    <tr>\n",
       "      <th>31</th>\n",
       "      <td>STAT_OCR_DATE</td>\n",
       "      <td>상태발생일자</td>\n",
       "    </tr>\n",
       "  </tbody>\n",
       "</table>\n",
       "</div>"
      ],
      "text/plain": [
       "              영문칼럼명               한글칼럼명\n",
       "0            BIZ_NO             사업자등록번호\n",
       "1       CMP_PFIX_NM               기업접두명\n",
       "2            CMP_NM                 기업명\n",
       "3       CMP_SFIX_NM               기업접미명\n",
       "4           CMP_ENM               기업영문명\n",
       "5            BZ_TYP                  업종\n",
       "6           CMP_SCL                기업규모\n",
       "7           PBCO_GB  공기업구분 1.공기업 2.일반기업\n",
       "8       PSN_CORP_GB    개인법인구분 1.법인 2.개인\n",
       "9        HDOF_BR_GB    본점지점구분 1.본점 2.지점\n",
       "10  FR_IVST_CORP_YN            국외투자법인여부\n",
       "11          VENT_YN              벤처기업여부\n",
       "12          LIST_CD                상장코드\n",
       "13      IND_CD_ORDR              산업코드차수\n",
       "14          IND_CD1               산업코드1\n",
       "15          IND_CD2               산업코드2\n",
       "16          IND_CD3               산업코드3\n",
       "17       PB_ORG_TYP              공공기관유형\n",
       "18    MDSCO_PRTC_YN            중견기업보호여부\n",
       "19      HDOF_CMP_CD              본점기업코드\n",
       "20        ESTB_DATE                설립일자\n",
       "21          ESTB_GB                설립구분\n",
       "22        LIST_DATE                상장일자\n",
       "23      MN_BIZ_CONT              주요사업내용\n",
       "24          NATN_NM                 국가명\n",
       "25     HOMEPAGE_URL             홈페이지URL\n",
       "26           CEO_NM                대표자명\n",
       "27          EMP_CNT                 직원수\n",
       "28         END_DATE                종료일자\n",
       "29        STRT_DATE                시작일자\n",
       "30         CLSBZ_GB               휴폐업구분\n",
       "31    STAT_OCR_DATE              상태발생일자"
      ]
     },
     "execution_count": 29,
     "metadata": {},
     "output_type": "execute_result"
    }
   ],
   "source": [
    "df_column"
   ]
  },
  {
   "cell_type": "code",
   "execution_count": 30,
   "metadata": {},
   "outputs": [],
   "source": [
    "data_columns = data.columns.tolist()\n",
    "origin_columns = df_column['영문칼럼명'].values\n",
    "new_data_columns = []\n",
    "for col_name in data_columns:\n",
    "    if col_name in origin_columns:\n",
    "        new_data_columns.append(df_column.loc[df_column['영문칼럼명'] == col_name]['한글칼럼명'].values[0])\n",
    "    else:\n",
    "        new_data_columns.append(col_name)"
   ]
  },
  {
   "cell_type": "code",
   "execution_count": 31,
   "metadata": {},
   "outputs": [],
   "source": [
    "data.columns = new_data_columns"
   ]
  },
  {
   "cell_type": "code",
   "execution_count": 32,
   "metadata": {},
   "outputs": [
    {
     "name": "stdout",
     "output_type": "stream",
     "text": [
      "합친 후 데이터의 크기: (36316, 32)\n"
     ]
    }
   ],
   "source": [
    "print(f\"합친 후 데이터의 크기: {data.shape}\")"
   ]
  },
  {
   "cell_type": "markdown",
   "metadata": {},
   "source": [
    "# 5. 데이터 정합성 파악하기\n",
    "- 휴폐업 데이터의 경우, 이력성으로 데이터가 쌓이고, 다양한 입수처로부터 정보를 수집하기 때문에 데이터의 정합성이 맞지 않는 경우가 있을 수 있다.\n",
    "- 따라서 추후 모델링에 악영향을 끼칠 수 있기 때문에 신뢰성있는 가장 최신의 데이터만 사용한다."
   ]
  },
  {
   "cell_type": "code",
   "execution_count": 33,
   "metadata": {},
   "outputs": [],
   "source": [
    "# 휴폐업 이력이 있거나 (휴폐업구분의 값에 업이 들어간 경우(휴업, 폐업, 휴업 취소, 폐업 취소)),\n",
    "# 종료일자가 99991231이 아닌 경우(최신 데이터가 아닌 경우)에 해당하는 row의 index 추출\n",
    "drop_idx = data.loc[(data['휴폐업구분'].str.contains('업')) & (data['종료일자'] != 99991231.0)].index\n",
    "\n",
    "# 추출한 index를 drop\n",
    "df_drop = data.drop(drop_idx)"
   ]
  },
  {
   "cell_type": "code",
   "execution_count": 34,
   "metadata": {},
   "outputs": [
    {
     "name": "stdout",
     "output_type": "stream",
     "text": [
      "정합성이 맞지 않는 595개의 데이터가 제거되었습니다.\n",
      "제거 후 데이터프레임의 크기 (35721, 32)\n"
     ]
    }
   ],
   "source": [
    "print(f\"정합성이 맞지 않는 {data.shape[0] - df_drop.shape[0]}개의 데이터가 제거되었습니다.\")\n",
    "print(f\"제거 후 데이터프레임의 크기 {df_drop.shape}\")"
   ]
  },
  {
   "cell_type": "code",
   "execution_count": 35,
   "metadata": {},
   "outputs": [],
   "source": [
    "# 액티브와 휴폐업 합치고 내보내기\n",
    "df_drop.to_csv('./custom_data/active_closed_all.csv', encoding='cp949', index=False)"
   ]
  },
  {
   "cell_type": "markdown",
   "metadata": {},
   "source": [
    "# 5. 재무 데이터와 비재무 데이터(기업 개요) 합치기\n",
    "- 기업 당 사업자등록번호가 고유한 값이기 때문에 사업자등록번호를 기준으로 합친다."
   ]
  },
  {
   "cell_type": "code",
   "execution_count": 36,
   "metadata": {},
   "outputs": [
    {
     "data": {
      "text/plain": [
       "(109142, 35721)"
      ]
     },
     "execution_count": 36,
     "metadata": {},
     "output_type": "execute_result"
    }
   ],
   "source": [
    "finance.shape[0], df_drop.shape[0]"
   ]
  },
  {
   "cell_type": "code",
   "execution_count": 37,
   "metadata": {},
   "outputs": [
    {
     "data": {
      "text/plain": [
       "Index(['사업자번호', '결산년월', '유동자산', '매출채권', '비유동자산', '유형자산', '자산총계', '유동부채',\n",
       "       '비유동부채', '부  채  총  계', '자본금', '이익잉여금(결손금）', '자본총계', '매출액', '판매비와관리비',\n",
       "       '영업이익（손실）', '법인세비용차감전순손익', '법인세비용', '당기순이익(손실)', '기업순이익률(%)',\n",
       "       '유보액/총자산(%)', '유보액/납입자본(%)', '매출액총이익률(%)', '매출액영업이익률(%)', '매출액순이익률(%)',\n",
       "       '수지비율(%)', '경상수지비율', '영업비율(%)', '금융비용대매출액비율(%', '금융비용대부채비율(%)',\n",
       "       '금융비용대총비용비율(%', '부채비율(%)', '차입금의존도(%)', '자기자본비율(%)', '순운전자본비율(%)',\n",
       "       '유동부채비율(%)', '비유동부채비율(%)', '부채총계대 매출액(%)', '총자본회전율(회)', '재고자산회전율(회)',\n",
       "       '매출채권회전율(회)', '매입채무회전율(회)', '미수금', '매출원가', '무형자산', '재고자산'],\n",
       "      dtype='object')"
      ]
     },
     "execution_count": 37,
     "metadata": {},
     "output_type": "execute_result"
    }
   ],
   "source": [
    "finance.columns"
   ]
  },
  {
   "cell_type": "code",
   "execution_count": 38,
   "metadata": {},
   "outputs": [],
   "source": [
    "# 데이터를 합칠 key에 해당하는 feature name 변경\n",
    "finance.rename(columns={'사업자번호':'사업자등록번호'}, inplace=True)"
   ]
  },
  {
   "cell_type": "markdown",
   "metadata": {},
   "source": [
    "- 기업의 연도별 결산 데이터를 확인해야하기 때문에 재무 데이터를 기준으로 두고 기업 개요 데이터를 합친다."
   ]
  },
  {
   "cell_type": "code",
   "execution_count": 39,
   "metadata": {},
   "outputs": [],
   "source": [
    "financial_and_corporation = pd.merge(finance, df_drop, how='inner', on='사업자등록번호')"
   ]
  },
  {
   "cell_type": "code",
   "execution_count": 40,
   "metadata": {},
   "outputs": [
    {
     "name": "stdout",
     "output_type": "stream",
     "text": [
      "재무 데이터와 비재무 데이터를 합친 후 크기: (109142, 77)\n"
     ]
    }
   ],
   "source": [
    "print(f\"재무 데이터와 비재무 데이터를 합친 후 크기: {financial_and_corporation.shape}\")"
   ]
  },
  {
   "cell_type": "markdown",
   "metadata": {},
   "source": [
    "# 6. 내보내기"
   ]
  },
  {
   "cell_type": "code",
   "execution_count": 41,
   "metadata": {},
   "outputs": [],
   "source": [
    "financial_and_corporation.to_csv('./custom_data/base_data.csv', encoding='cp949', index=False)"
   ]
  }
 ],
 "metadata": {
  "kernelspec": {
   "display_name": "Python 3.8.13 ('cabta')",
   "language": "python",
   "name": "python3"
  },
  "language_info": {
   "codemirror_mode": {
    "name": "ipython",
    "version": 3
   },
   "file_extension": ".py",
   "mimetype": "text/x-python",
   "name": "python",
   "nbconvert_exporter": "python",
   "pygments_lexer": "ipython3",
   "version": "3.8.13"
  },
  "orig_nbformat": 4,
  "vscode": {
   "interpreter": {
    "hash": "a063b7be1b1d22be0fca1b26cf478769b2ebdd8896aff1eef11b858cbacfa39b"
   }
  }
 },
 "nbformat": 4,
 "nbformat_minor": 2
}
